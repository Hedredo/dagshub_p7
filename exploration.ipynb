{
  "cells": [
    {
      "cell_type": "markdown",
      "metadata": {
        "colab_type": "text",
        "id": "view-in-github"
      },
      "source": [
        "<a href=\"https://colab.research.google.com/github/Hedredo/dagshub_p7/blob/main/exploration.ipynb\" target=\"_parent\"><img src=\"https://colab.research.google.com/assets/colab-badge.svg\" alt=\"Open In Colab\"/></a>"
      ]
    },
    {
      "cell_type": "markdown",
      "metadata": {
        "id": "x8toksSU9EOt"
      },
      "source": [
        "# **Work in Progress**\n",
        "\n",
        "**MLFlow**\n",
        "- Ajouter une description aux runs mlflow\n",
        "- Résoudre les dernières erreurs sur un run mlflow\n",
        "- Ajouter en artifact la matrice de confusion et tester la fonction `plot_confusion_matrix` de `sklearn`\n",
        "- Ajouter en artifact la courbe ROC et tester la fonction `plot_roc_curve` de `sklearn`\n",
        "- Simplifier les appels aux différents paramètres et variables pour automatiser simplement le process\n",
        "- Créer un pipeline pour le tfidf\n",
        "- Créer une grille d'hyperparamètres pour le tfidf\n",
        "- Créer une grille d'hyperparamètres pour le modèle\n",
        "- Créer une fonction pour tester les différents modèles\n",
        "- Créer une liste des architectures preprocessing + modèle + hyperparamètres\n",
        "- Utiliser mflow.log_dict pour les hyperparamètres du preprocessing\n",
        "- Finaliser la fonction de preprocessing avec des True/False pour les différentes étapes en match_case\n",
        "\n",
        "\n",
        "**Modèle RN inspiré de KERAS**\n",
        "- Créer un modèle de réseaux de neurones inspiré de KERAS"
      ]
    },
    {
      "cell_type": "markdown",
      "metadata": {
        "id": "3SeCRp5TWz-P"
      },
      "source": [
        "# **Configuration de l'environnement**"
      ]
    },
    {
      "cell_type": "code",
      "execution_count": 7,
      "metadata": {
        "id": "AgChoQUZ97AN"
      },
      "outputs": [],
      "source": [
        "import dagshub\n",
        "import mlflow\n",
        "import warnings\n",
        "import pandas as pd\n",
        "import os\n",
        "import tensorflow as tf\n",
        "import numpy as np\n",
        "import matplotlib.pyplot as plt\n",
        "import seaborn as sns\n",
        "import torch\n",
        "import spacy\n",
        "from spacy_langdetect import LanguageDetector\n",
        "from spacy.language import Language\n",
        "from spacymoji import Emoji\n",
        "from nltk.tokenize import TweetTokenizer\n",
        "import time\n",
        "from sklearn.model_selection import train_test_split\n",
        "from sklearn.preprocessing import LabelEncoder\n",
        "from collections import defaultdict\n",
        "from tqdm import tqdm\n",
        "from sklearn.naive_bayes import MultinomialNB\n",
        "from sklearn.linear_model import LogisticRegression\n",
        "from sklearn.model_selection import cross_validate\n",
        "from sklearn.feature_extraction.text import TfidfVectorizer\n",
        "from functools import partial\n"
      ]
    },
    {
      "cell_type": "code",
      "execution_count": 8,
      "metadata": {
        "colab": {
          "base_uri": "https://localhost:8080/"
        },
        "id": "iQXWFolR6wXT",
        "outputId": "548293ed-f323-4b92-9768-faf4a4e46368"
      },
      "outputs": [
        {
          "name": "stdout",
          "output_type": "stream",
          "text": [
            "Tensorflow framework: GPU is available\n",
            "Pytorch framework: CUDA is NOT AVAILABLE\n"
          ]
        }
      ],
      "source": [
        "# Check if GPU and CUDA are available\n",
        "gpu = tf.config.list_physical_devices(\"GPU\")\n",
        "cuda = torch.cuda.is_available()\n",
        "print(\"Tensorflow framework: GPU is\", \"available\" if gpu else \"NOT AVAILABLE\")\n",
        "print(\"Pytorch framework: CUDA is\", \"available\" if cuda else \"NOT AVAILABLE\")"
      ]
    },
    {
      "cell_type": "code",
      "execution_count": 9,
      "metadata": {
        "colab": {
          "base_uri": "https://localhost:8080/",
          "height": 229,
          "referenced_widgets": [
            "185b3fd51a024e08a306a6e0637acdd9",
            "e63383a6a9734f0f827bd482cc6b3ed5"
          ]
        },
        "id": "RaoRSbYq-DUX",
        "outputId": "f6b7909d-d4e0-48e6-c5d1-f6deabc77c2a"
      },
      "outputs": [
        {
          "data": {
            "text/html": [
              "<pre style=\"white-space:pre;overflow-x:auto;line-height:normal;font-family:Menlo,'DejaVu Sans Mono',consolas,'Courier New',monospace\">Initialized MLflow to track repo <span style=\"color: #008000; text-decoration-color: #008000\">\"hedredo/dagshub_p7\"</span>\n",
              "</pre>\n"
            ],
            "text/plain": [
              "Initialized MLflow to track repo \u001b[32m\"hedredo/dagshub_p7\"\u001b[0m\n"
            ]
          },
          "metadata": {},
          "output_type": "display_data"
        },
        {
          "data": {
            "text/html": [
              "<pre style=\"white-space:pre;overflow-x:auto;line-height:normal;font-family:Menlo,'DejaVu Sans Mono',consolas,'Courier New',monospace\">Repository hedredo/dagshub_p7 initialized!\n",
              "</pre>\n"
            ],
            "text/plain": [
              "Repository hedredo/dagshub_p7 initialized!\n"
            ]
          },
          "metadata": {},
          "output_type": "display_data"
        },
        {
          "name": "stdout",
          "output_type": "stream",
          "text": [
            "Random seed set to 314\n"
          ]
        }
      ],
      "source": [
        "# Remove FutureWarning alerts\n",
        "warnings.filterwarnings(\"ignore\", category=FutureWarning)\n",
        "\n",
        "# Initialize dagshub repo\n",
        "try:\n",
        "    dagshub.init(repo_owner=\"hedredo\", repo_name=\"dagshub_p7\", mlflow=True)\n",
        "    mlflow.set_experiment(\"p7\")\n",
        "except Exception as e:\n",
        "    print(\"Dagshub repo can't be initialized:\", e)\n",
        "\n",
        "# Initialiser tqdm pour pandas\n",
        "tqdm.pandas()\n",
        "\n",
        "# Set a random seed\n",
        "SEED = 314\n",
        "np.random.seed(SEED)\n",
        "print(\"Random seed set to\", SEED)"
      ]
    },
    {
      "cell_type": "markdown",
      "metadata": {
        "id": "-vtiCJZZ7iGz"
      },
      "source": [
        "# **Chargement des données**"
      ]
    },
    {
      "cell_type": "code",
      "execution_count": 10,
      "metadata": {
        "id": "6xtWYfH2XGvn"
      },
      "outputs": [],
      "source": [
        "# Path to the csv file\n",
        "path = \"./data/raw/training.1600000.processed.noemoticon.csv\""
      ]
    },
    {
      "cell_type": "code",
      "execution_count": 11,
      "metadata": {
        "id": "xHMKuU6zXVgQ"
      },
      "outputs": [],
      "source": [
        "# Read the file\n",
        "df = pd.read_csv(\n",
        "    path,\n",
        "    header=None,\n",
        "    names=[\"target\", \"ids\", \"date\", \"flag\", \"user\", \"text\"],\n",
        "    usecols=[\"target\", \"ids\", \"date\", \"user\", \"text\"],  # remove flag column\n",
        "    parse_dates=[\"date\"],\n",
        "    encoding=\"utf-8\",\n",
        "    encoding_errors=\"replace\",  # replace the errors with unicode symbol � (U+FFFD)\n",
        ").sort_values(by=\"date\", ascending=True)"
      ]
    },
    {
      "cell_type": "code",
      "execution_count": 12,
      "metadata": {
        "colab": {
          "base_uri": "https://localhost:8080/"
        },
        "id": "9SzHxOZ2-pY2",
        "outputId": "b6bbea83-46b7-4b11-dacb-e272b0697bad"
      },
      "outputs": [
        {
          "name": "stdout",
          "output_type": "stream",
          "text": [
            "<class 'pandas.core.frame.DataFrame'>\n",
            "Index: 1600000 entries, 0 to 799999\n",
            "Data columns (total 5 columns):\n",
            " #   Column  Non-Null Count    Dtype         \n",
            "---  ------  --------------    -----         \n",
            " 0   target  1600000 non-null  int64         \n",
            " 1   ids     1600000 non-null  int64         \n",
            " 2   date    1600000 non-null  datetime64[ns]\n",
            " 3   user    1600000 non-null  object        \n",
            " 4   text    1600000 non-null  object        \n",
            "dtypes: datetime64[ns](1), int64(2), object(2)\n",
            "memory usage: 73.2+ MB\n"
          ]
        }
      ],
      "source": [
        "df.info()"
      ]
    },
    {
      "cell_type": "markdown",
      "metadata": {},
      "source": [
        "# **Analyse pré-exploratoire et préparation des données**"
      ]
    },
    {
      "cell_type": "code",
      "execution_count": 13,
      "metadata": {},
      "outputs": [
        {
          "name": "stderr",
          "output_type": "stream",
          "text": [
            "100%|██████████| 1600000/1600000 [00:02<00:00, 615040.60it/s] \n",
            "100%|██████████| 1600000/1600000 [00:02<00:00, 602374.78it/s] \n",
            "100%|██████████| 1600000/1600000 [00:02<00:00, 706542.07it/s] \n"
          ]
        }
      ],
      "source": [
        "# Initialize the encoder\n",
        "encoder = LabelEncoder()\n",
        "\n",
        "# Encode the desired columns\n",
        "for col in [\"ids\", \"user\"]:\n",
        "    df[col] = encoder.fit_transform(df[col])\n",
        "\n",
        "# Replace 4 with 1 in the target column\n",
        "df[\"target\"] = df[\"target\"].replace(4, 1)\n",
        "\n",
        "# Finally, create new columns for month, day, and hour and drop date\n",
        "df = df.assign(\n",
        "    **{\n",
        "        \"month\": lambda x: x.date.progress_apply(lambda x: x.month),\n",
        "        \"day\": lambda x: x.date.progress_apply(lambda x: x.day),\n",
        "        \"hour\": lambda x: x.date.progress_apply(lambda x: x.hour),\n",
        "    }\n",
        ").drop(columns=[\"date\"])"
      ]
    },
    {
      "cell_type": "code",
      "execution_count": 14,
      "metadata": {},
      "outputs": [],
      "source": [
        "# Convert the datatypes to save memory\n",
        "df = df.astype(\n",
        "    {\n",
        "        \"target\": \"int8\",\n",
        "        \"ids\": \"int32\",\n",
        "        \"user\": \"int32\",\n",
        "        \"month\": \"int8\",\n",
        "        \"day\": \"int8\",\n",
        "        \"hour\": \"int8\",\n",
        "    }\n",
        ")"
      ]
    },
    {
      "cell_type": "code",
      "execution_count": 15,
      "metadata": {},
      "outputs": [
        {
          "data": {
            "text/html": [
              "<div>\n",
              "<style scoped>\n",
              "    .dataframe tbody tr th:only-of-type {\n",
              "        vertical-align: middle;\n",
              "    }\n",
              "\n",
              "    .dataframe tbody tr th {\n",
              "        vertical-align: top;\n",
              "    }\n",
              "\n",
              "    .dataframe thead th {\n",
              "        text-align: right;\n",
              "    }\n",
              "</style>\n",
              "<table border=\"1\" class=\"dataframe\">\n",
              "  <thead>\n",
              "    <tr style=\"text-align: right;\">\n",
              "      <th></th>\n",
              "      <th>target</th>\n",
              "      <th>ids</th>\n",
              "      <th>user</th>\n",
              "      <th>text</th>\n",
              "      <th>month</th>\n",
              "      <th>day</th>\n",
              "      <th>hour</th>\n",
              "    </tr>\n",
              "  </thead>\n",
              "  <tbody>\n",
              "    <tr>\n",
              "      <th>0</th>\n",
              "      <td>0</td>\n",
              "      <td>0</td>\n",
              "      <td>242711</td>\n",
              "      <td>@switchfoot http://twitpic.com/2y1zl - Awww, t...</td>\n",
              "      <td>4</td>\n",
              "      <td>6</td>\n",
              "      <td>22</td>\n",
              "    </tr>\n",
              "    <tr>\n",
              "      <th>1</th>\n",
              "      <td>0</td>\n",
              "      <td>1</td>\n",
              "      <td>577449</td>\n",
              "      <td>is upset that he can't update his Facebook by ...</td>\n",
              "      <td>4</td>\n",
              "      <td>6</td>\n",
              "      <td>22</td>\n",
              "    </tr>\n",
              "    <tr>\n",
              "      <th>2</th>\n",
              "      <td>0</td>\n",
              "      <td>2</td>\n",
              "      <td>490699</td>\n",
              "      <td>@Kenichan I dived many times for the ball. Man...</td>\n",
              "      <td>4</td>\n",
              "      <td>6</td>\n",
              "      <td>22</td>\n",
              "    </tr>\n",
              "    <tr>\n",
              "      <th>3</th>\n",
              "      <td>0</td>\n",
              "      <td>3</td>\n",
              "      <td>65794</td>\n",
              "      <td>my whole body feels itchy and like its on fire</td>\n",
              "      <td>4</td>\n",
              "      <td>6</td>\n",
              "      <td>22</td>\n",
              "    </tr>\n",
              "    <tr>\n",
              "      <th>4</th>\n",
              "      <td>0</td>\n",
              "      <td>4</td>\n",
              "      <td>113308</td>\n",
              "      <td>@nationwideclass no, it's not behaving at all....</td>\n",
              "      <td>4</td>\n",
              "      <td>6</td>\n",
              "      <td>22</td>\n",
              "    </tr>\n",
              "  </tbody>\n",
              "</table>\n",
              "</div>"
            ],
            "text/plain": [
              "   target  ids    user                                               text  \\\n",
              "0       0    0  242711  @switchfoot http://twitpic.com/2y1zl - Awww, t...   \n",
              "1       0    1  577449  is upset that he can't update his Facebook by ...   \n",
              "2       0    2  490699  @Kenichan I dived many times for the ball. Man...   \n",
              "3       0    3   65794    my whole body feels itchy and like its on fire    \n",
              "4       0    4  113308  @nationwideclass no, it's not behaving at all....   \n",
              "\n",
              "   month  day  hour  \n",
              "0      4    6    22  \n",
              "1      4    6    22  \n",
              "2      4    6    22  \n",
              "3      4    6    22  \n",
              "4      4    6    22  "
            ]
          },
          "execution_count": 15,
          "metadata": {},
          "output_type": "execute_result"
        }
      ],
      "source": [
        "df.head()"
      ]
    },
    {
      "cell_type": "code",
      "execution_count": 16,
      "metadata": {},
      "outputs": [
        {
          "name": "stdout",
          "output_type": "stream",
          "text": [
            "0 duplicata trouvé.\n",
            "0 duplicata trouvé sur les colonnes ids, target et text.\n"
          ]
        }
      ],
      "source": [
        "print(df.duplicated().sum(), \"duplicata trouvé.\")\n",
        "print(\n",
        "    df.duplicated(subset=[\"ids\", \"target\", \"text\"]).sum(),\n",
        "    \"duplicata trouvé sur les colonnes ids, target et text.\",\n",
        ")"
      ]
    },
    {
      "cell_type": "code",
      "execution_count": 17,
      "metadata": {},
      "outputs": [
        {
          "name": "stdout",
          "output_type": "stream",
          "text": [
            "Nombre de tweets uniques:  1598315\n",
            "Nombre de tweets annotés à la fois positivement et négativement:  1685\n"
          ]
        }
      ],
      "source": [
        "print(\"Nombre de tweets uniques: \", df[\"ids\"].nunique())\n",
        "print(\n",
        "    \"Nombre de tweets annotés à la fois positivement et négativement: \",\n",
        "    df[\"ids\"].size - df[\"ids\"].nunique(),\n",
        ")"
      ]
    },
    {
      "cell_type": "markdown",
      "metadata": {},
      "source": [
        "On doit retirer ces tweets qui ont deux valeurs car cela va complexifier la capacité du modèle a bien séparé les classes s'ils sont ambiguës.<br>\n",
        "Regardons un exemple de tweet avec deux valeurs:"
      ]
    },
    {
      "cell_type": "code",
      "execution_count": 18,
      "metadata": {},
      "outputs": [
        {
          "data": {
            "text/html": [
              "<div>\n",
              "<style scoped>\n",
              "    .dataframe tbody tr th:only-of-type {\n",
              "        vertical-align: middle;\n",
              "    }\n",
              "\n",
              "    .dataframe tbody tr th {\n",
              "        vertical-align: top;\n",
              "    }\n",
              "\n",
              "    .dataframe thead th {\n",
              "        text-align: right;\n",
              "    }\n",
              "</style>\n",
              "<table border=\"1\" class=\"dataframe\">\n",
              "  <thead>\n",
              "    <tr style=\"text-align: right;\">\n",
              "      <th></th>\n",
              "      <th>text</th>\n",
              "      <th>target</th>\n",
              "    </tr>\n",
              "  </thead>\n",
              "  <tbody>\n",
              "    <tr>\n",
              "      <th>800261</th>\n",
              "      <td>Awwh babs... you look so sad underneith that shop entrance of &amp;quot;Yesterday's Musik&amp;quot;  O-: I like the look of the new transformer movie</td>\n",
              "      <td>1</td>\n",
              "    </tr>\n",
              "    <tr>\n",
              "      <th>213</th>\n",
              "      <td>Awwh babs... you look so sad underneith that shop entrance of &amp;quot;Yesterday's Musik&amp;quot;  O-: I like the look of the new transformer movie</td>\n",
              "      <td>0</td>\n",
              "    </tr>\n",
              "    <tr>\n",
              "      <th>800300</th>\n",
              "      <td>Haven't tweeted nearly all day  Posted my website tonight, hopefully that goes well  Night time!</td>\n",
              "      <td>1</td>\n",
              "    </tr>\n",
              "    <tr>\n",
              "      <th>275</th>\n",
              "      <td>Haven't tweeted nearly all day  Posted my website tonight, hopefully that goes well  Night time!</td>\n",
              "      <td>0</td>\n",
              "    </tr>\n",
              "  </tbody>\n",
              "</table>\n",
              "</div>"
            ],
            "text/plain": [
              "                                                                                                                                                  text  \\\n",
              "800261  Awwh babs... you look so sad underneith that shop entrance of &quot;Yesterday's Musik&quot;  O-: I like the look of the new transformer movie    \n",
              "213     Awwh babs... you look so sad underneith that shop entrance of &quot;Yesterday's Musik&quot;  O-: I like the look of the new transformer movie    \n",
              "800300                                                Haven't tweeted nearly all day  Posted my website tonight, hopefully that goes well  Night time!   \n",
              "275                                                   Haven't tweeted nearly all day  Posted my website tonight, hopefully that goes well  Night time!   \n",
              "\n",
              "        target  \n",
              "800261       1  \n",
              "213          0  \n",
              "800300       1  \n",
              "275          0  "
            ]
          },
          "metadata": {},
          "output_type": "display_data"
        }
      ],
      "source": [
        "# Display 4 examples of duplicated rows with both positive and negative target\n",
        "with pd.option_context(\"display.max_colwidth\", 150):\n",
        "    display(df.loc[df[\"ids\"].duplicated(keep=False), [\"text\", \"target\"]].head(4))"
      ]
    },
    {
      "cell_type": "code",
      "execution_count": 19,
      "metadata": {},
      "outputs": [
        {
          "name": "stdout",
          "output_type": "stream",
          "text": [
            "Nouvelle taille du jeu de données après suppression des duplicata sur ids:  1596630\n"
          ]
        }
      ],
      "source": [
        "# Drop duplicates ids with both positive and negative target\n",
        "df = df.drop_duplicates(subset=[\"ids\"], keep=False)\n",
        "print(\n",
        "    \"Nouvelle taille du jeu de données après suppression des duplicata sur ids: \",\n",
        "    len(df),\n",
        ")"
      ]
    },
    {
      "cell_type": "markdown",
      "metadata": {},
      "source": [
        "# **Exploration des données**"
      ]
    },
    {
      "cell_type": "code",
      "execution_count": 20,
      "metadata": {},
      "outputs": [
        {
          "data": {
            "text/html": [
              "<div>\n",
              "<style scoped>\n",
              "    .dataframe tbody tr th:only-of-type {\n",
              "        vertical-align: middle;\n",
              "    }\n",
              "\n",
              "    .dataframe tbody tr th {\n",
              "        vertical-align: top;\n",
              "    }\n",
              "\n",
              "    .dataframe thead th {\n",
              "        text-align: right;\n",
              "    }\n",
              "</style>\n",
              "<table border=\"1\" class=\"dataframe\">\n",
              "  <thead>\n",
              "    <tr style=\"text-align: right;\">\n",
              "      <th></th>\n",
              "      <th>target</th>\n",
              "      <th>ids</th>\n",
              "      <th>user</th>\n",
              "      <th>month</th>\n",
              "      <th>day</th>\n",
              "      <th>hour</th>\n",
              "    </tr>\n",
              "  </thead>\n",
              "  <tbody>\n",
              "    <tr>\n",
              "      <th>count</th>\n",
              "      <td>1596630.00</td>\n",
              "      <td>1596630.00</td>\n",
              "      <td>1596630.00</td>\n",
              "      <td>1596630.00</td>\n",
              "      <td>1596630.00</td>\n",
              "      <td>1596630.00</td>\n",
              "    </tr>\n",
              "    <tr>\n",
              "      <th>mean</th>\n",
              "      <td>0.50</td>\n",
              "      <td>799301.29</td>\n",
              "      <td>330323.25</td>\n",
              "      <td>5.51</td>\n",
              "      <td>14.81</td>\n",
              "      <td>10.96</td>\n",
              "    </tr>\n",
              "    <tr>\n",
              "      <th>std</th>\n",
              "      <td>0.50</td>\n",
              "      <td>461450.15</td>\n",
              "      <td>191341.79</td>\n",
              "      <td>0.61</td>\n",
              "      <td>9.79</td>\n",
              "      <td>7.22</td>\n",
              "    </tr>\n",
              "    <tr>\n",
              "      <th>min</th>\n",
              "      <td>0.00</td>\n",
              "      <td>0.00</td>\n",
              "      <td>0.00</td>\n",
              "      <td>4.00</td>\n",
              "      <td>1.00</td>\n",
              "      <td>0.00</td>\n",
              "    </tr>\n",
              "    <tr>\n",
              "      <th>25%</th>\n",
              "      <td>0.00</td>\n",
              "      <td>399669.25</td>\n",
              "      <td>164668.00</td>\n",
              "      <td>5.00</td>\n",
              "      <td>6.00</td>\n",
              "      <td>5.00</td>\n",
              "    </tr>\n",
              "    <tr>\n",
              "      <th>50%</th>\n",
              "      <td>0.50</td>\n",
              "      <td>799342.50</td>\n",
              "      <td>329997.00</td>\n",
              "      <td>6.00</td>\n",
              "      <td>16.00</td>\n",
              "      <td>10.00</td>\n",
              "    </tr>\n",
              "    <tr>\n",
              "      <th>75%</th>\n",
              "      <td>1.00</td>\n",
              "      <td>1199004.75</td>\n",
              "      <td>496888.75</td>\n",
              "      <td>6.00</td>\n",
              "      <td>21.00</td>\n",
              "      <td>18.00</td>\n",
              "    </tr>\n",
              "    <tr>\n",
              "      <th>max</th>\n",
              "      <td>1.00</td>\n",
              "      <td>1598314.00</td>\n",
              "      <td>659774.00</td>\n",
              "      <td>6.00</td>\n",
              "      <td>31.00</td>\n",
              "      <td>23.00</td>\n",
              "    </tr>\n",
              "  </tbody>\n",
              "</table>\n",
              "</div>"
            ],
            "text/plain": [
              "          target        ids       user      month        day       hour\n",
              "count 1596630.00 1596630.00 1596630.00 1596630.00 1596630.00 1596630.00\n",
              "mean        0.50  799301.29  330323.25       5.51      14.81      10.96\n",
              "std         0.50  461450.15  191341.79       0.61       9.79       7.22\n",
              "min         0.00       0.00       0.00       4.00       1.00       0.00\n",
              "25%         0.00  399669.25  164668.00       5.00       6.00       5.00\n",
              "50%         0.50  799342.50  329997.00       6.00      16.00      10.00\n",
              "75%         1.00 1199004.75  496888.75       6.00      21.00      18.00\n",
              "max         1.00 1598314.00  659774.00       6.00      31.00      23.00"
            ]
          },
          "metadata": {},
          "output_type": "display_data"
        }
      ],
      "source": [
        "# Display the summary statistics of numerical columns\n",
        "with pd.option_context(\n",
        "    \"display.max_colwidth\", 100, \"display.float_format\", \"{:.2f}\".format\n",
        "):\n",
        "    display(df.describe())"
      ]
    },
    {
      "cell_type": "code",
      "execution_count": 21,
      "metadata": {},
      "outputs": [
        {
          "data": {
            "text/plain": [
              "count    659502.000000\n",
              "mean          2.420963\n",
              "std           4.697115\n",
              "min           1.000000\n",
              "25%           1.000000\n",
              "50%           1.000000\n",
              "75%           2.000000\n",
              "max         549.000000\n",
              "Name: count, dtype: float64"
            ]
          },
          "execution_count": 21,
          "metadata": {},
          "output_type": "execute_result"
        }
      ],
      "source": [
        "# Statistics of the number of tweets per user\n",
        "df[\"user\"].value_counts().describe()"
      ]
    },
    {
      "cell_type": "code",
      "execution_count": 22,
      "metadata": {},
      "outputs": [
        {
          "data": {
            "image/png": "[encoded data removed]",
            "text/plain": [
              "<Figure size 1600x300 with 1 Axes>"
            ]
          },
          "metadata": {},
          "output_type": "display_data"
        }
      ],
      "source": [
        "# Show a stripplot of the number of tweets per user\n",
        "fig, ax = plt.subplots(figsize=(16, 3))\n",
        "sns.stripplot(\n",
        "    x=df[\"user\"].value_counts(), jitter=0.5, size=2, marker=\"*\", color=\"crimson\", ax=ax\n",
        ")\n",
        "ax.set_title(\"Nombre de tweets par utilisateur\")\n",
        "ax.set_xticks(range(0, 575, 25))\n",
        "plt.show()"
      ]
    },
    {
      "cell_type": "markdown",
      "metadata": {},
      "source": [
        "Un nombre très limité d'utilisateurs tweet énormément alors que la moyenne sur le jeu de données est de 2,4 tweets par utilisateur.<br>\n",
        "Il n'est pas possible de prendre en compte cette variable dans le modèle car elle peut introduire un biais par ces utilisateurs qui tweentent beaucoup.<br>"
      ]
    },
    {
      "cell_type": "code",
      "execution_count": 23,
      "metadata": {},
      "outputs": [],
      "source": [
        "# Creation of a palette with 2 colors, crimson and deepskyblue\n",
        "palette = sns.color_palette([\"crimson\", \"deepskyblue\"])"
      ]
    },
    {
      "cell_type": "code",
      "execution_count": 24,
      "metadata": {},
      "outputs": [
        {
          "data": {
            "image/png": "[encoded data removed]",
            "text/plain": [
              "<Figure size 640x480 with 1 Axes>"
            ]
          },
          "metadata": {},
          "output_type": "display_data"
        }
      ],
      "source": [
        "with sns.axes_style(\"darkgrid\"):\n",
        "    sns.countplot(df, x=\"target\", palette=palette)\n",
        "    plt.title(\"Distribution des classes\", fontweight=\"bold\")\n",
        "    plt.xlabel(\"Classe\")\n",
        "    plt.ylabel(\"Nombre de tweets\")\n",
        "    plt.show()"
      ]
    },
    {
      "cell_type": "code",
      "execution_count": 25,
      "metadata": {},
      "outputs": [
        {
          "data": {
            "image/png": "[encoded data removed]",
            "text/plain": [
              "<Figure size 640x480 with 2 Axes>"
            ]
          },
          "metadata": {},
          "output_type": "display_data"
        }
      ],
      "source": [
        "sns.heatmap(\n",
        "    df.select_dtypes(exclude=[\"object\"]).corr(\"spearman\"),\n",
        "    annot=True,\n",
        "    fmt=\".2f\",\n",
        "    cmap=\"coolwarm\",\n",
        "    center=0,\n",
        "    square=True,\n",
        ")\n",
        "plt.title(\"Spearman Correlation matrix\")\n",
        "plt.show()"
      ]
    },
    {
      "cell_type": "code",
      "execution_count": 26,
      "metadata": {},
      "outputs": [
        {
          "data": {
            "image/png": "[encoded data removed]",
            "text/plain": [
              "<Figure size 1500x400 with 3 Axes>"
            ]
          },
          "metadata": {},
          "output_type": "display_data"
        },
        {
          "data": {
            "image/png": "[encoded data removed]",
            "text/plain": [
              "<Figure size 1500x400 with 3 Axes>"
            ]
          },
          "metadata": {},
          "output_type": "display_data"
        }
      ],
      "source": [
        "# Display the relation between target and the variables month, day, and hour\n",
        "for title, method in zip((\"absolue\", \"relative\"), (\"count\", \"proportion\")):\n",
        "    fig, ax = plt.subplots(1, 3, figsize=(15, 4), sharey=False, tight_layout=True)\n",
        "    fig.suptitle(\n",
        "        f\"Relation en fréquence {title} entre target et les variables temporelles\",\n",
        "        fontweight=\"bold\",\n",
        "        fontsize=16,\n",
        "    )\n",
        "    sns.set_style(\"whitegrid\")\n",
        "    for i, col in enumerate([\"month\", \"day\", \"hour\"]):\n",
        "        sns.barplot(\n",
        "            df.groupby(col)[\"target\"]\n",
        "            .value_counts(normalize=True if title == \"relative\" else False)\n",
        "            .reset_index(),\n",
        "            x=col,\n",
        "            y=method,\n",
        "            hue=\"target\",\n",
        "            palette=palette,\n",
        "            ax=ax[i],\n",
        "        )\n",
        "        ax[i].set_title(f\"Relation entre target et {col}\", fontweight=\"bold\")\n",
        "        ax[i].set_xlabel(col)\n",
        "        ax[i].set_ylabel(\n",
        "            \"Proportion de tweets\" if title == \"relative\" else \"Nombre de tweets\",\n",
        "            fontweight=\"bold\",\n",
        "        )\n",
        "        ax[i].set_xticks(ax[i].get_xticks())\n",
        "        ax[i].set_xticklabels(ax[i].get_xticklabels(), rotation=90)\n",
        "    plt.show()"
      ]
    },
    {
      "cell_type": "markdown",
      "metadata": {},
      "source": [
        "On peut noter que **certaines journées ne sont pas présentes (le 8 et le 12)**.<br>\n",
        "Pour une raison inconnue, les jours 23, 24 et 25 sont uniquement **négatifs**.<br>\n",
        "La répartition des tweets n'est pas uniforme **sur les mois**, avec une concentration beaucoup plus forte en mai (+ de positif) et en juin (+ de négatif) qu'en avril avec la faible relation linéaire négative identifiée dans la matrice de corrélation.<br>\n",
        "\n",
        "On identifie deux relations non linéaires à:\n",
        "- **l'échelle journalière**: Les tweets négatifs sont plus fréquents en milieu de mois et les tweets positifs en début et fin de mois.\n",
        "- **l'échelle horaire**: on a un cycle en forme d'ADN, la nuit étant plus propice aux tweets positifs, la tendance s'inversant durant la matinée avant de voir l'après-midi plus propice aux tweets négatifs\n",
        "\n",
        "\n",
        "Dans l'absolu, **seule la variable horaire semble avoir un lien avec la target**. Les autres variables sont  biaisées par leur fréquence relative déséquilibrée."
      ]
    },
    {
      "cell_type": "code",
      "execution_count": 27,
      "metadata": {},
      "outputs": [],
      "source": [
        "# Sélection de données restreintes\n",
        "df = df.filter([\"target\", \"text\", \"hour\"])\n",
        "\n",
        "# Assign the len of the preprocessed dataframe\n",
        "n_rows = len(df)"
      ]
    },
    {
      "cell_type": "markdown",
      "metadata": {},
      "source": [
        "Commençons par avoir un aperçu d'une sélection de tweets aléatoires:"
      ]
    },
    {
      "cell_type": "code",
      "execution_count": 28,
      "metadata": {},
      "outputs": [
        {
          "data": {
            "text/html": [
              "<div>\n",
              "<style scoped>\n",
              "    .dataframe tbody tr th:only-of-type {\n",
              "        vertical-align: middle;\n",
              "    }\n",
              "\n",
              "    .dataframe tbody tr th {\n",
              "        vertical-align: top;\n",
              "    }\n",
              "\n",
              "    .dataframe thead th {\n",
              "        text-align: right;\n",
              "    }\n",
              "</style>\n",
              "<table border=\"1\" class=\"dataframe\">\n",
              "  <thead>\n",
              "    <tr style=\"text-align: right;\">\n",
              "      <th></th>\n",
              "      <th>text</th>\n",
              "      <th>target</th>\n",
              "    </tr>\n",
              "  </thead>\n",
              "  <tbody>\n",
              "    <tr>\n",
              "      <th>1390831</th>\n",
              "      <td>@blackdogcoffee Charles Town - time to gamble</td>\n",
              "      <td>1</td>\n",
              "    </tr>\n",
              "    <tr>\n",
              "      <th>310392</th>\n",
              "      <td>bored and having to go and cook  can't be bothered</td>\n",
              "      <td>0</td>\n",
              "    </tr>\n",
              "    <tr>\n",
              "      <th>86383</th>\n",
              "      <td>is finding it difficult.. trying to be platonic</td>\n",
              "      <td>0</td>\n",
              "    </tr>\n",
              "    <tr>\n",
              "      <th>1504896</th>\n",
              "      <td>@Yuyucow Que es VN? Suena Kinky</td>\n",
              "      <td>1</td>\n",
              "    </tr>\n",
              "    <tr>\n",
              "      <th>1088488</th>\n",
              "      <td>@AlexanderBor awww.... i have my exams on tuesday</td>\n",
              "      <td>1</td>\n",
              "    </tr>\n",
              "    <tr>\n",
              "      <th>611302</th>\n",
              "      <td>@Veglio Oh dear  Happy landings!</td>\n",
              "      <td>0</td>\n",
              "    </tr>\n",
              "    <tr>\n",
              "      <th>1187462</th>\n",
              "      <td>ahh thats better  mm lovin' the bbq ;)</td>\n",
              "      <td>1</td>\n",
              "    </tr>\n",
              "    <tr>\n",
              "      <th>377221</th>\n",
              "      <td>@judez_xo is you okies judy  ?</td>\n",
              "      <td>0</td>\n",
              "    </tr>\n",
              "    <tr>\n",
              "      <th>718618</th>\n",
              "      <td>i don't like headaches</td>\n",
              "      <td>0</td>\n",
              "    </tr>\n",
              "    <tr>\n",
              "      <th>31115</th>\n",
              "      <td>GUESS I'M NOT GOING TO BED TONIGHT lol...</td>\n",
              "      <td>0</td>\n",
              "    </tr>\n",
              "    <tr>\n",
              "      <th>1351615</th>\n",
              "      <td>is thinking that 7 months between updates is way too long. Enjoying the beautiful weather outside.</td>\n",
              "      <td>1</td>\n",
              "    </tr>\n",
              "    <tr>\n",
              "      <th>566796</th>\n",
              "      <td>@noreen217 ragin must only work tonight then, bummer</td>\n",
              "      <td>0</td>\n",
              "    </tr>\n",
              "    <tr>\n",
              "      <th>813230</th>\n",
              "      <td>@stustone I work for fedex. Its never our fault  and no, I'm not a driver.</td>\n",
              "      <td>1</td>\n",
              "    </tr>\n",
              "    <tr>\n",
              "      <th>478073</th>\n",
              "      <td>still incredibly sick but another week of school left to go.  summer needs to hurry up and get here</td>\n",
              "      <td>0</td>\n",
              "    </tr>\n",
              "    <tr>\n",
              "      <th>283976</th>\n",
              "      <td>sitting her @ the courthouse waiting on jury duty check-in</td>\n",
              "      <td>0</td>\n",
              "    </tr>\n",
              "    <tr>\n",
              "      <th>722573</th>\n",
              "      <td>Lost a friend today.    We'll miss you Russ.</td>\n",
              "      <td>0</td>\n",
              "    </tr>\n",
              "    <tr>\n",
              "      <th>478950</th>\n",
              "      <td>Jogging, isn't REALLY that cool, especially if you've got a high fever</td>\n",
              "      <td>0</td>\n",
              "    </tr>\n",
              "    <tr>\n",
              "      <th>486217</th>\n",
              "      <td>@jazzyobaby without me.</td>\n",
              "      <td>0</td>\n",
              "    </tr>\n",
              "    <tr>\n",
              "      <th>458900</th>\n",
              "      <td>@druey I hear ya. My buddy Dave had that same problem with his house in Minneapolis. Took 8mos to get 1 bathroom done</td>\n",
              "      <td>0</td>\n",
              "    </tr>\n",
              "    <tr>\n",
              "      <th>1075106</th>\n",
              "      <td>@juneislamme You're welcome! You are pretty cool.</td>\n",
              "      <td>1</td>\n",
              "    </tr>\n",
              "    <tr>\n",
              "      <th>1247102</th>\n",
              "      <td>@Amorsanguinis hello, long time no updates , hope your well</td>\n",
              "      <td>1</td>\n",
              "    </tr>\n",
              "    <tr>\n",
              "      <th>1033952</th>\n",
              "      <td>looking through old band tapes  it's  making me a little sad</td>\n",
              "      <td>1</td>\n",
              "    </tr>\n",
              "    <tr>\n",
              "      <th>6335</th>\n",
              "      <td>Damn, all my joints are sore at the moment. Either I'm feeling the effects of my PT session, or I'm getting sick, or both.</td>\n",
              "      <td>0</td>\n",
              "    </tr>\n",
              "    <tr>\n",
              "      <th>1329744</th>\n",
              "      <td>Just found out I'm getting a fair share of cash back from the tax man. That's good news. I'll wait til I see it before I spend it</td>\n",
              "      <td>1</td>\n",
              "    </tr>\n",
              "    <tr>\n",
              "      <th>269005</th>\n",
              "      <td>@redvers it did and it does.</td>\n",
              "      <td>0</td>\n",
              "    </tr>\n",
              "  </tbody>\n",
              "</table>\n",
              "</div>"
            ],
            "text/plain": [
              "                                                                                                                                       text  \\\n",
              "1390831                                                                                      @blackdogcoffee Charles Town - time to gamble    \n",
              "310392                                                                                   bored and having to go and cook  can't be bothered   \n",
              "86383                                                                                    is finding it difficult.. trying to be platonic      \n",
              "1504896                                                                                                    @Yuyucow Que es VN? Suena Kinky    \n",
              "1088488                                                                                  @AlexanderBor awww.... i have my exams on tuesday    \n",
              "611302                                                                                                     @Veglio Oh dear  Happy landings!   \n",
              "1187462                                                                                              ahh thats better  mm lovin' the bbq ;)   \n",
              "377221                                                                                                       @judez_xo is you okies judy  ?   \n",
              "718618                                                                                                              i don't like headaches    \n",
              "31115                                                                                            GUESS I'M NOT GOING TO BED TONIGHT lol...    \n",
              "1351615                                is thinking that 7 months between updates is way too long. Enjoying the beautiful weather outside.     \n",
              "566796                                                                                @noreen217 ragin must only work tonight then, bummer    \n",
              "813230                                                           @stustone I work for fedex. Its never our fault  and no, I'm not a driver.   \n",
              "478073                                  still incredibly sick but another week of school left to go.  summer needs to hurry up and get here   \n",
              "283976                                                                          sitting her @ the courthouse waiting on jury duty check-in    \n",
              "722573                                                                                         Lost a friend today.    We'll miss you Russ.   \n",
              "478950                                                              Jogging, isn't REALLY that cool, especially if you've got a high fever    \n",
              "486217                                                                                                             @jazzyobaby without me.    \n",
              "458900               @druey I hear ya. My buddy Dave had that same problem with his house in Minneapolis. Took 8mos to get 1 bathroom done    \n",
              "1075106                                                                                  @juneislamme You're welcome! You are pretty cool.    \n",
              "1247102                                                                        @Amorsanguinis hello, long time no updates , hope your well    \n",
              "1033952                                                                        looking through old band tapes  it's  making me a little sad   \n",
              "6335            Damn, all my joints are sore at the moment. Either I'm feeling the effects of my PT session, or I'm getting sick, or both.    \n",
              "1329744  Just found out I'm getting a fair share of cash back from the tax man. That's good news. I'll wait til I see it before I spend it    \n",
              "269005                                                                                                        @redvers it did and it does.    \n",
              "\n",
              "         target  \n",
              "1390831       1  \n",
              "310392        0  \n",
              "86383         0  \n",
              "1504896       1  \n",
              "1088488       1  \n",
              "611302        0  \n",
              "1187462       1  \n",
              "377221        0  \n",
              "718618        0  \n",
              "31115         0  \n",
              "1351615       1  \n",
              "566796        0  \n",
              "813230        1  \n",
              "478073        0  \n",
              "283976        0  \n",
              "722573        0  \n",
              "478950        0  \n",
              "486217        0  \n",
              "458900        0  \n",
              "1075106       1  \n",
              "1247102       1  \n",
              "1033952       1  \n",
              "6335          0  \n",
              "1329744       1  \n",
              "269005        0  "
            ]
          },
          "metadata": {},
          "output_type": "display_data"
        }
      ],
      "source": [
        "with pd.option_context(\"display.max_colwidth\", 150):\n",
        "    display(df[[\"text\", \"target\"]].sample(25))"
      ]
    },
    {
      "cell_type": "markdown",
      "metadata": {},
      "source": [
        "# **Séparation des données**"
      ]
    },
    {
      "cell_type": "code",
      "execution_count": 29,
      "metadata": {},
      "outputs": [
        {
          "name": "stdout",
          "output_type": "stream",
          "text": [
            "Sampling the data with 0.01 fraction\n",
            "X_train shape: (12772, 1)\n",
            "X_test shape: (3194, 1)\n",
            "y_train shape: (12772,)\n",
            "y_test shape: (3194,)\n"
          ]
        }
      ],
      "source": [
        "# Define if working with a sample\n",
        "sampling = True\n",
        "proportion = 0.01\n",
        "\n",
        "# Split the data with sampling or not\n",
        "if sampling:\n",
        "    if len(df) != n_rows:\n",
        "        print(\"Dataframe has already been sampled\")\n",
        "    else:\n",
        "        print(f\"Sampling the data with {proportion} fraction\")\n",
        "        df = df.sample(frac=proportion, random_state=SEED)\n",
        "\n",
        "# Define X and y\n",
        "X = df[[\"text\"]]\n",
        "y = df[\"target\"]\n",
        "\n",
        "# Split the data with a 0.2 test size\n",
        "X_train, X_test, y_train, y_test = train_test_split(\n",
        "    X, y, test_size=0.2, stratify=y, random_state=SEED\n",
        ")\n",
        "\n",
        "# Display shape of splits\n",
        "print(\"X_train shape:\", X_train.shape)\n",
        "print(\"X_test shape:\", X_test.shape)\n",
        "print(\"y_train shape:\", y_train.shape)\n",
        "print(\"y_test shape:\", y_test.shape)"
      ]
    },
    {
      "cell_type": "markdown",
      "metadata": {},
      "source": [
        "# **Modélisation**"
      ]
    },
    {
      "cell_type": "code",
      "execution_count": 30,
      "metadata": {},
      "outputs": [
        {
          "name": "stdout",
          "output_type": "stream",
          "text": [
            "[E050] Can't find model 'en_core_web_sm'. It doesn't seem to be a Python package or a valid path to a data directory.\n",
            "Downloading the en_core_web_sm model...\n",
            "Collecting en-core-web-sm==3.8.0\n",
            "  Downloading https://github.com/explosion/spacy-models/releases/download/en_core_web_sm-3.8.0/en_core_web_sm-3.8.0-py3-none-any.whl (12.8 MB)\n",
            "\u001b[2K     \u001b[90m━━━━━━━━━━━━━━━━━━━━━━━━━━━━━━━━━━━━━━━━\u001b[0m \u001b[32m12.8/12.8 MB\u001b[0m \u001b[31m34.5 MB/s\u001b[0m eta \u001b[36m0:00:00\u001b[0m \u001b[36m0:00:01\u001b[0m\n",
            "\u001b[?25hInstalling collected packages: en-core-web-sm\n",
            "Successfully installed en-core-web-sm-3.8.0\n",
            "\u001b[38;5;2m✔ Download and installation successful\u001b[0m\n",
            "You can now load the package via spacy.load('en_core_web_sm')\n",
            "\u001b[38;5;3m⚠ Restart to reload dependencies\u001b[0m\n",
            "If you are in a Jupyter or Colab notebook, you may need to restart Python in\n",
            "order to load all the package's dependencies. You can do this by selecting the\n",
            "'Restart kernel' or 'Restart runtime' option.\n",
            "Loading the model...\n",
            "EN_CORE_WEB_SM model loaded successfully :)\n",
            "Model components: ['tok2vec', 'tagger', 'parser', 'attribute_ruler', 'lemmatizer']\n"
          ]
        }
      ],
      "source": [
        "# Load a spacy model of your choice\n",
        "spacy_model = \"en_core_web_sm\"\n",
        "disable = [\"ner\"]\n",
        "\n",
        "# Check if gpu is available to use it with spacy\n",
        "if cuda:\n",
        "    spacy.prefer_gpu()\n",
        "\n",
        "# Load the model without the ner component and download it if needed\n",
        "try:\n",
        "    nlp = spacy.load(spacy_model, disable=disable)\n",
        "except OSError as e:\n",
        "    print(e)\n",
        "    print(f\"Downloading the {spacy_model} model...\")\n",
        "    spacy.cli.download(spacy_model)\n",
        "    # Add sleep time\n",
        "    time.sleep(5)\n",
        "    # Finally load the model\n",
        "    print(\"Loading the model...\")\n",
        "    nlp = spacy.load(spacy_model, disable=disable)\n",
        "finally:\n",
        "    print(f\"{spacy_model.upper()} model loaded successfully :)\")\n",
        "    print(f\"Model components: {nlp.pipe_names}\")\n"
      ]
    },
    {
      "cell_type": "code",
      "execution_count": 31,
      "metadata": {},
      "outputs": [
        {
          "name": "stdout",
          "output_type": "stream",
          "text": [
            "Language detection component added to the pipeline as language_detector.\n"
          ]
        }
      ],
      "source": [
        "# Add the language detector variable name\n",
        "name = \"language_detector\"\n",
        "\n",
        "# Register the language detector as a component and add it as a component\n",
        "if name not in Language.factories.keys():\n",
        "\n",
        "    @Language.factory(name)\n",
        "    def create_language_detector(nlp, name):\n",
        "        return LanguageDetector()\n",
        "\n",
        "\n",
        "# Add the language detection component to the pipeline if it's not already added\n",
        "if name not in nlp.pipe_names:\n",
        "    nlp.add_pipe(name, last=True)\n",
        "\n",
        "print(\"Language detection component added to the pipeline as {}.\".format(name))"
      ]
    },
    {
      "cell_type": "code",
      "execution_count": 32,
      "metadata": {},
      "outputs": [
        {
          "name": "stdout",
          "output_type": "stream",
          "text": [
            "Emoji detection component added to the pipeline as emoji_detector.\n"
          ]
        }
      ],
      "source": [
        "# Add the emoji detector variable name\n",
        "name = \"emoji_detector\"\n",
        "\n",
        "# Register the emoji detector as a component and add it as a component\n",
        "if name not in Language.factories.keys():\n",
        "\n",
        "    @Language.factory(name)\n",
        "    def create_emoji_detector(nlp, name):\n",
        "        return Emoji(nlp)\n",
        "\n",
        "\n",
        "# Add the language detection component to the pipeline if it's not already added\n",
        "if name not in nlp.pipe_names:\n",
        "    nlp.add_pipe(name, first=True)\n",
        "\n",
        "print(\"Emoji detection component added to the pipeline as {}.\".format(name))"
      ]
    },
    {
      "cell_type": "code",
      "execution_count": 33,
      "metadata": {},
      "outputs": [],
      "source": [
        "def spacy_preprocess(text, nlp=nlp, params=0):\n",
        "    \"\"\"\n",
        "    Preprocess the text using spacy pipeline\n",
        "    \"\"\"\n",
        "    # Process the text\n",
        "    doc = nlp(text)\n",
        "    #\n",
        "    match params:\n",
        "        case 0:\n",
        "            tokens = [token for token in doc if token.is_aplha]\n",
        "        case 1:\n",
        "            tokens = [token.lemma_ for token in doc if token.is_alpha]\n",
        "        case 2:\n",
        "            tokens = [\n",
        "                token.lemma_ for token in doc if token.is_alpha and not token.is_stop\n",
        "            ]\n",
        "        case 3:\n",
        "            tokens = [\n",
        "                token.lemma_ for token in doc if token.is_alpha or token._.is_emoji\n",
        "            ]\n",
        "        case _:\n",
        "            return doc\n",
        "    return tokens"
      ]
    },
    {
      "cell_type": "code",
      "execution_count": 34,
      "metadata": {},
      "outputs": [
        {
          "data": {
            "text/plain": [
              "['I', 'love', 'my', 'cat', 'and', 'dog', 'or', '🐱', 'and', '🐶']"
            ]
          },
          "execution_count": 34,
          "metadata": {},
          "output_type": "execute_result"
        }
      ],
      "source": [
        "text_with_emoji = \"I loved my cats and dogs or 🐱 and 🐶\"\n",
        "spacy_preprocess(text_with_emoji, nlp=nlp, params=3)\n"
      ]
    },
    {
      "cell_type": "code",
      "execution_count": 35,
      "metadata": {},
      "outputs": [],
      "source": [
        "from sklearn.metrics import confusion_matrix, accuracy_score, classification_report"
      ]
    },
    {
      "cell_type": "code",
      "execution_count": 38,
      "metadata": {},
      "outputs": [
        {
          "name": "stderr",
          "output_type": "stream",
          "text": [
            "/home/hedredo/github_repo/dagshub_p7/.conda/lib/python3.10/site-packages/sklearn/feature_extraction/text.py:521: UserWarning: The parameter 'token_pattern' will not be used since 'tokenizer' is not None'\n",
            "  warnings.warn(\n",
            "2024/10/25 10:26:40 WARNING mlflow.sklearn: Model was missing function: predict. Not logging python_function flavor!\n",
            "Downloading artifacts: 100%|██████████| 7/7 [00:07<00:00,  1.11s/it]\n",
            "2024/10/25 10:26:59 WARNING mlflow.models.model: Failed to validate serving input example {\n",
            "  \"inputs\": \"free at last! getting off for the weekend.  no big plans, but i cant wait to relax.\"\n",
            "}. Alternatively, you can avoid passing input example and pass model signature instead when logging the model. To ensure the input example is valid prior to serving, please try calling `mlflow.models.validate_serving_input` on the model uri and serving input example. A serving input example can be generated from model input example using `mlflow.models.convert_input_example_to_serving_input` function.\n",
            "Got error: Model does not have the \"python_function\" flavor\n",
            "2024/10/25 10:27:01 INFO mlflow.tracking._tracking_service.client: 🏃 View run auspicious-loon-781 at: https://dagshub.com/hedredo/dagshub_p7.mlflow/#/experiments/1/runs/16bc6be45f67406cb7688375794a3940.\n",
            "2024/10/25 10:27:01 INFO mlflow.tracking._tracking_service.client: 🧪 View experiment at: https://dagshub.com/hedredo/dagshub_p7.mlflow/#/experiments/1.\n"
          ]
        }
      ],
      "source": [
        "with mlflow.start_run():\n",
        "    # Select the preprocessor parameters\n",
        "    preprocessor = partial(spacy_preprocess, params=3)\n",
        "    # Fit and transform the tf-idf vectorizer on the text column\n",
        "    tfidf = TfidfVectorizer(\n",
        "        tokenizer=preprocessor,\n",
        "        ngram_range=(1, 3),\n",
        "        max_features=1000,\n",
        "        strip_accents=\"unicode\",\n",
        "    )\n",
        "    X_embed = tfidf.fit_transform(X_train[\"text\"].str.lower())\n",
        "    # Initialize the model\n",
        "    model = LogisticRegression(max_iter=1000)\n",
        "    # Add the input example\n",
        "    input_logit = X_embed[0]\n",
        "    input_tfidf = X_train[\"text\"].str.lower().values[0]\n",
        "    # Perform a cross-validation\n",
        "    scores = cross_validate(model, X_embed, y_train, cv=5, scoring=[\"accuracy\", \"f1\"])\n",
        "    # Your training code here...\n",
        "    model.fit(X_embed, y_train)\n",
        "    y_pred = model.predict(tfidf.transform(X_test[\"text\"].str.lower()))\n",
        "    scores = pd.DataFrame(scores).mean()\n",
        "    acc_score = accuracy_score(y_test, y_pred)\n",
        "    for metric in scores.keys():\n",
        "        mlflow.log_metric(f\"val_{metric}\", scores[metric])\n",
        "    mlflow.log_metric(\"test_accuracy\", acc_score)\n",
        "    mlflow.log_param(\"Dimension\", X_embed.shape[1])\n",
        "    mlflow.log_param(\"Tf-Idf params\", tfidf.get_params())\n",
        "    mlflow.log_param(\"Logistic Regression params\", model.get_params())\n",
        "    mlflow.sklearn.log_model(model, \"logistic_regression\", input_example=input_logit)\n",
        "    mlflow.sklearn.log_model(\n",
        "        tfidf, \"tfidf_vectorizer\", input_example=input_tfidf, signature=False\n",
        "    )"
      ]
    },
    {
      "cell_type": "code",
      "execution_count": 40,
      "metadata": {},
      "outputs": [
        {
          "data": {
            "text/plain": [
              "fit_time         0.004180\n",
              "score_time       0.002549\n",
              "test_accuracy    0.721813\n",
              "test_f1          0.717116\n",
              "dtype: float64"
            ]
          },
          "execution_count": 40,
          "metadata": {},
          "output_type": "execute_result"
        }
      ],
      "source": [
        "# Initialize the model\n",
        "model = MultinomialNB()\n",
        "\n",
        "# Perform a cross-validation\n",
        "scores = cross_validate(model, X_embed, y_train, cv=5, scoring=[\"accuracy\", \"f1\"])\n",
        "\n",
        "# Display the scores\n",
        "pd.DataFrame(scores).mean()"
      ]
    },
    {
      "cell_type": "code",
      "execution_count": 41,
      "metadata": {},
      "outputs": [],
      "source": [
        "tweet_tokenizer = TweetTokenizer(\n",
        "    preserve_case=False,\n",
        "    strip_handles=True,\n",
        "    reduce_len=True,\n",
        ")"
      ]
    },
    {
      "cell_type": "code",
      "execution_count": 42,
      "metadata": {},
      "outputs": [
        {
          "name": "stderr",
          "output_type": "stream",
          "text": [
            "/home/hedredo/github_repo/dagshub_p7/.conda/lib/python3.10/site-packages/sklearn/feature_extraction/text.py:521: UserWarning: The parameter 'token_pattern' will not be used since 'tokenizer' is not None'\n",
            "  warnings.warn(\n"
          ]
        }
      ],
      "source": [
        "# Fit and transform the tf-idf vectorizer on the text column\n",
        "tfidf = TfidfVectorizer(\n",
        "    tokenizer=tweet_tokenizer.tokenize,\n",
        "    ngram_range=(1, 3),\n",
        "    max_features=1000,\n",
        "    strip_accents=\"unicode\",\n",
        ")\n",
        "X_embed = tfidf.fit_transform(X_train[\"text\"].str.lower())"
      ]
    },
    {
      "cell_type": "code",
      "execution_count": 43,
      "metadata": {},
      "outputs": [
        {
          "data": {
            "text/plain": [
              "fit_time         0.002604\n",
              "score_time       0.002531\n",
              "test_accuracy    0.722909\n",
              "test_f1          0.718497\n",
              "dtype: float64"
            ]
          },
          "execution_count": 43,
          "metadata": {},
          "output_type": "execute_result"
        }
      ],
      "source": [
        "# Initialize the model\n",
        "model = MultinomialNB()\n",
        "\n",
        "# Perform a cross-validation\n",
        "scores = cross_validate(model, X_embed, y_train, cv=5, scoring=[\"accuracy\", \"f1\"])\n",
        "\n",
        "# Display the scores\n",
        "pd.DataFrame(scores).mean()"
      ]
    },
    {
      "cell_type": "code",
      "execution_count": 44,
      "metadata": {},
      "outputs": [
        {
          "data": {
            "text/plain": [
              "fit_time         0.024150\n",
              "score_time       0.002697\n",
              "test_accuracy    0.735358\n",
              "test_f1          0.735984\n",
              "dtype: float64"
            ]
          },
          "execution_count": 44,
          "metadata": {},
          "output_type": "execute_result"
        }
      ],
      "source": [
        "# Initialize the model\n",
        "model = LogisticRegression(max_iter=1000)\n",
        "\n",
        "# Perform a cross-validation\n",
        "scores = cross_validate(model, X_embed, y_train, cv=5, scoring=[\"accuracy\", \"f1\"])\n",
        "\n",
        "# Display the scores\n",
        "pd.DataFrame(scores).mean()"
      ]
    },
    {
      "cell_type": "code",
      "execution_count": 46,
      "metadata": {},
      "outputs": [],
      "source": [
        "import textstat\n",
        "\n",
        "textstat.set_lang(\"en\")"
      ]
    },
    {
      "cell_type": "code",
      "execution_count": 47,
      "metadata": {},
      "outputs": [
        {
          "name": "stderr",
          "output_type": "stream",
          "text": [
            "100%|██████████| 12772/12772 [00:02<00:00, 6166.65it/s]\n"
          ]
        }
      ],
      "source": [
        "# Définir une fonction combinée pour les transformations\n",
        "def combined_transformations(text):\n",
        "    return {\n",
        "        \"readability_score\": textstat.text_standard(text, float_output=True),\n",
        "        \"reading_time\": textstat.reading_time(text, ms_per_char=14.69),\n",
        "        \"syllables_count\": textstat.syllable_count(text),\n",
        "        \"words_count\": textstat.lexicon_count(text, removepunct=True),\n",
        "        \"sentences_count\": textstat.sentence_count(text),\n",
        "        \"chars_count\": textstat.char_count(text, ignore_spaces=True),\n",
        "        \"letters_count\": textstat.letter_count(text, ignore_spaces=True),\n",
        "    }\n",
        "\n",
        "\n",
        "# Appliquer la fonction combinée avec tqdm\n",
        "transformed_data = X_train[\"text\"].progress_apply(combined_transformations)\n",
        "\n",
        "# Transforme le résultat en DataFrame\n",
        "transformed_data = pd.DataFrame(transformed_data.tolist())"
      ]
    },
    {
      "cell_type": "code",
      "execution_count": 48,
      "metadata": {},
      "outputs": [
        {
          "data": {
            "text/html": [
              "<div>\n",
              "<style scoped>\n",
              "    .dataframe tbody tr th:only-of-type {\n",
              "        vertical-align: middle;\n",
              "    }\n",
              "\n",
              "    .dataframe tbody tr th {\n",
              "        vertical-align: top;\n",
              "    }\n",
              "\n",
              "    .dataframe thead th {\n",
              "        text-align: right;\n",
              "    }\n",
              "</style>\n",
              "<table border=\"1\" class=\"dataframe\">\n",
              "  <thead>\n",
              "    <tr style=\"text-align: right;\">\n",
              "      <th></th>\n",
              "      <th>readability_score</th>\n",
              "      <th>reading_time</th>\n",
              "      <th>syllables_count</th>\n",
              "      <th>words_count</th>\n",
              "      <th>sentences_count</th>\n",
              "      <th>chars_count</th>\n",
              "      <th>letters_count</th>\n",
              "    </tr>\n",
              "  </thead>\n",
              "  <tbody>\n",
              "    <tr>\n",
              "      <th>0</th>\n",
              "      <td>1.0</td>\n",
              "      <td>0.97</td>\n",
              "      <td>20</td>\n",
              "      <td>17</td>\n",
              "      <td>3</td>\n",
              "      <td>66</td>\n",
              "      <td>62</td>\n",
              "    </tr>\n",
              "    <tr>\n",
              "      <th>1</th>\n",
              "      <td>4.0</td>\n",
              "      <td>1.34</td>\n",
              "      <td>23</td>\n",
              "      <td>16</td>\n",
              "      <td>2</td>\n",
              "      <td>91</td>\n",
              "      <td>75</td>\n",
              "    </tr>\n",
              "    <tr>\n",
              "      <th>2</th>\n",
              "      <td>6.0</td>\n",
              "      <td>0.79</td>\n",
              "      <td>15</td>\n",
              "      <td>11</td>\n",
              "      <td>2</td>\n",
              "      <td>54</td>\n",
              "      <td>52</td>\n",
              "    </tr>\n",
              "    <tr>\n",
              "      <th>3</th>\n",
              "      <td>1.0</td>\n",
              "      <td>0.35</td>\n",
              "      <td>5</td>\n",
              "      <td>3</td>\n",
              "      <td>1</td>\n",
              "      <td>24</td>\n",
              "      <td>23</td>\n",
              "    </tr>\n",
              "    <tr>\n",
              "      <th>4</th>\n",
              "      <td>4.0</td>\n",
              "      <td>0.53</td>\n",
              "      <td>13</td>\n",
              "      <td>10</td>\n",
              "      <td>1</td>\n",
              "      <td>36</td>\n",
              "      <td>36</td>\n",
              "    </tr>\n",
              "  </tbody>\n",
              "</table>\n",
              "</div>"
            ],
            "text/plain": [
              "   readability_score  reading_time  syllables_count  words_count  \\\n",
              "0                1.0          0.97               20           17   \n",
              "1                4.0          1.34               23           16   \n",
              "2                6.0          0.79               15           11   \n",
              "3                1.0          0.35                5            3   \n",
              "4                4.0          0.53               13           10   \n",
              "\n",
              "   sentences_count  chars_count  letters_count  \n",
              "0                3           66             62  \n",
              "1                2           91             75  \n",
              "2                2           54             52  \n",
              "3                1           24             23  \n",
              "4                1           36             36  "
            ]
          },
          "execution_count": 48,
          "metadata": {},
          "output_type": "execute_result"
        }
      ],
      "source": [
        "transformed_data.head()"
      ]
    },
    {
      "cell_type": "code",
      "execution_count": 49,
      "metadata": {},
      "outputs": [],
      "source": [
        "transformed_data[\"average_word_length\"] = (\n",
        "    transformed_data[\"chars_count\"].div(transformed_data[\"words_count\"]).round(2)\n",
        ")\n",
        "transformed_data[\"average_sentence_length\"] = (\n",
        "    transformed_data[\"words_count\"].div(transformed_data[\"sentences_count\"]).round(2)\n",
        ")\n",
        "transformed_data[\"average_syllables_per_word\"] = (\n",
        "    transformed_data[\"syllables_count\"].div(transformed_data[\"words_count\"]).round(2)\n",
        ")"
      ]
    },
    {
      "cell_type": "markdown",
      "metadata": {},
      "source": [
        "Comme nous avons énormément de données à analyser, nous allons tester la performance du modèle en utilisant uniquement les features à notre disposition.<br>\n",
        "Le modèle sera plus rapide s'il reçoit en entrée une sparse matrix plutôt qu'une dense matrix.<br>"
      ]
    },
    {
      "cell_type": "markdown",
      "metadata": {
        "id": "oatQI0vyGvLZ"
      },
      "source": [
        "# **Options de standardisation des textes**"
      ]
    },
    {
      "cell_type": "markdown",
      "metadata": {
        "id": "ZqnO5skQ_ysV"
      },
      "source": [
        "Voici une liste de 10 moyens de standardiser votre corpus de tweets pour l'analyse de sentiments :\n",
        "\n",
        "1. **Conversion en minuscules** : Transformer tous les caractères en minuscules pour uniformiser le texte.\n",
        "2. **Suppression de la ponctuation** : Enlever tous les signes de ponctuation qui peuvent ne pas être pertinents pour l'analyse.\n",
        "3. **Élimination des mots vides (stop words)** : Supprimer les mots courants qui n'ajoutent pas de valeur sémantique significative (comme \"le\", \"la\", \"de\", etc.).\n",
        "4. **Stemming** : Réduire les mots à leur racine pour traiter les variations morphologiques (par exemple, \"aimant\", \"aimer\", \"aimé\" deviennent \"aim\").\n",
        "5. **Lemmatisation** : Transformer les mots en leur forme de base ou canonique (par exemple, \"étudiants\" devient \"étudiant\").\n",
        "6. **Suppression des nombres** : Enlever les chiffres qui peuvent ne pas être utiles pour l'analyse de sentiments.\n",
        "7. **Traitement des URL** : Remplacer les liens par un token spécifique comme `<URL>` pour uniformiser le texte.\n",
        "8. **Gestion des mentions** : Remplacer les @utilisateur par un token comme `<MENTION>` pour éviter les informations spécifiques inutiles.\n",
        "9. **Traitement des hashtags** : Extraire le mot-clé du hashtag (par exemple, \"#bonheur\" devient \"bonheur\") pour conserver le sens.\n",
        "10. **Gestion des emojis et émoticônes** : Remplacer les emojis par leur signification textuelle ou les supprimer si nécessaire (par exemple, \"😊\" devient \"heureux\").\n",
        "\n",
        "Ces standardisations peuvent vous aider à améliorer la qualité de vos données et potentiellement les performances de vos modèles de classification en réduisant le bruit et en uniformisant le corpus."
      ]
    },
    {
      "cell_type": "markdown",
      "metadata": {
        "id": "eT1Uswn_NDCO"
      },
      "source": [
        "**EDA**\n",
        "\n",
        "* Longueur str\n",
        "* Nombre de tokens\n",
        "* Longueur moyenne / min / max / std token\n",
        "* Compte le nombre d'erreurs unidecode\n",
        "* Compte le nombre de tags\n",
        "* Comptre le nombre de hashtags\n",
        "* Compte le nombre de mentions\n",
        "* Compte le nombre d'emoji\n",
        "* Compte le nombre d'URL\n",
        "* Regarder textastic/chatgpt/ pour l'argot et les abréviations\n",
        "* Etc..."
      ]
    },
    {
      "cell_type": "code",
      "execution_count": 24,
      "metadata": {
        "id": "TP5AyiSqK6Sr"
      },
      "outputs": [],
      "source": [
        "def preprocess_text(\n",
        "    text: str,\n",
        "    lowercase: bool = True,\n",
        "    root: str = \"raw\",\n",
        "    rm_punct: bool = True,\n",
        "    rm_stopwords: bool = True,\n",
        "    rm_numbers: bool = True,\n",
        "    rm_url: bool = True,\n",
        "    rm_mention: bool = True,\n",
        "    rm_hashtag: bool = True,\n",
        "    rm_emoji: bool = True,\n",
        "):\n",
        "    # Root error management\n",
        "    match root:\n",
        "        case \"lemma\" | \"stem\" | \"raw\":\n",
        "            pass\n",
        "        case _:\n",
        "            raise ValueError(\"root must be 'lemma', 'stem' or 'raw'\")\n",
        "\n",
        "    # TO WRITE\n",
        "\n",
        "    # Return the preprocessed text\n",
        "    return text"
      ]
    },
    {
      "cell_type": "code",
      "execution_count": null,
      "metadata": {},
      "outputs": [],
      "source": [
        "# Define a pattern to match urls in the description column\n",
        "url = r\"www\\.\\S+\"  # correct pattern for urls\n",
        "email = r\"\\b[A-Za-z0-9._%+-]+@[A-Za-z0-9.-]+\\.[A-Z|a-z]{2,}\\b\"\n",
        "hashtag = r\"#\\S+\"\n",
        "mentions = r\"@\\S+\"\n",
        "emoji = r\"[\\U0001F600-\\U0001F64F\\U0001F300-\\U0001F5FF\\U0001F680-\\U0001F6FF\\U0001F700-\\U0001F77F\\U0001F780-\\U0001F7FF\\U0001F800-\\U0001F8FF\\U0001F900-\\U0001F9FF\\U0001FA00-\\U0001FA6F\\U0001FA70-\\U0001FAFF\\U00002702-\\U000027B0\\U000024C2-\\U0001F251]+\""
      ]
    }
  ],
  "metadata": {
    "accelerator": "GPU",
    "colab": {
      "gpuType": "T4",
      "include_colab_link": true,
      "provenance": []
    },
    "kernelspec": {
      "display_name": "Python 3",
      "language": "python",
      "name": "python3"
    },
    "language_info": {
      "codemirror_mode": {
        "name": "ipython",
        "version": 3
      },
      "file_extension": ".py",
      "mimetype": "text/x-python",
      "name": "python",
      "nbconvert_exporter": "python",
      "pygments_lexer": "ipython3",
      "version": "3.10.15"
    },
    "widgets": {
      "application/vnd.jupyter.widget-state+json": {
        "185b3fd51a024e08a306a6e0637acdd9": {
          "model_module": "@jupyter-widgets/output",
          "model_module_version": "1.0.0",
          "model_name": "OutputModel",
          "state": {
            "_dom_classes": [],
            "_model_module": "@jupyter-widgets/output",
            "_model_module_version": "1.0.0",
            "_model_name": "OutputModel",
            "_view_count": null,
            "_view_module": "@jupyter-widgets/output",
            "_view_module_version": "1.0.0",
            "_view_name": "OutputView",
            "layout": "IPY_MODEL_e63383a6a9734f0f827bd482cc6b3ed5",
            "msg_id": "",
            "outputs": [
              {
                "data": {
                  "text/html": "<pre style=\"white-space:pre;overflow-x:auto;line-height:normal;font-family:Menlo,'DejaVu Sans Mono',consolas,'Courier New',monospace\"><span style=\"color: #008000; text-decoration-color: #008000\">⠸</span> Waiting for authorization\n</pre>\n",
                  "text/plain": "\u001b[32m⠸\u001b[0m Waiting for authorization\n"
                },
                "metadata": {},
                "output_type": "display_data"
              }
            ]
          }
        },
        "e63383a6a9734f0f827bd482cc6b3ed5": {
          "model_module": "@jupyter-widgets/base",
          "model_module_version": "1.2.0",
          "model_name": "LayoutModel",
          "state": {
            "_model_module": "@jupyter-widgets/base",
            "_model_module_version": "1.2.0",
            "_model_name": "LayoutModel",
            "_view_count": null,
            "_view_module": "@jupyter-widgets/base",
            "_view_module_version": "1.2.0",
            "_view_name": "LayoutView",
            "align_content": null,
            "align_items": null,
            "align_self": null,
            "border": null,
            "bottom": null,
            "display": null,
            "flex": null,
            "flex_flow": null,
            "grid_area": null,
            "grid_auto_columns": null,
            "grid_auto_flow": null,
            "grid_auto_rows": null,
            "grid_column": null,
            "grid_gap": null,
            "grid_row": null,
            "grid_template_areas": null,
            "grid_template_columns": null,
            "grid_template_rows": null,
            "height": null,
            "justify_content": null,
            "justify_items": null,
            "left": null,
            "margin": null,
            "max_height": null,
            "max_width": null,
            "min_height": null,
            "min_width": null,
            "object_fit": null,
            "object_position": null,
            "order": null,
            "overflow": null,
            "overflow_x": null,
            "overflow_y": null,
            "padding": null,
            "right": null,
            "top": null,
            "visibility": null,
            "width": null
          }
        }
      }
    }
  },
  "nbformat": 4,
  "nbformat_minor": 0
}
