{
 "cells": [
  {
   "cell_type": "code",
   "execution_count": 47,
   "metadata": {},
   "outputs": [],
   "source": [
    "from sklearn.model_selection import train_test_split\n",
    "from sklearn.naive_bayes import MultinomialNB\n",
    "from sklearn.linear_model import LogisticRegression\n",
    "from sklearn.model_selection import cross_validate\n",
    "from sklearn.feature_extraction.text import TfidfVectorizer\n",
    "\n",
    "# from sklearn.metrics import confusion_matrix, accuracy_score, classification_report\n",
    "from sklearn.metrics import accuracy_score\n",
    "import pickle\n",
    "import dagshub\n",
    "import tensorflow as tf\n",
    "import pandas as pd\n",
    "import numpy as np\n",
    "import torch\n",
    "from tqdm import tqdm\n",
    "import mlflow\n",
    "import warnings\n",
    "from tensorflow.keras.layers import TextVectorization\n",
    "import matplotlib.pyplot as plt"
   ]
  },
  {
   "cell_type": "code",
   "execution_count": 48,
   "metadata": {},
   "outputs": [
    {
     "data": {
      "text/html": [
       "<pre style=\"white-space:pre;overflow-x:auto;line-height:normal;font-family:Menlo,'DejaVu Sans Mono',consolas,'Courier New',monospace\">Initialized MLflow to track repo <span style=\"color: #008000; text-decoration-color: #008000\">\"hedredo/dagshub_p7\"</span>\n",
       "</pre>\n"
      ],
      "text/plain": [
       "Initialized MLflow to track repo \u001b[32m\"hedredo/dagshub_p7\"\u001b[0m\n"
      ]
     },
     "metadata": {},
     "output_type": "display_data"
    },
    {
     "data": {
      "text/html": [
       "<pre style=\"white-space:pre;overflow-x:auto;line-height:normal;font-family:Menlo,'DejaVu Sans Mono',consolas,'Courier New',monospace\">Repository hedredo/dagshub_p7 initialized!\n",
       "</pre>\n"
      ],
      "text/plain": [
       "Repository hedredo/dagshub_p7 initialized!\n"
      ]
     },
     "metadata": {},
     "output_type": "display_data"
    },
    {
     "name": "stdout",
     "output_type": "stream",
     "text": [
      "Random seed set to 314\n"
     ]
    }
   ],
   "source": [
    "# Remove FutureWarning alerts\n",
    "warnings.filterwarnings(\"ignore\", category=FutureWarning)\n",
    "\n",
    "# Initialize dagshub repo\n",
    "try:\n",
    "    dagshub.init(repo_owner=\"hedredo\", repo_name=\"dagshub_p7\", mlflow=True)\n",
    "    mlflow.set_experiment(\"p7\")\n",
    "except Exception as e:\n",
    "    print(\"Dagshub repo can't be initialized:\", e)\n",
    "\n",
    "# Initialiser tqdm pour pandas\n",
    "tqdm.pandas()\n",
    "\n",
    "# Set a random seed\n",
    "SEED = 314\n",
    "np.random.seed(SEED)\n",
    "print(\"Random seed set to\", SEED)"
   ]
  },
  {
   "cell_type": "code",
   "execution_count": 49,
   "metadata": {},
   "outputs": [
    {
     "name": "stdout",
     "output_type": "stream",
     "text": [
      "Tensorflow framework: GPU is available\n",
      "Pytorch framework: CUDA is NOT AVAILABLE\n"
     ]
    }
   ],
   "source": [
    "# Check if GPU and CUDA are available\n",
    "gpu = tf.config.list_physical_devices(\"GPU\")\n",
    "cuda = torch.cuda.is_available()\n",
    "print(\"Tensorflow framework: GPU is\", \"available\" if gpu else \"NOT AVAILABLE\")\n",
    "print(\"Pytorch framework: CUDA is\", \"available\" if cuda else \"NOT AVAILABLE\")"
   ]
  },
  {
   "cell_type": "markdown",
   "metadata": {},
   "source": [
    "# **Chargement des données préparées**"
   ]
  },
  {
   "cell_type": "markdown",
   "metadata": {},
   "source": [
    "**COMMENTS**:\n",
    "- Chargement des données du parquet en entier\n",
    "- Ou supprimer cette section et passer le chargement du parquet dans séparation des données - split data\n",
    "- Import de token_params pour les paramètres de tokenisation"
   ]
  },
  {
   "cell_type": "code",
   "execution_count": 50,
   "metadata": {},
   "outputs": [],
   "source": [
    "# Load the pickle file containing the columns\n",
    "with open(\"../data/processed/columns.pkl\", \"rb\") as f:\n",
    "    cols = pickle.load(f)"
   ]
  },
  {
   "cell_type": "code",
   "execution_count": 51,
   "metadata": {},
   "outputs": [],
   "source": [
    "# reorder the columns in cols moving the column after hour column\n",
    "cols = cols.reindex([\"hour\", \"target\", \"text\", *cols[3:]])"
   ]
  },
  {
   "cell_type": "code",
   "execution_count": 52,
   "metadata": {},
   "outputs": [
    {
     "data": {
      "text/plain": [
       "(Index(['hour', 'target', 'text', 'tokenizer with lowercase',\n",
       "        'tokenizer with lowercase, handle stripping, and length reduction',\n",
       "        'tokenizer with lowercase and alpha',\n",
       "        'tokenizer with lowercase, alpha and emoji',\n",
       "        'tokenizer with lowercase, alpha, and no stop words',\n",
       "        'tokenizer with lowercase, alpha and emoji, and no stop words'],\n",
       "       dtype='object'),\n",
       " array([2, 0, 1, 3, 4, 5, 6, 7, 8]))"
      ]
     },
     "execution_count": 52,
     "metadata": {},
     "output_type": "execute_result"
    }
   ],
   "source": [
    "cols"
   ]
  },
  {
   "cell_type": "code",
   "execution_count": 53,
   "metadata": {},
   "outputs": [],
   "source": [
    "path = \"../data/processed/df_preprocessed.parquet\"\n",
    "df = pd.read_parquet(\n",
    "    path,\n",
    "    columns=[\"text\", \"target\"],\n",
    "    engine=\"pyarrow\",\n",
    "    use_nullable_dtypes=False,\n",
    ")"
   ]
  },
  {
   "cell_type": "code",
   "execution_count": 54,
   "metadata": {},
   "outputs": [
    {
     "name": "stdout",
     "output_type": "stream",
     "text": [
      "<class 'pandas.core.frame.DataFrame'>\n",
      "Index: 1596630 entries, 0 to 799999\n",
      "Data columns (total 2 columns):\n",
      " #   Column  Non-Null Count    Dtype \n",
      "---  ------  --------------    ----- \n",
      " 0   text    1596630 non-null  object\n",
      " 1   target  1596630 non-null  int8  \n",
      "dtypes: int8(1), object(1)\n",
      "memory usage: 25.9+ MB\n"
     ]
    }
   ],
   "source": [
    "df.info()"
   ]
  },
  {
   "cell_type": "markdown",
   "metadata": {},
   "source": [
    "# **Séparation des données**"
   ]
  },
  {
   "cell_type": "markdown",
   "metadata": {},
   "source": [
    "**COMMENTS**:\n",
    "- Charger le parquet dans la fonction si possible en fonction de la liste token_params\n",
    "- Mettre un argument pour la liste des colonnes à charger sinon"
   ]
  },
  {
   "cell_type": "code",
   "execution_count": 55,
   "metadata": {},
   "outputs": [],
   "source": [
    "def split_data(df, test_split=0.2, sampling=True, proportion=0.01):\n",
    "    \"\"\"\n",
    "    Split the data into train and test sets\n",
    "    :param df: Dataframe to split\n",
    "    :param n_rows: Number of rows in the dataframe\n",
    "    :return: X_train, X_test, y_train, y_test\n",
    "    \"\"\"\n",
    "\n",
    "    # Split the data with sampling or\n",
    "    if sampling:\n",
    "        df = df.sample(frac=proportion, random_state=SEED)\n",
    "\n",
    "    # Define X and y\n",
    "    X, y = df.iloc[:, 0], df[\"target\"]\n",
    "\n",
    "    # Split the data with a 0.2 test size\n",
    "    X_train, X_test, y_train, y_test = train_test_split(\n",
    "        X, y, test_size=test_split, stratify=y, random_state=SEED\n",
    "    )\n",
    "\n",
    "    # Display shape of splits\n",
    "    print(\"X_train shape:\", X_train.shape)\n",
    "    print(\"X_test shape:\", X_test.shape)\n",
    "    print(\"y_train shape:\", y_train.shape)\n",
    "    print(\"y_test shape:\", y_test.shape)\n",
    "\n",
    "    # Return the splits\n",
    "    return X_train, X_test, y_train, y_test"
   ]
  },
  {
   "cell_type": "code",
   "execution_count": 56,
   "metadata": {},
   "outputs": [
    {
     "name": "stdout",
     "output_type": "stream",
     "text": [
      "X_train shape: (63865,)\n",
      "X_test shape: (15967,)\n",
      "y_train shape: (63865,)\n",
      "y_test shape: (15967,)\n"
     ]
    }
   ],
   "source": [
    "X_train, X_test, y_train, y_test = split_data(\n",
    "    df, test_split=0.2, sampling=True, proportion=0.05\n",
    ")"
   ]
  },
  {
   "cell_type": "code",
   "execution_count": 57,
   "metadata": {},
   "outputs": [],
   "source": [
    "def df_align(col, X_train=X_train, X_test=X_test, y_train=y_train, y_test=y_test):\n",
    "    # Load the df with the column name\n",
    "    df = pd.read_parquet(\n",
    "        path,\n",
    "        columns=[col, \"target\"],\n",
    "        engine=\"pyarrow\",\n",
    "        use_nullable_dtypes=False,\n",
    "    )\n",
    "    # Get the indexes to keep the same order after alignment\n",
    "    train_index = X_train.index\n",
    "    test_index = X_test.index\n",
    "\n",
    "    # Split the data with alignment and reindexing to keep the same order\n",
    "    X_train, _ = df.filter(like=col).align(X_train, join=\"inner\", axis=0)\n",
    "    X_train = X_train.reindex(train_index)\n",
    "    X_test, _ = df.filter(like=col).align(X_test, join=\"inner\", axis=0)\n",
    "    X_test = X_test.reindex(test_index)\n",
    "    y_train, _ = df.target.align(y_train, join=\"inner\", axis=0)\n",
    "    y_train = y_train.reindex(train_index)\n",
    "    y_test, _ = df.target.align(y_test, join=\"inner\", axis=0)\n",
    "    y_test = y_test.reindex(test_index)\n",
    "\n",
    "    # Return the aligned and sorted new splits\n",
    "    return X_train.squeeze(), X_test.squeeze(), y_train, y_test"
   ]
  },
  {
   "cell_type": "markdown",
   "metadata": {},
   "source": [
    "# **Modélisation**"
   ]
  },
  {
   "cell_type": "markdown",
   "metadata": {},
   "source": [
    "**COMMENTS**:\n",
    "- Création du pipeline modulable\n",
    "- Grille de paramètres pour le vectorizer\n",
    "- Grille de paramètres pour les modèles (LG, MNB)"
   ]
  },
  {
   "cell_type": "markdown",
   "metadata": {},
   "source": [
    "## **TF-IDF**"
   ]
  },
  {
   "cell_type": "code",
   "execution_count": 17,
   "metadata": {},
   "outputs": [],
   "source": [
    "experiment = False\n",
    "if experiment:\n",
    "    with mlflow.start_run():\n",
    "        # Load the file\n",
    "        # Fit and transform the tf-idf vectorizer on the text column\n",
    "        tfidf = TfidfVectorizer(\n",
    "            ngram_range=(1, 3),\n",
    "            max_features=1000,\n",
    "            strip_accents=\"unicode\",\n",
    "        )\n",
    "        X_embed = tfidf.fit_transform(X_train[\"text\"].str.lower())\n",
    "        # Initialize the model\n",
    "        model = LogisticRegression(max_iter=1000)\n",
    "        # Add the input example\n",
    "        input_logit = X_embed[0]\n",
    "        input_tfidf = X_train[\"text\"].str.lower().values[0]\n",
    "        # Perform a cross-validation\n",
    "        scores = cross_validate(\n",
    "            model, X_embed, y_train, cv=5, scoring=[\"accuracy\", \"f1\"]\n",
    "        )\n",
    "        # Your training code here...\n",
    "        model.fit(X_embed, y_train)\n",
    "        y_pred = model.predict(tfidf.transform(X_test[\"text\"].str.lower()))\n",
    "        scores = pd.DataFrame(scores).mean()\n",
    "        acc_score = accuracy_score(y_test, y_pred)\n",
    "        for metric in scores.keys():\n",
    "            mlflow.log_metric(f\"val_{metric}\", scores[metric])\n",
    "        mlflow.log_metric(\"test_accuracy\", acc_score)\n",
    "        mlflow.log_param(\"Dimension\", X_embed.shape[1])\n",
    "        mlflow.log_param(\"Tf-Idf params\", tfidf.get_params())\n",
    "        mlflow.log_param(\"Logistic Regression params\", model.get_params())\n",
    "        mlflow.sklearn.log_model(\n",
    "            model, \"logistic_regression\", input_example=input_logit\n",
    "        )\n",
    "        mlflow.sklearn.log_model(\n",
    "            tfidf, \"tfidf_vectorizer\", input_example=input_tfidf, signature=False\n",
    "        )"
   ]
  },
  {
   "cell_type": "code",
   "execution_count": 18,
   "metadata": {},
   "outputs": [],
   "source": [
    "from sklearn.pipeline import Pipeline"
   ]
  },
  {
   "cell_type": "code",
   "execution_count": 19,
   "metadata": {},
   "outputs": [],
   "source": [
    "def cross_score(X_train, y_train, model, col, cv=10):\n",
    "    \"\"\"\n",
    "    Perform a cross-validation on the model\n",
    "    :param X_train: Training data\n",
    "    :param y_train: Training target\n",
    "    :param model: Model to train\n",
    "    :param cv: Number of folds\n",
    "    :return: scores\n",
    "    \"\"\"\n",
    "    # Perform a cross-validation\n",
    "    scores = cross_validate(model, X_train, y_train, cv=cv, scoring=[\"accuracy\", \"f1\"])\n",
    "    # Return the mean scores\n",
    "    return pd.DataFrame(scores).mean().rename(col)"
   ]
  },
  {
   "cell_type": "code",
   "execution_count": 20,
   "metadata": {},
   "outputs": [],
   "source": [
    "# create a pipeline with Tf-Idf and Logistic Regression\n",
    "model = Pipeline(\n",
    "    [\n",
    "        (\n",
    "            \"tfidf\",\n",
    "            TfidfVectorizer(\n",
    "                ngram_range=(1, 3),\n",
    "                max_features=1000,\n",
    "                strip_accents=\"unicode\",\n",
    "            ),\n",
    "        ),\n",
    "        (\"logistic\", LogisticRegression(max_iter=1000)),\n",
    "    ]\n",
    ")"
   ]
  },
  {
   "cell_type": "code",
   "execution_count": 21,
   "metadata": {},
   "outputs": [
    {
     "name": "stderr",
     "output_type": "stream",
     "text": [
      "100%|██████████| 7/7 [02:47<00:00, 23.96s/it]\n"
     ]
    },
    {
     "data": {
      "text/html": [
       "<div>\n",
       "<style scoped>\n",
       "    .dataframe tbody tr th:only-of-type {\n",
       "        vertical-align: middle;\n",
       "    }\n",
       "\n",
       "    .dataframe tbody tr th {\n",
       "        vertical-align: top;\n",
       "    }\n",
       "\n",
       "    .dataframe thead th {\n",
       "        text-align: right;\n",
       "    }\n",
       "</style>\n",
       "<table border=\"1\" class=\"dataframe\">\n",
       "  <thead>\n",
       "    <tr style=\"text-align: right;\">\n",
       "      <th></th>\n",
       "      <th>text</th>\n",
       "      <th>tokenizer with lowercase</th>\n",
       "      <th>tokenizer with lowercase, handle stripping, and length reduction</th>\n",
       "      <th>tokenizer with lowercase and alpha</th>\n",
       "      <th>tokenizer with lowercase, alpha and emoji</th>\n",
       "      <th>tokenizer with lowercase, alpha, and no stop words</th>\n",
       "      <th>tokenizer with lowercase, alpha and emoji, and no stop words</th>\n",
       "    </tr>\n",
       "  </thead>\n",
       "  <tbody>\n",
       "    <tr>\n",
       "      <th>fit_time</th>\n",
       "      <td>2.792974</td>\n",
       "      <td>2.799304</td>\n",
       "      <td>2.634673</td>\n",
       "      <td>2.307328</td>\n",
       "      <td>2.355824</td>\n",
       "      <td>1.514479</td>\n",
       "      <td>1.322546</td>\n",
       "    </tr>\n",
       "    <tr>\n",
       "      <th>score_time</th>\n",
       "      <td>0.098907</td>\n",
       "      <td>0.100065</td>\n",
       "      <td>0.097670</td>\n",
       "      <td>0.084698</td>\n",
       "      <td>0.086539</td>\n",
       "      <td>0.052336</td>\n",
       "      <td>0.051060</td>\n",
       "    </tr>\n",
       "    <tr>\n",
       "      <th>test_accuracy</th>\n",
       "      <td>0.758913</td>\n",
       "      <td>0.759602</td>\n",
       "      <td>0.759085</td>\n",
       "      <td>0.757191</td>\n",
       "      <td>0.757191</td>\n",
       "      <td>0.732436</td>\n",
       "      <td>0.732436</td>\n",
       "    </tr>\n",
       "    <tr>\n",
       "      <th>test_f1</th>\n",
       "      <td>0.760355</td>\n",
       "      <td>0.761244</td>\n",
       "      <td>0.760565</td>\n",
       "      <td>0.759201</td>\n",
       "      <td>0.759201</td>\n",
       "      <td>0.739684</td>\n",
       "      <td>0.739684</td>\n",
       "    </tr>\n",
       "  </tbody>\n",
       "</table>\n",
       "</div>"
      ],
      "text/plain": [
       "                   text  tokenizer with lowercase  \\\n",
       "fit_time       2.792974                  2.799304   \n",
       "score_time     0.098907                  0.100065   \n",
       "test_accuracy  0.758913                  0.759602   \n",
       "test_f1        0.760355                  0.761244   \n",
       "\n",
       "               tokenizer with lowercase, handle stripping, and length reduction  \\\n",
       "fit_time                                                2.634673                  \n",
       "score_time                                              0.097670                  \n",
       "test_accuracy                                           0.759085                  \n",
       "test_f1                                                 0.760565                  \n",
       "\n",
       "               tokenizer with lowercase and alpha  \\\n",
       "fit_time                                 2.307328   \n",
       "score_time                               0.084698   \n",
       "test_accuracy                            0.757191   \n",
       "test_f1                                  0.759201   \n",
       "\n",
       "               tokenizer with lowercase, alpha and emoji  \\\n",
       "fit_time                                        2.355824   \n",
       "score_time                                      0.086539   \n",
       "test_accuracy                                   0.757191   \n",
       "test_f1                                         0.759201   \n",
       "\n",
       "               tokenizer with lowercase, alpha, and no stop words  \\\n",
       "fit_time                                                1.514479    \n",
       "score_time                                              0.052336    \n",
       "test_accuracy                                           0.732436    \n",
       "test_f1                                                 0.739684    \n",
       "\n",
       "               tokenizer with lowercase, alpha and emoji, and no stop words  \n",
       "fit_time                                                1.322546             \n",
       "score_time                                              0.051060             \n",
       "test_accuracy                                           0.732436             \n",
       "test_f1                                                 0.739684             "
      ]
     },
     "execution_count": 21,
     "metadata": {},
     "output_type": "execute_result"
    }
   ],
   "source": [
    "scores_list = []\n",
    "for col in tqdm(cols[0][2:]):\n",
    "    # Align the data\n",
    "    if col != \"text\":\n",
    "        X_train, X_test, y_train, y_test = df_align(col)\n",
    "    # Execute the cross-score function\n",
    "    scores = cross_score(X_train, y_train, model, col, cv=10)\n",
    "    # Display the scores\n",
    "    scores_list.append(scores)\n",
    "# Concatenate the scores\n",
    "scores_df = pd.concat(scores_list, axis=1)\n",
    "# Display the scores\n",
    "scores_df"
   ]
  },
  {
   "cell_type": "markdown",
   "metadata": {},
   "source": [
    "Le retrait de certain stop words affecte probablement la capacité du modèle à prédire correctement le sentiment.<br>\n",
    "Par exemple, le mot \"not\" est un stop word et est retiré de la liste des mots à analyser. Cela peut affecter la prédiction du sentiment si le mot \"not\" est important pour la prédiction du sentiment."
   ]
  },
  {
   "cell_type": "code",
   "execution_count": 22,
   "metadata": {},
   "outputs": [],
   "source": [
    "# create a pipeline with Tf-Idf and Logistic Regression\n",
    "model = Pipeline(\n",
    "    [\n",
    "        (\n",
    "            \"tfidf\",\n",
    "            TfidfVectorizer(\n",
    "                ngram_range=(1, 3),\n",
    "                max_features=1000,\n",
    "                strip_accents=\"unicode\",\n",
    "            ),\n",
    "        ),\n",
    "        (\"MultinomialNB\", MultinomialNB()),\n",
    "    ]\n",
    ")"
   ]
  },
  {
   "cell_type": "code",
   "execution_count": 23,
   "metadata": {},
   "outputs": [
    {
     "name": "stderr",
     "output_type": "stream",
     "text": [
      "100%|██████████| 7/7 [02:45<00:00, 23.68s/it]\n"
     ]
    },
    {
     "data": {
      "text/html": [
       "<div>\n",
       "<style scoped>\n",
       "    .dataframe tbody tr th:only-of-type {\n",
       "        vertical-align: middle;\n",
       "    }\n",
       "\n",
       "    .dataframe tbody tr th {\n",
       "        vertical-align: top;\n",
       "    }\n",
       "\n",
       "    .dataframe thead th {\n",
       "        text-align: right;\n",
       "    }\n",
       "</style>\n",
       "<table border=\"1\" class=\"dataframe\">\n",
       "  <thead>\n",
       "    <tr style=\"text-align: right;\">\n",
       "      <th></th>\n",
       "      <th>text</th>\n",
       "      <th>tokenizer with lowercase</th>\n",
       "      <th>tokenizer with lowercase, handle stripping, and length reduction</th>\n",
       "      <th>tokenizer with lowercase and alpha</th>\n",
       "      <th>tokenizer with lowercase, alpha and emoji</th>\n",
       "      <th>tokenizer with lowercase, alpha, and no stop words</th>\n",
       "      <th>tokenizer with lowercase, alpha and emoji, and no stop words</th>\n",
       "    </tr>\n",
       "  </thead>\n",
       "  <tbody>\n",
       "    <tr>\n",
       "      <th>fit_time</th>\n",
       "      <td>2.724755</td>\n",
       "      <td>2.843830</td>\n",
       "      <td>2.538568</td>\n",
       "      <td>2.455027</td>\n",
       "      <td>2.245535</td>\n",
       "      <td>1.202892</td>\n",
       "      <td>1.473164</td>\n",
       "    </tr>\n",
       "    <tr>\n",
       "      <th>score_time</th>\n",
       "      <td>0.096113</td>\n",
       "      <td>0.099040</td>\n",
       "      <td>0.090046</td>\n",
       "      <td>0.083166</td>\n",
       "      <td>0.083293</td>\n",
       "      <td>0.051234</td>\n",
       "      <td>0.049753</td>\n",
       "    </tr>\n",
       "    <tr>\n",
       "      <th>test_accuracy</th>\n",
       "      <td>0.738229</td>\n",
       "      <td>0.739121</td>\n",
       "      <td>0.738229</td>\n",
       "      <td>0.737368</td>\n",
       "      <td>0.737368</td>\n",
       "      <td>0.719173</td>\n",
       "      <td>0.719173</td>\n",
       "    </tr>\n",
       "    <tr>\n",
       "      <th>test_f1</th>\n",
       "      <td>0.728693</td>\n",
       "      <td>0.730365</td>\n",
       "      <td>0.728495</td>\n",
       "      <td>0.730633</td>\n",
       "      <td>0.730633</td>\n",
       "      <td>0.710744</td>\n",
       "      <td>0.710744</td>\n",
       "    </tr>\n",
       "  </tbody>\n",
       "</table>\n",
       "</div>"
      ],
      "text/plain": [
       "                   text  tokenizer with lowercase  \\\n",
       "fit_time       2.724755                  2.843830   \n",
       "score_time     0.096113                  0.099040   \n",
       "test_accuracy  0.738229                  0.739121   \n",
       "test_f1        0.728693                  0.730365   \n",
       "\n",
       "               tokenizer with lowercase, handle stripping, and length reduction  \\\n",
       "fit_time                                                2.538568                  \n",
       "score_time                                              0.090046                  \n",
       "test_accuracy                                           0.738229                  \n",
       "test_f1                                                 0.728495                  \n",
       "\n",
       "               tokenizer with lowercase and alpha  \\\n",
       "fit_time                                 2.455027   \n",
       "score_time                               0.083166   \n",
       "test_accuracy                            0.737368   \n",
       "test_f1                                  0.730633   \n",
       "\n",
       "               tokenizer with lowercase, alpha and emoji  \\\n",
       "fit_time                                        2.245535   \n",
       "score_time                                      0.083293   \n",
       "test_accuracy                                   0.737368   \n",
       "test_f1                                         0.730633   \n",
       "\n",
       "               tokenizer with lowercase, alpha, and no stop words  \\\n",
       "fit_time                                                1.202892    \n",
       "score_time                                              0.051234    \n",
       "test_accuracy                                           0.719173    \n",
       "test_f1                                                 0.710744    \n",
       "\n",
       "               tokenizer with lowercase, alpha and emoji, and no stop words  \n",
       "fit_time                                                1.473164             \n",
       "score_time                                              0.049753             \n",
       "test_accuracy                                           0.719173             \n",
       "test_f1                                                 0.710744             "
      ]
     },
     "execution_count": 23,
     "metadata": {},
     "output_type": "execute_result"
    }
   ],
   "source": [
    "scores_list = []\n",
    "for col in tqdm(cols[0][2:]):\n",
    "    # Align the data\n",
    "    X_train, X_test, y_train, y_test = df_align(col)\n",
    "    # Execute the cross-score function\n",
    "    scores = cross_score(X_train, y_train, model, col, cv=10)\n",
    "    # Display the scores\n",
    "    scores_list.append(scores)\n",
    "# Concatenate the scores\n",
    "scores_df = pd.concat(scores_list, axis=1)\n",
    "# Display the scores\n",
    "scores_df"
   ]
  },
  {
   "cell_type": "markdown",
   "metadata": {},
   "source": [
    "## **CUSTOM NN**"
   ]
  },
  {
   "cell_type": "code",
   "execution_count": 42,
   "metadata": {},
   "outputs": [],
   "source": [
    "batch_size = 64\n",
    "seed = SEED"
   ]
  },
  {
   "cell_type": "code",
   "execution_count": 43,
   "metadata": {},
   "outputs": [],
   "source": [
    "def tf_ds_split(\n",
    "    X_train, X_test, y_train, y_test, col, batch_size=batch_size, seed=seed\n",
    "):\n",
    "    \"\"\"\n",
    "    Split the data into train and test sets\n",
    "    \"\"\"\n",
    "    X_train, X_test, y_train, y_test = df_align(col)\n",
    "    X_train_split, X_val_split, y_train_split, y_val_split = train_test_split(\n",
    "        X_train, y_train, test_size=0.2, stratify=y_train, random_state=seed\n",
    "    )\n",
    "\n",
    "    # create train, val , test datasets\n",
    "    train_ds = tf.data.Dataset.from_tensor_slices((X_train_split, y_train_split)).batch(\n",
    "        batch_size\n",
    "    )\n",
    "    val_ds = tf.data.Dataset.from_tensor_slices((X_val_split, y_val_split)).batch(\n",
    "        batch_size\n",
    "    )\n",
    "    test_ds = tf.data.Dataset.from_tensor_slices((X_test, y_test)).batch(batch_size)\n",
    "\n",
    "    return train_ds, val_ds, test_ds"
   ]
  },
  {
   "cell_type": "code",
   "execution_count": 44,
   "metadata": {},
   "outputs": [],
   "source": [
    "def vectorize_text(text, label):\n",
    "    text = tf.expand_dims(text, -1)\n",
    "    return vectorize_layer(text), label"
   ]
  },
  {
   "cell_type": "code",
   "execution_count": 30,
   "metadata": {},
   "outputs": [
    {
     "data": {
      "text/plain": [
       "(Index(['hour', 'target', 'text', 'tokenizer with lowercase',\n",
       "        'tokenizer with lowercase, handle stripping, and length reduction',\n",
       "        'tokenizer with lowercase and alpha',\n",
       "        'tokenizer with lowercase, alpha and emoji',\n",
       "        'tokenizer with lowercase, alpha, and no stop words',\n",
       "        'tokenizer with lowercase, alpha and emoji, and no stop words'],\n",
       "       dtype='object'),\n",
       " array([2, 0, 1, 3, 4, 5, 6, 7, 8]))"
      ]
     },
     "execution_count": 30,
     "metadata": {},
     "output_type": "execute_result"
    }
   ],
   "source": [
    "cols"
   ]
  },
  {
   "cell_type": "code",
   "execution_count": 45,
   "metadata": {},
   "outputs": [],
   "source": [
    "col_name = \"text\"\n",
    "train_ds, val_ds, test_ds = tf_ds_split(\n",
    "    X_train, X_test, y_train, y_test, col_name, batch_size=batch_size, seed=SEED\n",
    ")"
   ]
  },
  {
   "cell_type": "code",
   "execution_count": 46,
   "metadata": {},
   "outputs": [
    {
     "name": "stdout",
     "output_type": "stream",
     "text": [
      "(<tf.Tensor: shape=(64,), dtype=string, numpy=\n",
      "array([b\"I love asparagus. I just thouht I'd express my vegetable love seeing as Dad's watching about it on The One Show \",\n",
      "       b'arrrrhhh, i did it again i past 100 and now 200 i was gunna say it was my 200th update but i didnt get to again ',\n",
      "       b\"Losing one's phone in the house while it's set to &quot;silent&quot; is not the best. \",\n",
      "       b'how do you deal with a long distance relationship help??? ',\n",
      "       b'BORED of packing ',\n",
      "       b\"@duckierenee I've just read that, you're EVIL and when are you coming to cook for me? \",\n",
      "       b\"@iphone_dev Not having a Mac means I can't use pwnage so  can't get the Egg \",\n",
      "       b'@wickedgirl24 glad you like it ',\n",
      "       b'I am feeling like Donald Trump today.  This morning needs to get in line.  ',\n",
      "       b\"@PleaseBiteMe It's totally fair \",\n",
      "       b\"anti-gay protesters dwntwn make mooncheez sad  we support 1st amendmnt rights, but don't agree with the msg. everyone should have rights!\",\n",
      "       b'@Saphira_blue Good. You are progressing mashallah ',\n",
      "       b\"@alyssagreco Don't actually, I would share with you but I am no where near you \",\n",
      "       b'@dunkindonuts_ yeah bubu   *ouch* where were you?? i was waitin',\n",
      "       b\"@fiiiwhore don't fail  goood luckkkk\",\n",
      "       b'@simondoggett @katematlock  so far sofa is looking like a DFS job and the bed... Well I had a few suggestions on that!',\n",
      "       b'i am bored out of mind during summer 09 ',\n",
      "       b\"Small favors: on a full flight, it seems I have an aisle with one of the only free middle seats.  let's hope it stays that way.\",\n",
      "       b'Post mortem ',\n",
      "       b'Ugh, me not being able to type properly = too early for twitter!! The gym opens in 23 mins!! Bye Tweetie Pies ',\n",
      "       b'@JohnLloydTaylor I started screaming when I saw you on JONAS. It was so cool! You rock  &lt;3',\n",
      "       b\"I have a migraine, I'm nauseous, my hands are shaking, and I'm just realising how nice it used to be to have someone rub my back \",\n",
      "       b'Morning Tweets ', b'Just got in to work  ',\n",
      "       b\"Can't wait for tomorrow! \",\n",
      "       b'There are just sooo many articles to write. Goldie, missed you alr! Should have just go eat with you n xiaocui!  - http://tweet.sg',\n",
      "       b'last time washing my hair ',\n",
      "       b\"ahh, i'm bored! don't want to go to school tomorrow  xxxx\",\n",
      "       b'Been in my bed sick all day long.  fixing to attempt to eat something for the first time today.',\n",
      "       b\"@findingurstyle yeah tonight's a no no \",\n",
      "       b\"Just watched ''The notebook'' again \",\n",
      "       b'Putting new songs on my shuffle, and syncing them. ',\n",
      "       b'@PinkyandDan you were meant to talk about me and Tanya on the radio today talking about Twitter. Did you? ',\n",
      "       b'I am falling asleep in the car! And my jaw feels super tight! ',\n",
      "       b\"@nikkisonfire @Youaremyanchor u didn't reply it \",\n",
      "       b'I promised to update my twitter every now and then. LOL Greet your mom by simply saying YOUR HOT ',\n",
      "       b'@lindentreephoto OH take me take me!!! Have fun ',\n",
      "       b'in** 2 weeks.  apparently sleep deprivation also makes one mentally retarded. fix my ear! ',\n",
      "       b'i got kicked out of the room that has the DirecTV box.  watching a livestream of it instead. &gt;:[',\n",
      "       b'@ScottRodriguez hey it looked interesting! Plus it was on our network ',\n",
      "       b\"Thanks @TJ_USTA @peacechicken @jkostelac! I can't see replies though and I'm definitely all about everyone else.  Tonight was awesome tho!\",\n",
      "       b'Currently napping in the lobby of the hilton ohare ',\n",
      "       b'Im heading home. gotta work sunday. ',\n",
      "       b'@StuartGoss Clean them up??? Sounds like a good holiday ',\n",
      "       b\"@swikey haha, okay, i feel much better now. let's just dye our hair paramore red! \",\n",
      "       b'The storm finished 20 mins ago, and already the balconies are dry  I *love* this weather. Now... back to going through the photos.',\n",
      "       b\"@valerijgo Yes, I've clarified it now thanks... \",\n",
      "       b\"Just dropped my mom off at the airport!  I love my mom! She's the best! After 2 weeks here, I feel like I don't kno what to do w/ myself.\",\n",
      "       b'@tbjs Good luck tonight you guys!  Wish I could go ',\n",
      "       b'@AndrewMoriarty google phone!  haha. i want one of those! thanks for the bracelet btw! got it yesterday ',\n",
      "       b\"Woke up on the wrong side of the bed at the wrong time. So I'd take a nap and then do what I'm best at doing \",\n",
      "       b'@tpr2 np  more to come *winks*',\n",
      "       b\"@SMack_xc awww kiddo, i just realized. my grandpa's birthday is on wednesday. which means i wont be able to go \",\n",
      "       b'downtown with the bestieeeeee ',\n",
      "       b'@jackiebeehm consider reading Twitter Power by Joel Comm. I just started it, but it has the wheels moving ',\n",
      "       b'@SimonBrading thanks for the offer bro. Seen it fairly recently though ',\n",
      "       b\"@jaysonbarnden When you get this message can you please send me a text I have lost your details  I don't want to show up unannounced.\",\n",
      "       b\"@doctorow, re Posey, She's not so little anymore. You're in the Parental Timewarp.  \",\n",
      "       b'*sigh* feeling so down today ',\n",
      "       b'TOMORROW IS THE BIG FUN DAYYY WOOO ',\n",
      "       b'@wicked12 Have a good night and thanks ',\n",
      "       b\"I'm going to sleep. Catch till tommorow \",\n",
      "       b\"OMGoodness. This episode of &quot;Are You Being Served?&quot; (a 70's Brit show) is so racist.  Makes you see it differently, even though it's 1 ep.\",\n",
      "       b'@petrilude you make me giggle  yay for midnight giggles @ Josh!'],\n",
      "      dtype=object)>, <tf.Tensor: shape=(64,), dtype=int8, numpy=\n",
      "array([1, 0, 0, 0, 0, 1, 0, 1, 0, 1, 0, 1, 0, 0, 1, 1, 0, 1, 0, 1, 1, 0,\n",
      "       1, 0, 1, 0, 0, 0, 0, 0, 1, 1, 0, 0, 0, 1, 1, 0, 0, 1, 1, 0, 0, 1,\n",
      "       1, 1, 1, 0, 0, 1, 1, 1, 0, 1, 1, 1, 0, 1, 0, 1, 1, 1, 0, 1],\n",
      "      dtype=int8)>)\n"
     ]
    }
   ],
   "source": [
    "for row in train_ds.take(1):\n",
    "    print(row)"
   ]
  },
  {
   "cell_type": "code",
   "execution_count": 47,
   "metadata": {},
   "outputs": [],
   "source": [
    "exemple = \"@bro My sister is  asparagus, she got 8 balls, she is cool, so do i,  and can t play with  me brooooooo !!!!!!!!!!!!!  !! !!!  :) go on www.google.com \""
   ]
  },
  {
   "cell_type": "code",
   "execution_count": 34,
   "metadata": {},
   "outputs": [
    {
     "data": {
      "text/plain": [
       "<tf.Tensor: shape=(), dtype=string, numpy=b'my sister is asparagus she got 8 balls she is cool so do i and can t play with me brooooooo go on'>"
      ]
     },
     "execution_count": 34,
     "metadata": {},
     "output_type": "execute_result"
    }
   ],
   "source": [
    "tensor = tf.constant(exemple)\n",
    "tensor = tf.strings.lower(tensor)\n",
    "tensor = tf.strings.regex_replace(tensor, r\"@\\w+\", \" \")\n",
    "tensor = tf.strings.regex_replace(tensor, r\"http\\S+|www\\S+\", \" \")\n",
    "tensor = tf.strings.regex_replace(tensor, r\"[^\\w\\s\\d]\", \" \")\n",
    "tensor = tf.strings.regex_replace(tensor, r\"\\s{2,}\", \" \")\n",
    "tensor = tf.strings.strip(tensor)\n",
    "tensor"
   ]
  },
  {
   "cell_type": "code",
   "execution_count": 48,
   "metadata": {},
   "outputs": [],
   "source": [
    "# create a custom tensorflow text standardization with lowercase, punctuation removal and tokenization\n",
    "def custom_standardization(tensor):\n",
    "    tensor = tf.strings.lower(tensor)  # lowercase\n",
    "    tensor = tf.strings.regex_replace(tensor, r\"@\\w+\", \" \")  # strip mentions\n",
    "    tensor = tf.strings.regex_replace(tensor, r\"http\\S+|www\\S+\", \" \")  # strip urls\n",
    "    tensor = tf.strings.regex_replace(tensor, r\"[^\\w\\s\\d]\", \" \")  # strip punctuation\n",
    "    tensor = tf.strings.regex_replace(tensor, r\"\\s{2,}\", \" \")  # strip multiple spaces\n",
    "    return tf.strings.strip(tensor)  # strip leading and trailing spaces"
   ]
  },
  {
   "cell_type": "code",
   "execution_count": 49,
   "metadata": {},
   "outputs": [
    {
     "name": "stderr",
     "output_type": "stream",
     "text": [
      "2024-11-01 18:17:34.717963: I tensorflow/core/grappler/optimizers/custom_graph_optimizer_registry.cc:114] Plugin optimizer for device_type GPU is enabled.\n"
     ]
    }
   ],
   "source": [
    "# Define the parameters\n",
    "max_features = 1500\n",
    "sequence_length = 100\n",
    "embedding_dim = 16\n",
    "\n",
    "# Create a text datagenerator for the training set\n",
    "vectorize_layer = TextVectorization(\n",
    "    standardize=custom_standardization,\n",
    "    max_tokens=max_features,\n",
    "    output_sequence_length=sequence_length,\n",
    "    output_mode=\"int\",\n",
    ")\n",
    "# Make a text-only dataset (without labels), then call adapt\n",
    "train_text = train_ds.map(lambda x, y: x)\n",
    "vectorize_layer.adapt(train_text)\n",
    "\n",
    "# Map the vectorize function to the train, val and test datasets\n",
    "train_ds = train_ds.map(vectorize_text)\n",
    "val_ds = val_ds.map(vectorize_text)\n",
    "test_ds = test_ds.map(vectorize_text)\n",
    "AUTOTUNE = tf.data.AUTOTUNE\n",
    "\n",
    "train_ds = train_ds.cache().prefetch(buffer_size=AUTOTUNE)\n",
    "val_ds = val_ds.cache().prefetch(buffer_size=AUTOTUNE)\n",
    "test_ds = test_ds.cache().prefetch(buffer_size=AUTOTUNE)\n"
   ]
  },
  {
   "cell_type": "code",
   "execution_count": 50,
   "metadata": {},
   "outputs": [
    {
     "name": "stdout",
     "output_type": "stream",
     "text": [
      "Model: \"sequential_2\"\n"
     ]
    },
    {
     "name": "stdout",
     "output_type": "stream",
     "text": [
      "_________________________________________________________________\n",
      " Layer (type)                Output Shape              Param #   \n",
      "=================================================================\n",
      " embedding_2 (Embedding)     (None, None, 16)          24000     \n",
      "                                                                 \n",
      " dropout_4 (Dropout)         (None, None, 16)          0         \n",
      "                                                                 \n",
      " global_average_pooling1d_2   (None, 16)               0         \n",
      " (GlobalAveragePooling1D)                                        \n",
      "                                                                 \n",
      " dropout_5 (Dropout)         (None, 16)                0         \n",
      "                                                                 \n",
      " dense_2 (Dense)             (None, 1)                 17        \n",
      "                                                                 \n",
      "=================================================================\n",
      "Total params: 24,017\n",
      "Trainable params: 24,017\n",
      "Non-trainable params: 0\n",
      "_________________________________________________________________\n"
     ]
    }
   ],
   "source": [
    "model = tf.keras.Sequential(\n",
    "    [\n",
    "        tf.keras.layers.Embedding(max_features, embedding_dim),\n",
    "        tf.keras.layers.Dropout(0.2),\n",
    "        tf.keras.layers.GlobalAveragePooling1D(),\n",
    "        tf.keras.layers.Dropout(0.2),\n",
    "        tf.keras.layers.Dense(1, activation=\"sigmoid\"),\n",
    "    ]\n",
    ")\n",
    "\n",
    "model.summary()"
   ]
  },
  {
   "cell_type": "code",
   "execution_count": 51,
   "metadata": {},
   "outputs": [],
   "source": [
    "model.compile(\n",
    "    loss=tf.losses.BinaryCrossentropy(),\n",
    "    optimizer=\"adam\",\n",
    "    metrics=[tf.metrics.BinaryAccuracy(threshold=0.5)],\n",
    ")"
   ]
  },
  {
   "cell_type": "code",
   "execution_count": 52,
   "metadata": {},
   "outputs": [],
   "source": [
    "# Define callbacks\n",
    "callbacks = [\n",
    "    tf.keras.callbacks.EarlyStopping(monitor=\"val_loss\", mode=\"min\", patience=2),\n",
    "    tf.keras.callbacks.ModelCheckpoint(\n",
    "        filepath=f\"../weights/{col_name}_model.h5\",\n",
    "        monitor=\"val_loss\",\n",
    "        save_best_only=True,\n",
    "    ),\n",
    "]"
   ]
  },
  {
   "cell_type": "code",
   "execution_count": 53,
   "metadata": {},
   "outputs": [
    {
     "name": "stdout",
     "output_type": "stream",
     "text": [
      "Epoch 1/15\n"
     ]
    },
    {
     "name": "stdout",
     "output_type": "stream",
     "text": [
      " 13/799 [..............................] - ETA: 6s - loss: 0.6935 - binary_accuracy: 0.4844 "
     ]
    },
    {
     "name": "stderr",
     "output_type": "stream",
     "text": [
      "2024-11-01 18:17:48.616895: I tensorflow/core/grappler/optimizers/custom_graph_optimizer_registry.cc:114] Plugin optimizer for device_type GPU is enabled.\n",
      "2024-11-01 18:17:48.663561: I tensorflow/core/common_runtime/pluggable_device/pluggable_device_factory.cc:306] Could not identify NUMA node of platform GPU ID 0, defaulting to 0. Your kernel may not have been built with NUMA support.\n",
      "2024-11-01 18:17:48.663607: I tensorflow/core/common_runtime/pluggable_device/pluggable_device_factory.cc:272] Created TensorFlow device (/job:localhost/replica:0/task:0/device:GPU:0 with 25405 MB memory) -> physical PluggableDevice (device: 0, name: DML, pci bus id: <undefined>)\n",
      "2024-11-01 18:17:48.664749: I tensorflow/core/common_runtime/pluggable_device/pluggable_device_factory.cc:306] Could not identify NUMA node of platform GPU ID 0, defaulting to 0. Your kernel may not have been built with NUMA support.\n",
      "2024-11-01 18:17:48.664782: I tensorflow/core/common_runtime/pluggable_device/pluggable_device_factory.cc:272] Created TensorFlow device (/job:localhost/replica:0/task:0/device:GPU:0 with 25405 MB memory) -> physical PluggableDevice (device: 0, name: DML, pci bus id: <undefined>)\n",
      "2024-11-01 18:17:48.666551: I tensorflow/core/common_runtime/pluggable_device/pluggable_device_factory.cc:306] Could not identify NUMA node of platform GPU ID 0, defaulting to 0. Your kernel may not have been built with NUMA support.\n",
      "2024-11-01 18:17:48.666584: I tensorflow/core/common_runtime/pluggable_device/pluggable_device_factory.cc:272] Created TensorFlow device (/job:localhost/replica:0/task:0/device:GPU:0 with 25405 MB memory) -> physical PluggableDevice (device: 0, name: DML, pci bus id: <undefined>)\n"
     ]
    },
    {
     "name": "stdout",
     "output_type": "stream",
     "text": [
      "796/799 [============================>.] - ETA: 0s - loss: 0.6828 - binary_accuracy: 0.6166"
     ]
    },
    {
     "name": "stderr",
     "output_type": "stream",
     "text": [
      "2024-11-01 18:17:55.488744: I tensorflow/core/grappler/optimizers/custom_graph_optimizer_registry.cc:114] Plugin optimizer for device_type GPU is enabled.\n",
      "2024-11-01 18:17:55.504360: I tensorflow/core/common_runtime/pluggable_device/pluggable_device_factory.cc:306] Could not identify NUMA node of platform GPU ID 0, defaulting to 0. Your kernel may not have been built with NUMA support.\n",
      "2024-11-01 18:17:55.504403: I tensorflow/core/common_runtime/pluggable_device/pluggable_device_factory.cc:272] Created TensorFlow device (/job:localhost/replica:0/task:0/device:GPU:0 with 25405 MB memory) -> physical PluggableDevice (device: 0, name: DML, pci bus id: <undefined>)\n"
     ]
    },
    {
     "name": "stdout",
     "output_type": "stream",
     "text": [
      "799/799 [==============================] - 8s 9ms/step - loss: 0.6827 - binary_accuracy: 0.6167 - val_loss: 0.6628 - val_binary_accuracy: 0.6936\n",
      "Epoch 2/15\n",
      "799/799 [==============================] - 7s 9ms/step - loss: 0.6336 - binary_accuracy: 0.6957 - val_loss: 0.6066 - val_binary_accuracy: 0.7164\n",
      "Epoch 3/15\n",
      "799/799 [==============================] - 8s 10ms/step - loss: 0.5843 - binary_accuracy: 0.7239 - val_loss: 0.5673 - val_binary_accuracy: 0.7334\n",
      "Epoch 4/15\n",
      "799/799 [==============================] - 7s 9ms/step - loss: 0.5525 - binary_accuracy: 0.7433 - val_loss: 0.5420 - val_binary_accuracy: 0.7481\n",
      "Epoch 5/15\n",
      "799/799 [==============================] - 7s 9ms/step - loss: 0.5316 - binary_accuracy: 0.7548 - val_loss: 0.5253 - val_binary_accuracy: 0.7556\n",
      "Epoch 6/15\n",
      "799/799 [==============================] - 7s 9ms/step - loss: 0.5175 - binary_accuracy: 0.7616 - val_loss: 0.5144 - val_binary_accuracy: 0.7626\n",
      "Epoch 7/15\n",
      "799/799 [==============================] - 7s 9ms/step - loss: 0.5087 - binary_accuracy: 0.7656 - val_loss: 0.5072 - val_binary_accuracy: 0.7646\n",
      "Epoch 8/15\n",
      "799/799 [==============================] - 7s 9ms/step - loss: 0.5018 - binary_accuracy: 0.7689 - val_loss: 0.5025 - val_binary_accuracy: 0.7664\n",
      "Epoch 9/15\n",
      "799/799 [==============================] - 7s 9ms/step - loss: 0.4965 - binary_accuracy: 0.7717 - val_loss: 0.4993 - val_binary_accuracy: 0.7678\n",
      "Epoch 10/15\n",
      "799/799 [==============================] - 7s 9ms/step - loss: 0.4932 - binary_accuracy: 0.7734 - val_loss: 0.4971 - val_binary_accuracy: 0.7674\n",
      "Epoch 11/15\n",
      "799/799 [==============================] - 7s 9ms/step - loss: 0.4910 - binary_accuracy: 0.7744 - val_loss: 0.4957 - val_binary_accuracy: 0.7678\n",
      "Epoch 12/15\n",
      "799/799 [==============================] - 7s 9ms/step - loss: 0.4888 - binary_accuracy: 0.7759 - val_loss: 0.4947 - val_binary_accuracy: 0.7680\n",
      "Epoch 13/15\n",
      "799/799 [==============================] - 7s 9ms/step - loss: 0.4864 - binary_accuracy: 0.7762 - val_loss: 0.4940 - val_binary_accuracy: 0.7671\n",
      "Epoch 14/15\n",
      "799/799 [==============================] - 7s 9ms/step - loss: 0.4859 - binary_accuracy: 0.7769 - val_loss: 0.4936 - val_binary_accuracy: 0.7664\n",
      "Epoch 15/15\n",
      "799/799 [==============================] - 7s 9ms/step - loss: 0.4840 - binary_accuracy: 0.7790 - val_loss: 0.4933 - val_binary_accuracy: 0.7662\n"
     ]
    }
   ],
   "source": [
    "epochs = 15\n",
    "history = model.fit(\n",
    "    train_ds,\n",
    "    validation_data=val_ds,\n",
    "    epochs=epochs,\n",
    "    callbacks=callbacks,\n",
    ")"
   ]
  },
  {
   "cell_type": "code",
   "execution_count": 54,
   "metadata": {},
   "outputs": [
    {
     "data": {
      "image/png": "[encoded data removed]",
      "text/plain": [
       "<Figure size 640x480 with 1 Axes>"
      ]
     },
     "metadata": {},
     "output_type": "display_data"
    }
   ],
   "source": [
    "plt.plot(history.history[\"loss\"], label=\"Training Loss\")\n",
    "plt.plot(history.history[\"val_loss\"], label=\"Validation Loss\")\n",
    "plt.xlabel(\"Epochs\")\n",
    "plt.ylabel(\"Loss\")\n",
    "plt.legend()\n",
    "plt.show()"
   ]
  },
  {
   "cell_type": "code",
   "execution_count": 35,
   "metadata": {},
   "outputs": [
    {
     "data": {
      "text/plain": [
       "(Index(['hour', 'target', 'text', 'tokenizer with lowercase',\n",
       "        'tokenizer with lowercase, handle stripping, and length reduction',\n",
       "        'tokenizer with lowercase and alpha',\n",
       "        'tokenizer with lowercase, alpha and emoji',\n",
       "        'tokenizer with lowercase, alpha, and no stop words',\n",
       "        'tokenizer with lowercase, alpha and emoji, and no stop words'],\n",
       "       dtype='object'),\n",
       " array([2, 0, 1, 3, 4, 5, 6, 7, 8]))"
      ]
     },
     "execution_count": 35,
     "metadata": {},
     "output_type": "execute_result"
    }
   ],
   "source": [
    "cols"
   ]
  },
  {
   "cell_type": "code",
   "execution_count": 31,
   "metadata": {},
   "outputs": [],
   "source": [
    "col_name = \"tokenizer with lowercase, handle stripping, and length reduction\"\n",
    "train_ds, val_ds, test_ds = tf_ds_split(\n",
    "    X_train,\n",
    "    X_test,\n",
    "    y_train,\n",
    "    y_test,\n",
    "    col_name,\n",
    ")"
   ]
  },
  {
   "cell_type": "code",
   "execution_count": 32,
   "metadata": {},
   "outputs": [
    {
     "name": "stdout",
     "output_type": "stream",
     "text": [
      "(<tf.Tensor: shape=(32,), dtype=string, numpy=\n",
      "array([b\"i love asparagus . i just thouht i'd express my vegetable love seeing as dad's watching about it on the one show\",\n",
      "       b'arrrhhh , i did it again i past 100 and now 200 i was gunna say it was my 200th update but i didnt get to again',\n",
      "       b'losing one\\'s phone in the house while it\\'s set to \" silent \" is not the best .',\n",
      "       b'how do you deal with a long distance relationship help ? ? ?',\n",
      "       b'bored of packing',\n",
      "       b\"i've just read that , you're evil and when are you coming to cook for me ?\",\n",
      "       b\"not having a mac means i can't use pwnage so can't get the egg\",\n",
      "       b'glad you like it',\n",
      "       b'i am feeling like donald trump today . this morning needs to get in line .',\n",
      "       b\"it's totally fair\",\n",
      "       b\"anti-gay protesters dwntwn make mooncheez sad we support 1st amendmnt rights , but don't agree with the msg . everyone should have rights !\",\n",
      "       b'good . you are progressing mashallah',\n",
      "       b\"don't actually , i would share with you but i am no where near you\",\n",
      "       b'yeah bubu * ouch * where were you ? ? i was waitin',\n",
      "       b\"don't fail goood luckkk\",\n",
      "       b'so far sofa is looking like a dfs job and the bed ... well i had a few suggestions on that !',\n",
      "       b'i am bored out of mind during summer 09',\n",
      "       b\"small favors : on a full flight , it seems i have an aisle with one of the only free middle seats . let's hope it stays that way .\",\n",
      "       b'post mortem',\n",
      "       b'ugh , me not being able to type properly = too early for twitter ! ! the gym opens in 23 mins ! ! bye tweetie pies',\n",
      "       b'i started screaming when i saw you on jonas . it was so cool ! you rock <3',\n",
      "       b\"i have a migraine , i'm nauseous , my hands are shaking , and i'm just realising how nice it used to be to have someone rub my back\",\n",
      "       b'morning tweets', b'just got in to work',\n",
      "       b\"can't wait for tomorrow !\",\n",
      "       b'there are just sooo many articles to write . goldie , missed you alr ! should have just go eat with you n xiaocui ! - http://tweet.sg',\n",
      "       b'last time washing my hair',\n",
      "       b\"ahh , i'm bored ! don't want to go to school tomorrow xxx\",\n",
      "       b'been in my bed sick all day long . fixing to attempt to eat something for the first time today .',\n",
      "       b\"yeah tonight's a no no\",\n",
      "       b\"just watched ' ' the notebook ' ' again\",\n",
      "       b'putting new songs on my shuffle , and syncing them .'],\n",
      "      dtype=object)>, <tf.Tensor: shape=(32,), dtype=int8, numpy=\n",
      "array([1, 0, 0, 0, 0, 1, 0, 1, 0, 1, 0, 1, 0, 0, 1, 1, 0, 1, 0, 1, 1, 0,\n",
      "       1, 0, 1, 0, 0, 0, 0, 0, 1, 1], dtype=int8)>)\n"
     ]
    }
   ],
   "source": [
    "for row in train_ds.take(1):\n",
    "    print(row)"
   ]
  },
  {
   "cell_type": "code",
   "execution_count": 33,
   "metadata": {},
   "outputs": [
    {
     "name": "stderr",
     "output_type": "stream",
     "text": [
      "2024-11-01 08:11:47.701042: I tensorflow/core/grappler/optimizers/custom_graph_optimizer_registry.cc:114] Plugin optimizer for device_type GPU is enabled.\n"
     ]
    }
   ],
   "source": [
    "# Define the parameters\n",
    "max_features = 1000\n",
    "sequence_length = 100\n",
    "embedding_dim = 16\n",
    "\n",
    "# Create a text datagenerator for the training set\n",
    "vectorize_layer = TextVectorization(\n",
    "    max_tokens=1000,\n",
    "    output_sequence_length=100,\n",
    "    output_mode=\"int\",\n",
    ")\n",
    "# Make a text-only dataset (without labels), then call adapt\n",
    "train_text = train_ds.map(lambda x, y: x)\n",
    "vectorize_layer.adapt(train_text)\n",
    "\n",
    "# Map the vectorize function to the train, val and test datasets\n",
    "train_ds = train_ds.map(vectorize_text)\n",
    "val_ds = val_ds.map(vectorize_text)\n",
    "test_ds = test_ds.map(vectorize_text)\n",
    "AUTOTUNE = tf.data.AUTOTUNE\n",
    "\n",
    "train_ds = train_ds.cache().prefetch(buffer_size=AUTOTUNE)\n",
    "val_ds = val_ds.cache().prefetch(buffer_size=AUTOTUNE)\n",
    "test_ds = test_ds.cache().prefetch(buffer_size=AUTOTUNE)\n"
   ]
  },
  {
   "cell_type": "code",
   "execution_count": 34,
   "metadata": {},
   "outputs": [
    {
     "name": "stdout",
     "output_type": "stream",
     "text": [
      "Model: \"sequential_2\"\n",
      "_________________________________________________________________\n",
      " Layer (type)                Output Shape              Param #   \n",
      "=================================================================\n",
      " embedding_2 (Embedding)     (None, None, 16)          16000     \n",
      "                                                                 \n",
      " dropout_4 (Dropout)         (None, None, 16)          0         \n",
      "                                                                 \n",
      " global_average_pooling1d_2   (None, 16)               0         \n",
      " (GlobalAveragePooling1D)                                        \n",
      "                                                                 \n",
      " dropout_5 (Dropout)         (None, 16)                0         \n",
      "                                                                 \n",
      " dense_2 (Dense)             (None, 1)                 17        \n",
      "                                                                 \n",
      "=================================================================\n",
      "Total params: 16,017\n",
      "Trainable params: 16,017\n",
      "Non-trainable params: 0\n",
      "_________________________________________________________________\n"
     ]
    }
   ],
   "source": [
    "model = tf.keras.Sequential(\n",
    "    [\n",
    "        tf.keras.layers.Embedding(max_features, embedding_dim),\n",
    "        tf.keras.layers.Dropout(0.2),\n",
    "        tf.keras.layers.GlobalAveragePooling1D(),\n",
    "        tf.keras.layers.Dropout(0.2),\n",
    "        tf.keras.layers.Dense(1, activation=\"sigmoid\"),\n",
    "    ]\n",
    ")\n",
    "\n",
    "model.summary()"
   ]
  },
  {
   "cell_type": "code",
   "execution_count": 35,
   "metadata": {},
   "outputs": [],
   "source": [
    "model.compile(\n",
    "    loss=tf.losses.BinaryCrossentropy(),\n",
    "    optimizer=\"adam\",\n",
    "    metrics=[tf.metrics.BinaryAccuracy(threshold=0.5)],\n",
    ")"
   ]
  },
  {
   "cell_type": "code",
   "execution_count": 36,
   "metadata": {},
   "outputs": [],
   "source": [
    "# Define callbacks\n",
    "callbacks = [\n",
    "    tf.keras.callbacks.EarlyStopping(monitor=\"val_loss\", mode=\"min\", patience=2),\n",
    "    tf.keras.callbacks.ModelCheckpoint(\n",
    "        filepath=f\"../weights/{col_name}_model.h5\",\n",
    "        monitor=\"val_loss\",\n",
    "        save_best_only=True,\n",
    "    ),\n",
    "]"
   ]
  },
  {
   "cell_type": "code",
   "execution_count": 37,
   "metadata": {},
   "outputs": [
    {
     "name": "stdout",
     "output_type": "stream",
     "text": [
      "Epoch 1/10\n"
     ]
    },
    {
     "name": "stdout",
     "output_type": "stream",
     "text": [
      "  16/1597 [..............................] - ETA: 11s - loss: 0.6930 - binary_accuracy: 0.5137"
     ]
    },
    {
     "name": "stderr",
     "output_type": "stream",
     "text": [
      "2024-11-01 08:12:00.378146: I tensorflow/core/grappler/optimizers/custom_graph_optimizer_registry.cc:114] Plugin optimizer for device_type GPU is enabled.\n",
      "2024-11-01 08:12:00.429576: I tensorflow/core/common_runtime/pluggable_device/pluggable_device_factory.cc:306] Could not identify NUMA node of platform GPU ID 0, defaulting to 0. Your kernel may not have been built with NUMA support.\n",
      "2024-11-01 08:12:00.429623: I tensorflow/core/common_runtime/pluggable_device/pluggable_device_factory.cc:272] Created TensorFlow device (/job:localhost/replica:0/task:0/device:GPU:0 with 25405 MB memory) -> physical PluggableDevice (device: 0, name: DML, pci bus id: <undefined>)\n",
      "2024-11-01 08:12:00.431011: I tensorflow/core/common_runtime/pluggable_device/pluggable_device_factory.cc:306] Could not identify NUMA node of platform GPU ID 0, defaulting to 0. Your kernel may not have been built with NUMA support.\n",
      "2024-11-01 08:12:00.431046: I tensorflow/core/common_runtime/pluggable_device/pluggable_device_factory.cc:272] Created TensorFlow device (/job:localhost/replica:0/task:0/device:GPU:0 with 25405 MB memory) -> physical PluggableDevice (device: 0, name: DML, pci bus id: <undefined>)\n",
      "2024-11-01 08:12:00.433080: I tensorflow/core/common_runtime/pluggable_device/pluggable_device_factory.cc:306] Could not identify NUMA node of platform GPU ID 0, defaulting to 0. Your kernel may not have been built with NUMA support.\n",
      "2024-11-01 08:12:00.433125: I tensorflow/core/common_runtime/pluggable_device/pluggable_device_factory.cc:272] Created TensorFlow device (/job:localhost/replica:0/task:0/device:GPU:0 with 25405 MB memory) -> physical PluggableDevice (device: 0, name: DML, pci bus id: <undefined>)\n"
     ]
    },
    {
     "name": "stdout",
     "output_type": "stream",
     "text": [
      "1592/1597 [============================>.] - ETA: 0s - loss: 0.6752 - binary_accuracy: 0.6223"
     ]
    },
    {
     "name": "stderr",
     "output_type": "stream",
     "text": [
      "2024-11-01 08:12:11.877609: I tensorflow/core/grappler/optimizers/custom_graph_optimizer_registry.cc:114] Plugin optimizer for device_type GPU is enabled.\n",
      "2024-11-01 08:12:11.893087: I tensorflow/core/common_runtime/pluggable_device/pluggable_device_factory.cc:306] Could not identify NUMA node of platform GPU ID 0, defaulting to 0. Your kernel may not have been built with NUMA support.\n",
      "2024-11-01 08:12:11.893140: I tensorflow/core/common_runtime/pluggable_device/pluggable_device_factory.cc:272] Created TensorFlow device (/job:localhost/replica:0/task:0/device:GPU:0 with 25405 MB memory) -> physical PluggableDevice (device: 0, name: DML, pci bus id: <undefined>)\n"
     ]
    },
    {
     "name": "stdout",
     "output_type": "stream",
     "text": [
      "1597/1597 [==============================] - 13s 8ms/step - loss: 0.6751 - binary_accuracy: 0.6225 - val_loss: 0.6421 - val_binary_accuracy: 0.7044\n",
      "Epoch 2/10\n",
      "1597/1597 [==============================] - 12s 8ms/step - loss: 0.6054 - binary_accuracy: 0.7086 - val_loss: 0.5761 - val_binary_accuracy: 0.7304\n",
      "Epoch 3/10\n",
      "1597/1597 [==============================] - 12s 7ms/step - loss: 0.5564 - binary_accuracy: 0.7361 - val_loss: 0.5411 - val_binary_accuracy: 0.7459\n",
      "Epoch 4/10\n",
      "1597/1597 [==============================] - 12s 8ms/step - loss: 0.5311 - binary_accuracy: 0.7511 - val_loss: 0.5241 - val_binary_accuracy: 0.7523\n",
      "Epoch 5/10\n",
      "1597/1597 [==============================] - 12s 8ms/step - loss: 0.5170 - binary_accuracy: 0.7574 - val_loss: 0.5144 - val_binary_accuracy: 0.7563\n",
      "Epoch 6/10\n",
      "1597/1597 [==============================] - 12s 7ms/step - loss: 0.5097 - binary_accuracy: 0.7608 - val_loss: 0.5092 - val_binary_accuracy: 0.7582\n",
      "Epoch 7/10\n",
      "1597/1597 [==============================] - 12s 8ms/step - loss: 0.5063 - binary_accuracy: 0.7638 - val_loss: 0.5064 - val_binary_accuracy: 0.7591\n",
      "Epoch 8/10\n",
      "1597/1597 [==============================] - 12s 7ms/step - loss: 0.5034 - binary_accuracy: 0.7643 - val_loss: 0.5048 - val_binary_accuracy: 0.7603\n",
      "Epoch 9/10\n",
      "1597/1597 [==============================] - 12s 8ms/step - loss: 0.5012 - binary_accuracy: 0.7656 - val_loss: 0.5042 - val_binary_accuracy: 0.7605\n",
      "Epoch 10/10\n",
      "1597/1597 [==============================] - 12s 8ms/step - loss: 0.4997 - binary_accuracy: 0.7657 - val_loss: 0.5034 - val_binary_accuracy: 0.7609\n"
     ]
    }
   ],
   "source": [
    "epochs = 10\n",
    "history = model.fit(\n",
    "    train_ds,\n",
    "    validation_data=val_ds,\n",
    "    epochs=epochs,\n",
    "    callbacks=callbacks,\n",
    ")"
   ]
  },
  {
   "cell_type": "code",
   "execution_count": 38,
   "metadata": {},
   "outputs": [
    {
     "data": {
      "image/png": "[encoded data removed]",
      "text/plain": [
       "<Figure size 640x480 with 1 Axes>"
      ]
     },
     "metadata": {},
     "output_type": "display_data"
    }
   ],
   "source": [
    "plt.plot(history.history[\"loss\"], label=\"Training Loss\")\n",
    "plt.plot(history.history[\"val_loss\"], label=\"Validation Loss\")\n",
    "plt.xlabel(\"Epochs\")\n",
    "plt.ylabel(\"Loss\")\n",
    "plt.legend()\n",
    "plt.show()"
   ]
  },
  {
   "cell_type": "code",
   "execution_count": 39,
   "metadata": {},
   "outputs": [
    {
     "data": {
      "text/plain": [
       "(Index(['hour', 'target', 'text', 'tokenizer with lowercase',\n",
       "        'tokenizer with lowercase, handle stripping, and length reduction',\n",
       "        'tokenizer with lowercase and alpha',\n",
       "        'tokenizer with lowercase, alpha and emoji',\n",
       "        'tokenizer with lowercase, alpha, and no stop words',\n",
       "        'tokenizer with lowercase, alpha and emoji, and no stop words'],\n",
       "       dtype='object'),\n",
       " array([2, 0, 1, 3, 4, 5, 6, 7, 8]))"
      ]
     },
     "execution_count": 39,
     "metadata": {},
     "output_type": "execute_result"
    }
   ],
   "source": [
    "cols"
   ]
  },
  {
   "cell_type": "code",
   "execution_count": 40,
   "metadata": {},
   "outputs": [],
   "source": [
    "col_name = \"tokenizer with lowercase, alpha and emoji\"\n",
    "train_ds, val_ds, test_ds = tf_ds_split(\n",
    "    X_train,\n",
    "    X_test,\n",
    "    y_train,\n",
    "    y_test,\n",
    "    col_name,\n",
    ")"
   ]
  },
  {
   "cell_type": "code",
   "execution_count": 41,
   "metadata": {},
   "outputs": [
    {
     "name": "stdout",
     "output_type": "stream",
     "text": [
      "(<tf.Tensor: shape=(32,), dtype=string, numpy=\n",
      "array([b'i love asparagus i just thouht i express my vegetable love see as dad watch about it on the one show',\n",
      "       b'arrrrhhh i do it again i past and now i be gunna say it be my update but i do not get to again',\n",
      "       b'lose one phone in the house while it set to be not the good',\n",
      "       b'how do you deal with a long distance relationship help',\n",
      "       b'bored of pack',\n",
      "       b'i just read that you evil and when be you come to cook for i',\n",
      "       b'not have a mac mean i can use pwnage so can get the egg',\n",
      "       b'glad you like it',\n",
      "       b'i be feel like donald trump today this morning need to get in line',\n",
      "       b'it totally fair',\n",
      "       b'anti gay protester dwntwn make mooncheez sad we support amendmnt right but do agree with the msg everyone should have right',\n",
      "       b'good you be progress mashallah',\n",
      "       b'do actually i would share with you but i be no where near you',\n",
      "       b'yeah bubu ouch where be you i be waitin',\n",
      "       b'do fail goood luckkkk',\n",
      "       b'so far sofa be look like a dfs job and the bed well i have a few suggestion on that',\n",
      "       b'i be bore out of mind during summer',\n",
      "       b'small favor on a full flight it seem i have an aisle with one of the only free middle seat let hope it stay that way',\n",
      "       b'post mortem',\n",
      "       b'ugh i not be able to type properly too early for twitter the gym open in min bye tweetie pies',\n",
      "       b'i start scream when i see you on jonas it be so cool you rock',\n",
      "       b'i have a migraine i nauseous my hand be shake and i just realise how nice it use to be to have someone rub my back',\n",
      "       b'morning tweets', b'just get in to work',\n",
      "       b'can wait for tomorrow',\n",
      "       b'there be just sooo many article to write goldie miss you alr should have just go eat with you n xiaocui',\n",
      "       b'last time wash my hair',\n",
      "       b'ahh i bored do want to go to school tomorrow xxxx',\n",
      "       b'be in my bed sick all day long fix to attempt to eat something for the first time today',\n",
      "       b'yeah tonight a no no', b'just watch the notebook again',\n",
      "       b'put new song on my shuffle and sync they'], dtype=object)>, <tf.Tensor: shape=(32,), dtype=int8, numpy=\n",
      "array([1, 0, 0, 0, 0, 1, 0, 1, 0, 1, 0, 1, 0, 0, 1, 1, 0, 1, 0, 1, 1, 0,\n",
      "       1, 0, 1, 0, 0, 0, 0, 0, 1, 1], dtype=int8)>)\n"
     ]
    }
   ],
   "source": [
    "for row in train_ds.take(1):\n",
    "    print(row)"
   ]
  },
  {
   "cell_type": "code",
   "execution_count": 42,
   "metadata": {},
   "outputs": [
    {
     "name": "stderr",
     "output_type": "stream",
     "text": [
      "2024-11-01 08:14:44.327092: I tensorflow/core/grappler/optimizers/custom_graph_optimizer_registry.cc:114] Plugin optimizer for device_type GPU is enabled.\n"
     ]
    }
   ],
   "source": [
    "# Define the parameters\n",
    "max_features = 1000\n",
    "sequence_length = 100\n",
    "embedding_dim = 16\n",
    "\n",
    "# Create a text datagenerator for the training set\n",
    "vectorize_layer = TextVectorization(\n",
    "    max_tokens=1000,\n",
    "    output_sequence_length=100,\n",
    "    output_mode=\"int\",\n",
    ")\n",
    "# Make a text-only dataset (without labels), then call adapt\n",
    "train_text = train_ds.map(lambda x, y: x)\n",
    "vectorize_layer.adapt(train_text)\n",
    "\n",
    "# Map the vectorize function to the train, val and test datasets\n",
    "train_ds = train_ds.map(vectorize_text)\n",
    "val_ds = val_ds.map(vectorize_text)\n",
    "test_ds = test_ds.map(vectorize_text)\n",
    "AUTOTUNE = tf.data.AUTOTUNE\n",
    "\n",
    "train_ds = train_ds.cache().prefetch(buffer_size=AUTOTUNE)\n",
    "val_ds = val_ds.cache().prefetch(buffer_size=AUTOTUNE)\n",
    "test_ds = test_ds.cache().prefetch(buffer_size=AUTOTUNE)\n"
   ]
  },
  {
   "cell_type": "code",
   "execution_count": 43,
   "metadata": {},
   "outputs": [
    {
     "name": "stdout",
     "output_type": "stream",
     "text": [
      "Model: \"sequential_3\"\n",
      "_________________________________________________________________\n",
      " Layer (type)                Output Shape              Param #   \n",
      "=================================================================\n",
      " embedding_3 (Embedding)     (None, None, 16)          16000     \n",
      "                                                                 \n",
      " dropout_6 (Dropout)         (None, None, 16)          0         \n",
      "                                                                 \n",
      " global_average_pooling1d_3   (None, 16)               0         \n",
      " (GlobalAveragePooling1D)                                        \n",
      "                                                                 \n",
      " dropout_7 (Dropout)         (None, 16)                0         \n",
      "                                                                 \n",
      " dense_3 (Dense)             (None, 1)                 17        \n",
      "                                                                 \n",
      "=================================================================\n",
      "Total params: 16,017\n",
      "Trainable params: 16,017\n",
      "Non-trainable params: 0\n",
      "_________________________________________________________________\n"
     ]
    }
   ],
   "source": [
    "model = tf.keras.Sequential(\n",
    "    [\n",
    "        tf.keras.layers.Embedding(max_features, embedding_dim),\n",
    "        tf.keras.layers.Dropout(0.2),\n",
    "        tf.keras.layers.GlobalAveragePooling1D(),\n",
    "        tf.keras.layers.Dropout(0.2),\n",
    "        tf.keras.layers.Dense(1, activation=\"sigmoid\"),\n",
    "    ]\n",
    ")\n",
    "\n",
    "model.summary()"
   ]
  },
  {
   "cell_type": "code",
   "execution_count": 44,
   "metadata": {},
   "outputs": [],
   "source": [
    "model.compile(\n",
    "    loss=tf.losses.BinaryCrossentropy(),\n",
    "    optimizer=\"adam\",\n",
    "    metrics=[tf.metrics.BinaryAccuracy(threshold=0.5)],\n",
    ")"
   ]
  },
  {
   "cell_type": "code",
   "execution_count": 46,
   "metadata": {},
   "outputs": [],
   "source": [
    "# Define callbacks\n",
    "callbacks = [\n",
    "    tf.keras.callbacks.EarlyStopping(monitor=\"val_loss\", mode=\"min\", patience=2),\n",
    "    tf.keras.callbacks.ModelCheckpoint(\n",
    "        filepath=f\"../weights/{col_name}_model.h5\",\n",
    "        monitor=\"val_loss\",\n",
    "        save_best_only=True,\n",
    "    ),\n",
    "]"
   ]
  },
  {
   "cell_type": "code",
   "execution_count": 47,
   "metadata": {},
   "outputs": [
    {
     "name": "stdout",
     "output_type": "stream",
     "text": [
      "Epoch 1/10\n"
     ]
    },
    {
     "name": "stdout",
     "output_type": "stream",
     "text": [
      "  16/1597 [..............................] - ETA: 11s - loss: 0.6934 - binary_accuracy: 0.4844"
     ]
    },
    {
     "name": "stderr",
     "output_type": "stream",
     "text": [
      "2024-11-01 08:15:01.988780: I tensorflow/core/grappler/optimizers/custom_graph_optimizer_registry.cc:114] Plugin optimizer for device_type GPU is enabled.\n",
      "2024-11-01 08:15:02.037848: I tensorflow/core/common_runtime/pluggable_device/pluggable_device_factory.cc:306] Could not identify NUMA node of platform GPU ID 0, defaulting to 0. Your kernel may not have been built with NUMA support.\n",
      "2024-11-01 08:15:02.037909: I tensorflow/core/common_runtime/pluggable_device/pluggable_device_factory.cc:272] Created TensorFlow device (/job:localhost/replica:0/task:0/device:GPU:0 with 25405 MB memory) -> physical PluggableDevice (device: 0, name: DML, pci bus id: <undefined>)\n",
      "2024-11-01 08:15:02.039489: I tensorflow/core/common_runtime/pluggable_device/pluggable_device_factory.cc:306] Could not identify NUMA node of platform GPU ID 0, defaulting to 0. Your kernel may not have been built with NUMA support.\n",
      "2024-11-01 08:15:02.039526: I tensorflow/core/common_runtime/pluggable_device/pluggable_device_factory.cc:272] Created TensorFlow device (/job:localhost/replica:0/task:0/device:GPU:0 with 25405 MB memory) -> physical PluggableDevice (device: 0, name: DML, pci bus id: <undefined>)\n",
      "2024-11-01 08:15:02.041605: I tensorflow/core/common_runtime/pluggable_device/pluggable_device_factory.cc:306] Could not identify NUMA node of platform GPU ID 0, defaulting to 0. Your kernel may not have been built with NUMA support.\n",
      "2024-11-01 08:15:02.041650: I tensorflow/core/common_runtime/pluggable_device/pluggable_device_factory.cc:272] Created TensorFlow device (/job:localhost/replica:0/task:0/device:GPU:0 with 25405 MB memory) -> physical PluggableDevice (device: 0, name: DML, pci bus id: <undefined>)\n"
     ]
    },
    {
     "name": "stdout",
     "output_type": "stream",
     "text": [
      "1596/1597 [============================>.] - ETA: 0s - loss: 0.6708 - binary_accuracy: 0.6271"
     ]
    },
    {
     "name": "stderr",
     "output_type": "stream",
     "text": [
      "2024-11-01 08:15:13.514388: I tensorflow/core/grappler/optimizers/custom_graph_optimizer_registry.cc:114] Plugin optimizer for device_type GPU is enabled.\n",
      "2024-11-01 08:15:13.529717: I tensorflow/core/common_runtime/pluggable_device/pluggable_device_factory.cc:306] Could not identify NUMA node of platform GPU ID 0, defaulting to 0. Your kernel may not have been built with NUMA support.\n",
      "2024-11-01 08:15:13.529761: I tensorflow/core/common_runtime/pluggable_device/pluggable_device_factory.cc:272] Created TensorFlow device (/job:localhost/replica:0/task:0/device:GPU:0 with 25405 MB memory) -> physical PluggableDevice (device: 0, name: DML, pci bus id: <undefined>)\n"
     ]
    },
    {
     "name": "stdout",
     "output_type": "stream",
     "text": [
      "1597/1597 [==============================] - 13s 8ms/step - loss: 0.6708 - binary_accuracy: 0.6271 - val_loss: 0.6328 - val_binary_accuracy: 0.6998\n",
      "Epoch 2/10\n",
      "1597/1597 [==============================] - 12s 8ms/step - loss: 0.5990 - binary_accuracy: 0.7097 - val_loss: 0.5708 - val_binary_accuracy: 0.7323\n",
      "Epoch 3/10\n",
      "1597/1597 [==============================] - 12s 8ms/step - loss: 0.5544 - binary_accuracy: 0.7378 - val_loss: 0.5403 - val_binary_accuracy: 0.7503\n",
      "Epoch 4/10\n",
      "1597/1597 [==============================] - 12s 7ms/step - loss: 0.5317 - binary_accuracy: 0.7490 - val_loss: 0.5250 - val_binary_accuracy: 0.7561\n",
      "Epoch 5/10\n",
      "1597/1597 [==============================] - 12s 8ms/step - loss: 0.5208 - binary_accuracy: 0.7564 - val_loss: 0.5173 - val_binary_accuracy: 0.7579\n",
      "Epoch 6/10\n",
      "1597/1597 [==============================] - 12s 7ms/step - loss: 0.5142 - binary_accuracy: 0.7601 - val_loss: 0.5139 - val_binary_accuracy: 0.7579\n",
      "Epoch 7/10\n",
      "1597/1597 [==============================] - 12s 8ms/step - loss: 0.5100 - binary_accuracy: 0.7614 - val_loss: 0.5111 - val_binary_accuracy: 0.7593\n",
      "Epoch 8/10\n",
      "1597/1597 [==============================] - 12s 8ms/step - loss: 0.5079 - binary_accuracy: 0.7622 - val_loss: 0.5102 - val_binary_accuracy: 0.7612\n",
      "Epoch 9/10\n",
      "1597/1597 [==============================] - 12s 7ms/step - loss: 0.5072 - binary_accuracy: 0.7627 - val_loss: 0.5099 - val_binary_accuracy: 0.7605\n",
      "Epoch 10/10\n",
      "1597/1597 [==============================] - 12s 8ms/step - loss: 0.5050 - binary_accuracy: 0.7636 - val_loss: 0.5093 - val_binary_accuracy: 0.7625\n"
     ]
    }
   ],
   "source": [
    "epochs = 10\n",
    "history = model.fit(\n",
    "    train_ds,\n",
    "    validation_data=val_ds,\n",
    "    epochs=epochs,\n",
    "    callbacks=callbacks,\n",
    ")"
   ]
  },
  {
   "cell_type": "code",
   "execution_count": 48,
   "metadata": {},
   "outputs": [
    {
     "data": {
      "image/png": "[encoded data removed]",
      "text/plain": [
       "<Figure size 640x480 with 1 Axes>"
      ]
     },
     "metadata": {},
     "output_type": "display_data"
    }
   ],
   "source": [
    "plt.plot(history.history[\"loss\"], label=\"Training Loss\")\n",
    "plt.plot(history.history[\"val_loss\"], label=\"Validation Loss\")\n",
    "plt.xlabel(\"Epochs\")\n",
    "plt.ylabel(\"Loss\")\n",
    "plt.legend()\n",
    "plt.show()"
   ]
  },
  {
   "cell_type": "markdown",
   "metadata": {},
   "source": [
    "## **GLOVE EMBEDDINGS**"
   ]
  },
  {
   "cell_type": "code",
   "execution_count": 58,
   "metadata": {},
   "outputs": [],
   "source": [
    "batch_size = 32\n",
    "seed = SEED"
   ]
  },
  {
   "cell_type": "code",
   "execution_count": 59,
   "metadata": {},
   "outputs": [],
   "source": [
    "def tf_ds_split(\n",
    "    X_train, X_test, y_train, y_test, col, batch_size=batch_size, seed=seed\n",
    "):\n",
    "    \"\"\"\n",
    "    Split the data into train and test sets\n",
    "    \"\"\"\n",
    "    X_train, X_test, y_train, y_test = df_align(col)\n",
    "    X_train_split, X_val_split, y_train_split, y_val_split = train_test_split(\n",
    "        X_train, y_train, test_size=0.2, stratify=y_train, random_state=seed\n",
    "    )\n",
    "\n",
    "    # create train, val , test datasets\n",
    "    train_ds = tf.data.Dataset.from_tensor_slices((X_train_split, y_train_split)).batch(\n",
    "        batch_size\n",
    "    )\n",
    "    val_ds = tf.data.Dataset.from_tensor_slices((X_val_split, y_val_split)).batch(\n",
    "        batch_size\n",
    "    )\n",
    "    test_ds = tf.data.Dataset.from_tensor_slices((X_test, y_test)).batch(batch_size)\n",
    "\n",
    "    return train_ds, val_ds, test_ds"
   ]
  },
  {
   "cell_type": "code",
   "execution_count": 60,
   "metadata": {},
   "outputs": [],
   "source": [
    "def vectorize_text(text, label):\n",
    "    text = tf.expand_dims(text, -1)\n",
    "    return vectorize_layer(text), label"
   ]
  },
  {
   "cell_type": "code",
   "execution_count": 61,
   "metadata": {},
   "outputs": [],
   "source": [
    "def special_tokenize(text):\n",
    "    # Convertir en minuscules\n",
    "    text = tf.strings.lower(text)\n",
    "\n",
    "    # Parties de la regex pour les smileys\n",
    "    eyes = r\"[8:=;]\"\n",
    "    nose = r\"['`\\-]?\"\n",
    "\n",
    "    # Remplacer les URLs par <URL>\n",
    "    text = tf.strings.regex_replace(text, r\"https?://\\S+\\b|www\\.(\\w+\\.)+\\S*\", \"<URL>\")\n",
    "\n",
    "    # Forcer la séparation des mots avec des slashes\n",
    "    text = tf.strings.regex_replace(text, r\"/\", \" / \")\n",
    "\n",
    "    # Remplacer les mentions par <USER>\n",
    "    text = tf.strings.regex_replace(text, r\"@\\w+\", \"<USER>\")\n",
    "\n",
    "    # Remplacer les smileys\n",
    "    text = tf.strings.regex_replace(\n",
    "        text, r\"(?i)\" + eyes + nose + r\"[)d]+|[)d]+\" + nose + eyes, \"<SMILE>\"\n",
    "    )\n",
    "\n",
    "    # Remplacer les LOLFACE\n",
    "    text = tf.strings.regex_replace(text, r\"(?i)\" + eyes + nose + r\"p+\", \"<LOLFACE>\")\n",
    "\n",
    "    # Remplacer les SADFACE\n",
    "    text = tf.strings.regex_replace(\n",
    "        text, r\"(?i)\" + eyes + nose + r\"\\(+|\\)+\" + nose + eyes, \"<SADFACE>\"\n",
    "    )\n",
    "\n",
    "    # Remplacer les NEUTRALFACE\n",
    "    text = tf.strings.regex_replace(\n",
    "        text, r\"(?i)\" + eyes + nose + r\"[\\/|l*]\", \"<NEUTRALFACE>\"\n",
    "    )\n",
    "\n",
    "    # Remplacer les cœurs\n",
    "    text = tf.strings.regex_replace(text, r\"<3\", \"<HEART>\")\n",
    "\n",
    "    # Remplacer les nombres\n",
    "    text = tf.strings.regex_replace(text, r\"[-+]?[.\\d]*\\d+[:,.\\d]*\", \"<NUMBER>\")\n",
    "\n",
    "    # Remplacer les hashtags par <HASHTAG>\n",
    "    text = tf.strings.regex_replace(text, r\"#\\S+\", \"<HASHTAG>\")\n",
    "\n",
    "    # Marquer les répétitions de ponctuation\n",
    "    text = tf.strings.regex_replace(text, r\"([!?.]){2,}\", r\"\\1 <REPEAT>\")\n",
    "\n",
    "    # Marquer les mots allongés (ex: wayyyy)\n",
    "    text = tf.strings.regex_replace(text, r\"\\b(\\S*?)(.)\\2{2,}\\b\", r\"\\1\\2 <ELONG>\")\n",
    "\n",
    "    # Marquer les mots en majuscules\n",
    "    text = tf.strings.regex_replace(\n",
    "        text, r\"\\b[A-Z]{2,}\\b\", lambda m: tf.strings.lower(m.group()) + \" <ALLCAPS>\"\n",
    "    )\n",
    "\n",
    "    return text"
   ]
  },
  {
   "cell_type": "code",
   "execution_count": 62,
   "metadata": {},
   "outputs": [],
   "source": [
    "from huggingface_hub import hf_hub_download"
   ]
  },
  {
   "cell_type": "code",
   "execution_count": 63,
   "metadata": {},
   "outputs": [],
   "source": [
    "# create a custom tensorflow text standardization with lowercase, punctuation removal and tokenization\n",
    "def custom_standardization(tensor):\n",
    "    tensor = tf.strings.lower(tensor)  # lowercase\n",
    "    tensor = tf.strings.regex_replace(tensor, r\"@\\w+\", \" \")  # strip mentions\n",
    "    tensor = tf.strings.regex_replace(tensor, r\"http\\S+|www\\S+\", \" \")  # strip urls\n",
    "    tensor = tf.strings.regex_replace(tensor, r\"[^\\w\\s\\d]\", \" \")  # strip punctuation\n",
    "    tensor = tf.strings.regex_replace(tensor, r\"\\s{2,}\", \" \")  # strip multiple spaces\n",
    "    return tf.strings.strip(tensor)  # strip leading and trailing spaces"
   ]
  },
  {
   "cell_type": "code",
   "execution_count": 64,
   "metadata": {},
   "outputs": [],
   "source": [
    "from gensim.models import KeyedVectors"
   ]
  },
  {
   "cell_type": "code",
   "execution_count": 65,
   "metadata": {},
   "outputs": [],
   "source": [
    "repo_id = \"fse/glove-twitter-100\""
   ]
  },
  {
   "cell_type": "code",
   "execution_count": 132,
   "metadata": {},
   "outputs": [],
   "source": [
    "# Load the glove-twitter-100 model\n",
    "model_file = hf_hub_download(repo_id=repo_id, filename=\"glove-twitter-100.model\")\n",
    "vector_file = hf_hub_download(\n",
    "    repo_id=repo_id, filename=\"glove-twitter-100.model.vectors.npy\"\n",
    ")"
   ]
  },
  {
   "cell_type": "code",
   "execution_count": 133,
   "metadata": {},
   "outputs": [],
   "source": [
    "glove = KeyedVectors.load(model_file, mmap=\"r\")"
   ]
  },
  {
   "cell_type": "code",
   "execution_count": 134,
   "metadata": {},
   "outputs": [
    {
     "name": "stdout",
     "output_type": "stream",
     "text": [
      "Vecteur pour le mot 'twitter':\n",
      "[ 0.44104    0.1385    -0.66489   -0.044309   0.44579    0.027886\n",
      " -0.30068   -0.13851    0.44771    0.60006    0.12149   -0.69262\n",
      " -3.5289    -0.5495    -0.98539    0.54288   -0.17355   -0.73415\n",
      " -0.46325   -0.68942   -0.29029   -0.20679   -1.0008    -0.010779\n",
      " -0.52833   -2.9566     0.45207   -0.65441    0.10636    0.15182\n",
      " -0.71115    0.17282   -0.16225   -0.96776    0.64226   -0.029472\n",
      "  0.5799     0.18865   -0.022253  -0.61489   -1.1467     0.39476\n",
      " -0.2715    -0.024786   0.32542   -0.14626   -0.13835    0.44469\n",
      " -0.72034    0.0059288  0.069213  -0.042943  -0.32557   -0.4062\n",
      " -0.023224   0.74154   -1.5501    -0.012535  -0.020187  -0.31557\n",
      "  0.036324  -0.56278    0.072553  -0.02491   -0.53492    0.49579\n",
      "  0.24916    0.92282   -0.20315    0.27591   -0.71818    0.39903\n",
      " -0.078875  -0.38303   -0.84732    0.80215   -0.59038   -0.30123\n",
      "  0.034802   0.34928    0.36331    0.2053     0.44075   -0.15293\n",
      " -0.16563   -0.21373   -0.3372     0.10873    0.23909   -0.68149\n",
      " -0.33458   -0.2037    -0.14106   -0.1777     0.58009   -0.38089\n",
      "  0.20533    0.17301    0.079456  -0.25333  ]\n"
     ]
    }
   ],
   "source": [
    "# Étape 3 : Utiliser le modèle\n",
    "word = \"twitter\"  # Remplacez par le mot de votre choix\n",
    "if word in glove:\n",
    "    vector = glove[word]\n",
    "    print(f\"Vecteur pour le mot '{word}':\\n{vector}\")\n",
    "else:\n",
    "    print(f\"Le mot '{word}' n'est pas dans le vocabulaire du modèle.\")"
   ]
  },
  {
   "cell_type": "code",
   "execution_count": 135,
   "metadata": {},
   "outputs": [],
   "source": [
    "from tensorflow.keras.preprocessing.text import Tokenizer"
   ]
  },
  {
   "cell_type": "code",
   "execution_count": 141,
   "metadata": {},
   "outputs": [
    {
     "data": {
      "text/plain": [
       "(Index(['hour', 'target', 'text', 'tokenizer with lowercase',\n",
       "        'tokenizer with lowercase, handle stripping, and length reduction',\n",
       "        'tokenizer with lowercase and alpha',\n",
       "        'tokenizer with lowercase, alpha and emoji',\n",
       "        'tokenizer with lowercase, alpha, and no stop words',\n",
       "        'tokenizer with lowercase, alpha and emoji, and no stop words'],\n",
       "       dtype='object'),\n",
       " array([2, 0, 1, 3, 4, 5, 6, 7, 8]))"
      ]
     },
     "execution_count": 141,
     "metadata": {},
     "output_type": "execute_result"
    }
   ],
   "source": [
    "cols"
   ]
  },
  {
   "cell_type": "code",
   "execution_count": 142,
   "metadata": {},
   "outputs": [],
   "source": [
    "X_train, X_test, y_train, y_test = df_align(\n",
    "    \"tokenizer with lowercase, handle stripping, and length reduction\"\n",
    ")"
   ]
  },
  {
   "cell_type": "code",
   "execution_count": 143,
   "metadata": {},
   "outputs": [
    {
     "name": "stdout",
     "output_type": "stream",
     "text": [
      "Nombre de mots dans le tokenizer : 44294\n"
     ]
    }
   ],
   "source": [
    "# 2. Initialiser et adapter le Tokenizer\n",
    "tokenizer = Tokenizer()\n",
    "tokenizer.fit_on_texts(X_train.str.lower())\n",
    "word_index = tokenizer.word_index\n",
    "print(f\"Nombre de mots dans le tokenizer : {len(word_index)}\")\n",
    "\n",
    "# 3. Dimensions des embeddings FastText\n",
    "embedding_dim = 100\n",
    "\n",
    "# 4. Initialiser la matrice d'embeddings\n",
    "embedding_matrix = np.zeros((len(word_index) + 1, embedding_dim))"
   ]
  },
  {
   "cell_type": "code",
   "execution_count": 144,
   "metadata": {},
   "outputs": [],
   "source": [
    "import numpy as np\n",
    "from tensorflow.keras.preprocessing.text import Tokenizer\n",
    "from tensorflow.keras.models import Sequential\n",
    "from tensorflow.keras.layers import Embedding, Flatten, Dense\n",
    "from gensim.models import KeyedVectors"
   ]
  },
  {
   "cell_type": "code",
   "execution_count": null,
   "metadata": {},
   "outputs": [
    {
     "name": "stdout",
     "output_type": "stream",
     "text": [
      "Matrice d'embeddings créée.\n",
      "Model: \"sequential_5\"\n",
      "_________________________________________________________________\n",
      " Layer (type)                Output Shape              Param #   \n",
      "=================================================================\n",
      " embedding_5 (Embedding)     (None, 100, 100)          4429500   \n",
      "                                                                 \n",
      " dropout_6 (Dropout)         (None, 100, 100)          0         \n",
      "                                                                 \n",
      " global_average_pooling1d_3   (None, 100)              0         \n",
      " (GlobalAveragePooling1D)                                        \n",
      "                                                                 \n",
      " dropout_7 (Dropout)         (None, 100)               0         \n",
      "                                                                 \n",
      " dense_7 (Dense)             (None, 1)                 101       \n",
      "                                                                 \n",
      "=================================================================\n",
      "Total params: 4,429,601\n",
      "Trainable params: 101\n",
      "Non-trainable params: 4,429,500\n",
      "_________________________________________________________________\n"
     ]
    }
   ],
   "source": [
    "# 6. Remplir la matrice d'embeddings\n",
    "for word, i in word_index.items():\n",
    "    if word in glove:\n",
    "        embedding_matrix[i] = glove[word]\n",
    "    else:\n",
    "        embedding_matrix[i] = np.random.normal(scale=0.6, size=(embedding_dim,))\n",
    "\n",
    "print(\"Matrice d'embeddings créée.\")\n",
    "\n",
    "# 7. Construire le modèle\n",
    "vocab_size = len(word_index) + 1\n",
    "model_keras = Sequential(\n",
    "    [\n",
    "        Embedding(\n",
    "            input_dim=vocab_size,\n",
    "            output_dim=embedding_dim,\n",
    "            weights=[embedding_matrix],\n",
    "            input_length=100,\n",
    "            trainable=False,\n",
    "        ),\n",
    "        tf.keras.layers.Dropout(0.2),\n",
    "        tf.keras.layers.GlobalAveragePooling1D(),\n",
    "        tf.keras.layers.Dropout(0.2),\n",
    "        tf.keras.layers.Dense(1, activation=\"sigmoid\"),\n",
    "    ]\n",
    ")\n",
    "\n",
    "# 8. Compiler le modèle\n",
    "model_keras.compile(optimizer=\"adam\", loss=\"binary_crossentropy\", metrics=[\"accuracy\"])\n",
    "model_keras.summary()"
   ]
  },
  {
   "cell_type": "code",
   "execution_count": 146,
   "metadata": {},
   "outputs": [],
   "source": [
    "X = tokenizer.texts_to_sequences(X_train.str.lower())\n",
    "X = tf.keras.preprocessing.sequence.pad_sequences(X, maxlen=100)"
   ]
  },
  {
   "cell_type": "code",
   "execution_count": 148,
   "metadata": {},
   "outputs": [
    {
     "name": "stdout",
     "output_type": "stream",
     "text": [
      "Epoch 1/20\n",
      "1597/1597 [==============================] - 10s 6ms/step - loss: 0.5914 - accuracy: 0.6992 - val_loss: 0.5765 - val_accuracy: 0.7194\n",
      "Epoch 2/20\n",
      "1597/1597 [==============================] - 10s 6ms/step - loss: 0.5914 - accuracy: 0.7006 - val_loss: 0.5746 - val_accuracy: 0.7193\n",
      "Epoch 3/20\n",
      "1597/1597 [==============================] - 10s 6ms/step - loss: 0.5890 - accuracy: 0.6994 - val_loss: 0.5730 - val_accuracy: 0.7197\n",
      "Epoch 4/20\n",
      "1597/1597 [==============================] - 10s 6ms/step - loss: 0.5886 - accuracy: 0.6997 - val_loss: 0.5714 - val_accuracy: 0.7212\n",
      "Epoch 5/20\n",
      "1597/1597 [==============================] - 10s 6ms/step - loss: 0.5889 - accuracy: 0.6978 - val_loss: 0.5701 - val_accuracy: 0.7214\n",
      "Epoch 6/20\n",
      "1597/1597 [==============================] - 10s 6ms/step - loss: 0.5867 - accuracy: 0.7006 - val_loss: 0.5689 - val_accuracy: 0.7215\n",
      "Epoch 7/20\n",
      "1597/1597 [==============================] - 10s 6ms/step - loss: 0.5870 - accuracy: 0.7010 - val_loss: 0.5679 - val_accuracy: 0.7216\n",
      "Epoch 8/20\n",
      "1597/1597 [==============================] - 10s 6ms/step - loss: 0.5869 - accuracy: 0.7003 - val_loss: 0.5670 - val_accuracy: 0.7225\n",
      "Epoch 9/20\n",
      "1597/1597 [==============================] - 10s 6ms/step - loss: 0.5857 - accuracy: 0.7026 - val_loss: 0.5661 - val_accuracy: 0.7224\n",
      "Epoch 10/20\n",
      "1597/1597 [==============================] - 10s 6ms/step - loss: 0.5864 - accuracy: 0.6995 - val_loss: 0.5655 - val_accuracy: 0.7232\n",
      "Epoch 11/20\n",
      "1597/1597 [==============================] - 10s 6ms/step - loss: 0.5846 - accuracy: 0.7012 - val_loss: 0.5648 - val_accuracy: 0.7227\n",
      "Epoch 12/20\n",
      "1597/1597 [==============================] - 10s 6ms/step - loss: 0.5849 - accuracy: 0.7018 - val_loss: 0.5642 - val_accuracy: 0.7240\n",
      "Epoch 13/20\n",
      "1597/1597 [==============================] - 10s 6ms/step - loss: 0.5839 - accuracy: 0.7018 - val_loss: 0.5636 - val_accuracy: 0.7235\n",
      "Epoch 14/20\n",
      "1597/1597 [==============================] - 10s 6ms/step - loss: 0.5839 - accuracy: 0.7017 - val_loss: 0.5630 - val_accuracy: 0.7235\n",
      "Epoch 15/20\n",
      "1597/1597 [==============================] - 10s 6ms/step - loss: 0.5843 - accuracy: 0.7017 - val_loss: 0.5627 - val_accuracy: 0.7251\n",
      "Epoch 16/20\n",
      "1597/1597 [==============================] - 10s 6ms/step - loss: 0.5828 - accuracy: 0.7017 - val_loss: 0.5621 - val_accuracy: 0.7257\n",
      "Epoch 17/20\n",
      "1597/1597 [==============================] - 10s 6ms/step - loss: 0.5838 - accuracy: 0.7022 - val_loss: 0.5617 - val_accuracy: 0.7246\n",
      "Epoch 18/20\n",
      "1597/1597 [==============================] - 10s 6ms/step - loss: 0.5842 - accuracy: 0.7007 - val_loss: 0.5615 - val_accuracy: 0.7252\n",
      "Epoch 19/20\n",
      "1597/1597 [==============================] - 10s 6ms/step - loss: 0.5829 - accuracy: 0.7024 - val_loss: 0.5609 - val_accuracy: 0.7260\n",
      "Epoch 20/20\n",
      "1597/1597 [==============================] - 10s 6ms/step - loss: 0.5840 - accuracy: 0.7034 - val_loss: 0.5607 - val_accuracy: 0.7259\n"
     ]
    }
   ],
   "source": [
    "history = model_keras.fit(\n",
    "    X, y_train, epochs=20, batch_size=batch_size, validation_split=0.2\n",
    ")"
   ]
  },
  {
   "cell_type": "code",
   "execution_count": null,
   "metadata": {},
   "outputs": [],
   "source": [
    "import tensorflow as tf\n",
    "from tensorflow.keras.layers import TextVectorization\n",
    "\n",
    "vectorize_layer = TextVectorization(\n",
    "    standardize=custom_standardization,  # Fonction de prétraitement personnalisée\n",
    "    max_tokens=100000,                    # Limite le vocabulaire à 10 000 mots\n",
    "    output_mode='int',                   # Encode les mots en entiers\n",
    "    output_sequence_length=100            # Longueur fixe des séquences\n",
    ")"
   ]
  },
  {
   "cell_type": "code",
   "execution_count": null,
   "metadata": {},
   "outputs": [],
   "source": [
    "# Make a text-only dataset (without labels), then call adapt\n",
    "train_text = train_ds.map(lambda x, y: x)\n",
    "vectorize_layer.adapt(train_text)\n",
    "\n",
    "# Map the vectorize function to the train, val and test datasets\n",
    "train_ds = train_ds.map(vectorize_text)\n",
    "val_ds = val_ds.map(vectorize_text)\n",
    "test_ds = test_ds.map(vectorize_text)\n",
    "AUTOTUNE = tf.data.AUTOTUNE\n",
    "\n",
    "train_ds = train_ds.cache().prefetch(buffer_size=AUTOTUNE)\n",
    "val_ds = val_ds.cache().prefetch(buffer_size=AUTOTUNE)\n",
    "test_ds = test_ds.cache().prefetch(buffer_size=AUTOTUNE)"
   ]
  },
  {
   "cell_type": "code",
   "execution_count": null,
   "metadata": {},
   "outputs": [],
   "source": [
    "import numpy as np\n",
    "from gensim.models import KeyedVectors\n",
    "from huggingface_hub import hf_hub_download\n",
    "\n",
    "# Télécharger les fichiers GloVe depuis Hugging Face\n",
    "model_file = hf_hub_download(repo_id=\"fse/glove-twitter-100\", filename=\"glove-twitter-100.model\")\n",
    "vectors_file = hf_hub_download(repo_id=\"fse/glove-twitter-100\", filename=\"glove-twitter-100.model.vectors.npy\")\n",
    "\n",
    "# Charger le modèle GloVe avec Gensim\n",
    "model_glove = KeyedVectors.load(model_file, mmap='r')\n",
    "\n",
    "# Obtenir le vocabulaire de la couche TextVectorization\n",
    "vocab = vectorize_layer.get_vocabulary()\n",
    "word_index = dict(zip(vocab, range(len(vocab))))  # Mapping mot -> index\n",
    "\n",
    "# Dimension des embeddings GloVe\n",
    "embedding_dim = model_glove.vector_size  # 100 pour glove-twitter-100\n",
    "\n",
    "# Initialiser la matrice d'embeddings\n",
    "embedding_matrix = np.random.normal(scale=0.6, size=(len(vocab), embedding_dim))\n",
    "\n",
    "# Remplir la matrice d'embeddings avec les vecteurs GloVe\n",
    "for word, index in word_index.items():\n",
    "    if word in model_glove:\n",
    "        embedding_matrix[index] = model_glove[word]\n",
    "    else:\n",
    "        # Les mots non trouvés conservent le vecteur aléatoire\n",
    "        pass\n",
    "\n",
    "print(\"Matrice d'embeddings créée.\")"
   ]
  },
  {
   "cell_type": "code",
   "execution_count": null,
   "metadata": {},
   "outputs": [],
   "source": [
    "from tensorflow.keras.models import Sequential\n",
    "from tensorflow.keras.layers import Embedding, Flatten, Dense\n",
    "\n",
    "# Taille du vocabulaire\n",
    "vocab_size = len(vocab)\n",
    "\n",
    "# Construire le modèle\n",
    "model = Sequential([\n",
    "    vectorize_layer,  # Couche de prétraitement\n",
    "    Embedding(\n",
    "        input_dim=vocab_size,\n",
    "        output_dim=embedding_dim,\n",
    "        weights=[embedding_matrix],\n",
    "        input_length=100,   # Doit correspondre à output_sequence_length\n",
    "        trainable=False     # True si vous souhaitez affiner les embeddings\n",
    "    ),\n",
    "    Flatten(),\n",
    "    Dense(128, activation='relu'),\n",
    "    Dense(1, activation='sigmoid')  # Exemple pour classification binaire\n",
    "])\n",
    "\n",
    "# Compiler le modèle\n",
    "model.compile(optimizer='adam',\n",
    "              loss='binary_crossentropy',\n",
    "              metrics=['accuracy'])\n",
    "\n",
    "model.summary()"
   ]
  },
  {
   "cell_type": "code",
   "execution_count": null,
   "metadata": {},
   "outputs": [],
   "source": [
    "history = model_keras.fit(\n",
    "    train_ds, epochs=10, batch_size=batch_size, validation_data=val_ds\n",
    ")"
   ]
  },
  {
   "cell_type": "markdown",
   "metadata": {},
   "source": [
    "## **FASTTEXT EMBEDDINGS + CUSTOM NN**"
   ]
  },
  {
   "cell_type": "code",
   "execution_count": null,
   "metadata": {},
   "outputs": [],
   "source": [
    "import fasttext\n",
    "from huggingface_hub import hf_hub_download"
   ]
  },
  {
   "cell_type": "code",
   "execution_count": null,
   "metadata": {},
   "outputs": [],
   "source": [
    "# Load fasttext embeddings trained on twitter data\n",
    "model_path = hf_hub_download(\n",
    "    repo_id=\"facebook/fasttext-en-vectors\", filename=\"model.bin\"\n",
    ")\n",
    "model = fasttext.load_model(model_path)"
   ]
  },
  {
   "cell_type": "code",
   "execution_count": null,
   "metadata": {},
   "outputs": [],
   "source": []
  },
  {
   "cell_type": "code",
   "execution_count": null,
   "metadata": {},
   "outputs": [],
   "source": [
    "embedding_dim = len(model[\"hello\"])\n",
    "max_features = len(model.words)"
   ]
  },
  {
   "cell_type": "code",
   "execution_count": null,
   "metadata": {},
   "outputs": [
    {
     "name": "stdout",
     "output_type": "stream",
     "text": [
      "Embedding dimension: 300\n",
      "Max features: 2000000\n"
     ]
    }
   ],
   "source": [
    "print(\"Embedding dimension:\", embedding_dim)\n",
    "print(\"Max features:\", max_features)"
   ]
  },
  {
   "cell_type": "code",
   "execution_count": null,
   "metadata": {},
   "outputs": [
    {
     "data": {
      "text/plain": [
       "(2000000, 300)"
      ]
     },
     "metadata": {},
     "output_type": "display_data"
    }
   ],
   "source": [
    "embedding_matrix = np.zeros((max_features, embedding_dim))\n",
    "embedding_matrix.shape"
   ]
  },
  {
   "cell_type": "code",
   "execution_count": null,
   "metadata": {},
   "outputs": [],
   "source": [
    "for i, word in enumerate(model.words):\n",
    "    embedding_matrix[i] = model[word]"
   ]
  },
  {
   "cell_type": "code",
   "execution_count": null,
   "metadata": {},
   "outputs": [
    {
     "name": "stderr",
     "output_type": "stream",
     "text": [
      "2024-11-01 19:27:20.200159: I tensorflow/core/platform/cpu_feature_guard.cc:193] This TensorFlow binary is optimized with oneAPI Deep Neural Network Library (oneDNN) to use the following CPU instructions in performance-critical operations:  AVX2 FMA\n",
      "To enable them in other operations, rebuild TensorFlow with the appropriate compiler flags.\n",
      "2024-11-01 19:27:20.203769: I tensorflow/c/logging.cc:34] DirectML: creating device on adapter 0 (AMD Radeon RX 6700 XT)\n",
      "Dropped Escape call with ulEscapeCode : 0x03007703\n",
      "2024-11-01 19:27:20.700907: I tensorflow/core/common_runtime/pluggable_device/pluggable_device_factory.cc:306] Could not identify NUMA node of platform GPU ID 0, defaulting to 0. Your kernel may not have been built with NUMA support.\n",
      "2024-11-01 19:27:20.701647: W tensorflow/core/common_runtime/pluggable_device/pluggable_device_bfc_allocator.cc:28] Overriding allow_growth setting because force_memory_growth was requested by the device.\n",
      "2024-11-01 19:27:20.702266: I tensorflow/core/common_runtime/pluggable_device/pluggable_device_factory.cc:272] Created TensorFlow device (/job:localhost/replica:0/task:0/device:GPU:0 with 25405 MB memory) -> physical PluggableDevice (device: 0, name: DML, pci bus id: <undefined>)\n"
     ]
    }
   ],
   "source": [
    "col_name = \"text\"\n",
    "train_ds, val_ds, test_ds = tf_ds_split(\n",
    "    X_train,\n",
    "    X_test,\n",
    "    y_train,\n",
    "    y_test,\n",
    "    col_name,\n",
    ")"
   ]
  },
  {
   "cell_type": "code",
   "execution_count": null,
   "metadata": {},
   "outputs": [
    {
     "name": "stdout",
     "output_type": "stream",
     "text": [
      "(<tf.Tensor: shape=(32,), dtype=string, numpy=\n",
      "array([b\"I love asparagus. I just thouht I'd express my vegetable love seeing as Dad's watching about it on The One Show \",\n",
      "       b'arrrrhhh, i did it again i past 100 and now 200 i was gunna say it was my 200th update but i didnt get to again ',\n",
      "       b\"Losing one's phone in the house while it's set to &quot;silent&quot; is not the best. \",\n",
      "       b'how do you deal with a long distance relationship help??? ',\n",
      "       b'BORED of packing ',\n",
      "       b\"@duckierenee I've just read that, you're EVIL and when are you coming to cook for me? \",\n",
      "       b\"@iphone_dev Not having a Mac means I can't use pwnage so  can't get the Egg \",\n",
      "       b'@wickedgirl24 glad you like it ',\n",
      "       b'I am feeling like Donald Trump today.  This morning needs to get in line.  ',\n",
      "       b\"@PleaseBiteMe It's totally fair \",\n",
      "       b\"anti-gay protesters dwntwn make mooncheez sad  we support 1st amendmnt rights, but don't agree with the msg. everyone should have rights!\",\n",
      "       b'@Saphira_blue Good. You are progressing mashallah ',\n",
      "       b\"@alyssagreco Don't actually, I would share with you but I am no where near you \",\n",
      "       b'@dunkindonuts_ yeah bubu   *ouch* where were you?? i was waitin',\n",
      "       b\"@fiiiwhore don't fail  goood luckkkk\",\n",
      "       b'@simondoggett @katematlock  so far sofa is looking like a DFS job and the bed... Well I had a few suggestions on that!',\n",
      "       b'i am bored out of mind during summer 09 ',\n",
      "       b\"Small favors: on a full flight, it seems I have an aisle with one of the only free middle seats.  let's hope it stays that way.\",\n",
      "       b'Post mortem ',\n",
      "       b'Ugh, me not being able to type properly = too early for twitter!! The gym opens in 23 mins!! Bye Tweetie Pies ',\n",
      "       b'@JohnLloydTaylor I started screaming when I saw you on JONAS. It was so cool! You rock  &lt;3',\n",
      "       b\"I have a migraine, I'm nauseous, my hands are shaking, and I'm just realising how nice it used to be to have someone rub my back \",\n",
      "       b'Morning Tweets ', b'Just got in to work  ',\n",
      "       b\"Can't wait for tomorrow! \",\n",
      "       b'There are just sooo many articles to write. Goldie, missed you alr! Should have just go eat with you n xiaocui!  - http://tweet.sg',\n",
      "       b'last time washing my hair ',\n",
      "       b\"ahh, i'm bored! don't want to go to school tomorrow  xxxx\",\n",
      "       b'Been in my bed sick all day long.  fixing to attempt to eat something for the first time today.',\n",
      "       b\"@findingurstyle yeah tonight's a no no \",\n",
      "       b\"Just watched ''The notebook'' again \",\n",
      "       b'Putting new songs on my shuffle, and syncing them. '],\n",
      "      dtype=object)>, <tf.Tensor: shape=(32,), dtype=int8, numpy=\n",
      "array([1, 0, 0, 0, 0, 1, 0, 1, 0, 1, 0, 1, 0, 0, 1, 1, 0, 1, 0, 1, 1, 0,\n",
      "       1, 0, 1, 0, 0, 0, 0, 0, 1, 1], dtype=int8)>)\n"
     ]
    }
   ],
   "source": [
    "for row in train_ds.take(1):\n",
    "    print(row)"
   ]
  },
  {
   "cell_type": "code",
   "execution_count": null,
   "metadata": {},
   "outputs": [
    {
     "name": "stderr",
     "output_type": "stream",
     "text": [
      "2024-11-01 19:27:26.075378: I tensorflow/core/grappler/optimizers/custom_graph_optimizer_registry.cc:114] Plugin optimizer for device_type GPU is enabled.\n"
     ]
    }
   ],
   "source": [
    "# Define the parameters\n",
    "sequence_length = 100\n",
    "embedding_dim = embedding_dim\n",
    "\n",
    "# Create a text datagenerator for the training set\n",
    "vectorize_layer = TextVectorization(\n",
    "    standardize=custom_standardization,\n",
    "    max_tokens=max_features,\n",
    "    output_sequence_length=sequence_length,\n",
    "    output_mode=\"int\",\n",
    ")\n",
    "# Make a text-only dataset (without labels), then call adapt\n",
    "train_text = train_ds.map(lambda x, y: x)\n",
    "vectorize_layer.adapt(train_text)\n",
    "\n",
    "# Map the vectorize function to the train, val and test datasets\n",
    "train_ds = train_ds.map(vectorize_text)\n",
    "val_ds = val_ds.map(vectorize_text)\n",
    "test_ds = test_ds.map(vectorize_text)\n",
    "AUTOTUNE = tf.data.AUTOTUNE\n",
    "\n",
    "train_ds = train_ds.cache().prefetch(buffer_size=AUTOTUNE)\n",
    "val_ds = val_ds.cache().prefetch(buffer_size=AUTOTUNE)\n",
    "test_ds = test_ds.cache().prefetch(buffer_size=AUTOTUNE)\n"
   ]
  },
  {
   "cell_type": "code",
   "execution_count": null,
   "metadata": {},
   "outputs": [
    {
     "ename": "",
     "evalue": "",
     "output_type": "error",
     "traceback": [
      "\u001b[1;31mThe Kernel crashed while executing code in the current cell or a previous cell. \n",
      "\u001b[1;31mPlease review the code in the cell(s) to identify a possible cause of the failure. \n",
      "\u001b[1;31mClick <a href='https://aka.ms/vscodeJupyterKernelCrash'>here</a> for more info. \n",
      "\u001b[1;31mView Jupyter <a href='command:jupyter.viewOutput'>log</a> for further details."
     ]
    }
   ],
   "source": [
    "with tf.device(\"/GPU:0\"):\n",
    "    model = tf.keras.Sequential(\n",
    "        [\n",
    "            tf.keras.layers.Embedding(\n",
    "                input_dim=max_features,\n",
    "                output_dim=embedding_dim,\n",
    "                weights=[embedding_matrix],\n",
    "                trainable=False,\n",
    "                input_length=sequence_length,\n",
    "            ),\n",
    "            tf.keras.layers.Dropout(0.2),\n",
    "            tf.keras.layers.GlobalAveragePooling1D(),\n",
    "            tf.keras.layers.Dropout(0.2),\n",
    "            tf.keras.layers.Dense(1, activation=\"sigmoid\"),\n",
    "        ]\n",
    "    )\n",
    "\n",
    "model.summary()"
   ]
  },
  {
   "cell_type": "code",
   "execution_count": null,
   "metadata": {},
   "outputs": [],
   "source": [
    "model.compile(\n",
    "    loss=tf.losses.BinaryCrossentropy(),\n",
    "    optimizer=\"adam\",\n",
    "    metrics=[tf.metrics.BinaryAccuracy(threshold=0.5)],\n",
    ")"
   ]
  },
  {
   "cell_type": "code",
   "execution_count": null,
   "metadata": {},
   "outputs": [],
   "source": [
    "# Define callbacks\n",
    "callbacks = [\n",
    "    tf.keras.callbacks.EarlyStopping(monitor=\"val_loss\", mode=\"min\", patience=2),\n",
    "    tf.keras.callbacks.ModelCheckpoint(\n",
    "        filepath=f\"../weights/{col_name}_model.h5\",\n",
    "        monitor=\"val_loss\",\n",
    "        save_best_only=True,\n",
    "    ),\n",
    "]"
   ]
  },
  {
   "cell_type": "code",
   "execution_count": null,
   "metadata": {},
   "outputs": [
    {
     "name": "stdout",
     "output_type": "stream",
     "text": [
      "Epoch 1/10\n",
      "  19/3194 [..............................] - ETA: 18s - loss: 0.6929 - binary_accuracy: 0.5329"
     ]
    },
    {
     "name": "stderr",
     "output_type": "stream",
     "text": [
      "2024-11-01 19:13:25.634692: I tensorflow/core/grappler/optimizers/custom_graph_optimizer_registry.cc:114] Plugin optimizer for device_type GPU is enabled.\n",
      "2024-11-01 19:13:25.677225: I tensorflow/core/common_runtime/pluggable_device/pluggable_device_factory.cc:306] Could not identify NUMA node of platform GPU ID 0, defaulting to 0. Your kernel may not have been built with NUMA support.\n",
      "2024-11-01 19:13:25.677281: I tensorflow/core/common_runtime/pluggable_device/pluggable_device_factory.cc:272] Created TensorFlow device (/job:localhost/replica:0/task:0/device:GPU:0 with 25405 MB memory) -> physical PluggableDevice (device: 0, name: DML, pci bus id: <undefined>)\n"
     ]
    },
    {
     "name": "stdout",
     "output_type": "stream",
     "text": [
      "3188/3194 [============================>.] - ETA: 0s - loss: 0.6920 - binary_accuracy: 0.5206"
     ]
    },
    {
     "name": "stderr",
     "output_type": "stream",
     "text": [
      "2024-11-01 19:13:43.173326: I tensorflow/core/grappler/optimizers/custom_graph_optimizer_registry.cc:114] Plugin optimizer for device_type GPU is enabled.\n",
      "2024-11-01 19:13:43.187808: I tensorflow/core/common_runtime/pluggable_device/pluggable_device_factory.cc:306] Could not identify NUMA node of platform GPU ID 0, defaulting to 0. Your kernel may not have been built with NUMA support.\n",
      "2024-11-01 19:13:43.187853: I tensorflow/core/common_runtime/pluggable_device/pluggable_device_factory.cc:272] Created TensorFlow device (/job:localhost/replica:0/task:0/device:GPU:0 with 25405 MB memory) -> physical PluggableDevice (device: 0, name: DML, pci bus id: <undefined>)\n",
      "2024-11-01 19:13:44.955777: W tensorflow/core/framework/cpu_allocator_impl.cc:82] Allocation of 1200000000 exceeds 10% of free system memory.\n"
     ]
    },
    {
     "ename": "KeyboardInterrupt",
     "evalue": "",
     "output_type": "error",
     "traceback": [
      "\u001b[0;31m---------------------------------------------------------------------------\u001b[0m\n",
      "\u001b[0;31mKeyboardInterrupt\u001b[0m                         Traceback (most recent call last)\n",
      "Cell \u001b[0;32mIn[36], line 2\u001b[0m\n",
      "\u001b[1;32m      1\u001b[0m epochs \u001b[38;5;241m=\u001b[39m \u001b[38;5;241m10\u001b[39m\n",
      "\u001b[0;32m----> 2\u001b[0m history \u001b[38;5;241m=\u001b[39m \u001b[43mmodel\u001b[49m\u001b[38;5;241;43m.\u001b[39;49m\u001b[43mfit\u001b[49m\u001b[43m(\u001b[49m\n",
      "\u001b[1;32m      3\u001b[0m \u001b[43m    \u001b[49m\u001b[43mtrain_ds\u001b[49m\u001b[43m,\u001b[49m\n",
      "\u001b[1;32m      4\u001b[0m \u001b[43m    \u001b[49m\u001b[43mvalidation_data\u001b[49m\u001b[38;5;241;43m=\u001b[39;49m\u001b[43mval_ds\u001b[49m\u001b[43m,\u001b[49m\n",
      "\u001b[1;32m      5\u001b[0m \u001b[43m    \u001b[49m\u001b[43mepochs\u001b[49m\u001b[38;5;241;43m=\u001b[39;49m\u001b[43mepochs\u001b[49m\u001b[43m,\u001b[49m\n",
      "\u001b[1;32m      6\u001b[0m \u001b[43m    \u001b[49m\u001b[43mcallbacks\u001b[49m\u001b[38;5;241;43m=\u001b[39;49m\u001b[43mcallbacks\u001b[49m\u001b[43m,\u001b[49m\n",
      "\u001b[1;32m      7\u001b[0m \u001b[43m)\u001b[49m\n",
      "\n",
      "File \u001b[0;32m~/github_repo/dagshub_p7/.conda/lib/python3.10/site-packages/keras/utils/traceback_utils.py:65\u001b[0m, in \u001b[0;36mfilter_traceback.<locals>.error_handler\u001b[0;34m(*args, **kwargs)\u001b[0m\n",
      "\u001b[1;32m     63\u001b[0m filtered_tb \u001b[38;5;241m=\u001b[39m \u001b[38;5;28;01mNone\u001b[39;00m\n",
      "\u001b[1;32m     64\u001b[0m \u001b[38;5;28;01mtry\u001b[39;00m:\n",
      "\u001b[0;32m---> 65\u001b[0m     \u001b[38;5;28;01mreturn\u001b[39;00m \u001b[43mfn\u001b[49m\u001b[43m(\u001b[49m\u001b[38;5;241;43m*\u001b[39;49m\u001b[43margs\u001b[49m\u001b[43m,\u001b[49m\u001b[43m \u001b[49m\u001b[38;5;241;43m*\u001b[39;49m\u001b[38;5;241;43m*\u001b[39;49m\u001b[43mkwargs\u001b[49m\u001b[43m)\u001b[49m\n",
      "\u001b[1;32m     66\u001b[0m \u001b[38;5;28;01mexcept\u001b[39;00m \u001b[38;5;167;01mException\u001b[39;00m \u001b[38;5;28;01mas\u001b[39;00m e:\n",
      "\u001b[1;32m     67\u001b[0m     filtered_tb \u001b[38;5;241m=\u001b[39m _process_traceback_frames(e\u001b[38;5;241m.\u001b[39m__traceback__)\n",
      "\n",
      "File \u001b[0;32m~/github_repo/dagshub_p7/.conda/lib/python3.10/site-packages/keras/engine/training.py:1624\u001b[0m, in \u001b[0;36mModel.fit\u001b[0;34m(self, x, y, batch_size, epochs, verbose, callbacks, validation_split, validation_data, shuffle, class_weight, sample_weight, initial_epoch, steps_per_epoch, validation_steps, validation_batch_size, validation_freq, max_queue_size, workers, use_multiprocessing)\u001b[0m\n",
      "\u001b[1;32m   1619\u001b[0m     val_logs \u001b[38;5;241m=\u001b[39m {\n",
      "\u001b[1;32m   1620\u001b[0m         \u001b[38;5;124m\"\u001b[39m\u001b[38;5;124mval_\u001b[39m\u001b[38;5;124m\"\u001b[39m \u001b[38;5;241m+\u001b[39m name: val \u001b[38;5;28;01mfor\u001b[39;00m name, val \u001b[38;5;129;01min\u001b[39;00m val_logs\u001b[38;5;241m.\u001b[39mitems()\n",
      "\u001b[1;32m   1621\u001b[0m     }\n",
      "\u001b[1;32m   1622\u001b[0m     epoch_logs\u001b[38;5;241m.\u001b[39mupdate(val_logs)\n",
      "\u001b[0;32m-> 1624\u001b[0m \u001b[43mcallbacks\u001b[49m\u001b[38;5;241;43m.\u001b[39;49m\u001b[43mon_epoch_end\u001b[49m\u001b[43m(\u001b[49m\u001b[43mepoch\u001b[49m\u001b[43m,\u001b[49m\u001b[43m \u001b[49m\u001b[43mepoch_logs\u001b[49m\u001b[43m)\u001b[49m\n",
      "\u001b[1;32m   1625\u001b[0m training_logs \u001b[38;5;241m=\u001b[39m epoch_logs\n",
      "\u001b[1;32m   1626\u001b[0m \u001b[38;5;28;01mif\u001b[39;00m \u001b[38;5;28mself\u001b[39m\u001b[38;5;241m.\u001b[39mstop_training:\n",
      "\n",
      "File \u001b[0;32m~/github_repo/dagshub_p7/.conda/lib/python3.10/site-packages/keras/callbacks.py:448\u001b[0m, in \u001b[0;36mCallbackList.on_epoch_end\u001b[0;34m(self, epoch, logs)\u001b[0m\n",
      "\u001b[1;32m    446\u001b[0m logs \u001b[38;5;241m=\u001b[39m \u001b[38;5;28mself\u001b[39m\u001b[38;5;241m.\u001b[39m_process_logs(logs)\n",
      "\u001b[1;32m    447\u001b[0m \u001b[38;5;28;01mfor\u001b[39;00m callback \u001b[38;5;129;01min\u001b[39;00m \u001b[38;5;28mself\u001b[39m\u001b[38;5;241m.\u001b[39mcallbacks:\n",
      "\u001b[0;32m--> 448\u001b[0m     \u001b[43mcallback\u001b[49m\u001b[38;5;241;43m.\u001b[39;49m\u001b[43mon_epoch_end\u001b[49m\u001b[43m(\u001b[49m\u001b[43mepoch\u001b[49m\u001b[43m,\u001b[49m\u001b[43m \u001b[49m\u001b[43mlogs\u001b[49m\u001b[43m)\u001b[49m\n",
      "\n",
      "File \u001b[0;32m~/github_repo/dagshub_p7/.conda/lib/python3.10/site-packages/keras/callbacks.py:1463\u001b[0m, in \u001b[0;36mModelCheckpoint.on_epoch_end\u001b[0;34m(self, epoch, logs)\u001b[0m\n",
      "\u001b[1;32m   1460\u001b[0m \u001b[38;5;28mself\u001b[39m\u001b[38;5;241m.\u001b[39mepochs_since_last_save \u001b[38;5;241m+\u001b[39m\u001b[38;5;241m=\u001b[39m \u001b[38;5;241m1\u001b[39m\n",
      "\u001b[1;32m   1462\u001b[0m \u001b[38;5;28;01mif\u001b[39;00m \u001b[38;5;28mself\u001b[39m\u001b[38;5;241m.\u001b[39msave_freq \u001b[38;5;241m==\u001b[39m \u001b[38;5;124m\"\u001b[39m\u001b[38;5;124mepoch\u001b[39m\u001b[38;5;124m\"\u001b[39m:\n",
      "\u001b[0;32m-> 1463\u001b[0m     \u001b[38;5;28;43mself\u001b[39;49m\u001b[38;5;241;43m.\u001b[39;49m\u001b[43m_save_model\u001b[49m\u001b[43m(\u001b[49m\u001b[43mepoch\u001b[49m\u001b[38;5;241;43m=\u001b[39;49m\u001b[43mepoch\u001b[49m\u001b[43m,\u001b[49m\u001b[43m \u001b[49m\u001b[43mbatch\u001b[49m\u001b[38;5;241;43m=\u001b[39;49m\u001b[38;5;28;43;01mNone\u001b[39;49;00m\u001b[43m,\u001b[49m\u001b[43m \u001b[49m\u001b[43mlogs\u001b[49m\u001b[38;5;241;43m=\u001b[39;49m\u001b[43mlogs\u001b[49m\u001b[43m)\u001b[49m\n",
      "\n",
      "File \u001b[0;32m~/github_repo/dagshub_p7/.conda/lib/python3.10/site-packages/keras/callbacks.py:1528\u001b[0m, in \u001b[0;36mModelCheckpoint._save_model\u001b[0;34m(self, epoch, batch, logs)\u001b[0m\n",
      "\u001b[1;32m   1522\u001b[0m         \u001b[38;5;28mself\u001b[39m\u001b[38;5;241m.\u001b[39mmodel\u001b[38;5;241m.\u001b[39msave_weights(\n",
      "\u001b[1;32m   1523\u001b[0m             filepath,\n",
      "\u001b[1;32m   1524\u001b[0m             overwrite\u001b[38;5;241m=\u001b[39m\u001b[38;5;28;01mTrue\u001b[39;00m,\n",
      "\u001b[1;32m   1525\u001b[0m             options\u001b[38;5;241m=\u001b[39m\u001b[38;5;28mself\u001b[39m\u001b[38;5;241m.\u001b[39m_options,\n",
      "\u001b[1;32m   1526\u001b[0m         )\n",
      "\u001b[1;32m   1527\u001b[0m     \u001b[38;5;28;01melse\u001b[39;00m:\n",
      "\u001b[0;32m-> 1528\u001b[0m         \u001b[38;5;28;43mself\u001b[39;49m\u001b[38;5;241;43m.\u001b[39;49m\u001b[43mmodel\u001b[49m\u001b[38;5;241;43m.\u001b[39;49m\u001b[43msave\u001b[49m\u001b[43m(\u001b[49m\n",
      "\u001b[1;32m   1529\u001b[0m \u001b[43m            \u001b[49m\u001b[43mfilepath\u001b[49m\u001b[43m,\u001b[49m\n",
      "\u001b[1;32m   1530\u001b[0m \u001b[43m            \u001b[49m\u001b[43moverwrite\u001b[49m\u001b[38;5;241;43m=\u001b[39;49m\u001b[38;5;28;43;01mTrue\u001b[39;49;00m\u001b[43m,\u001b[49m\n",
      "\u001b[1;32m   1531\u001b[0m \u001b[43m            \u001b[49m\u001b[43moptions\u001b[49m\u001b[38;5;241;43m=\u001b[39;49m\u001b[38;5;28;43mself\u001b[39;49m\u001b[38;5;241;43m.\u001b[39;49m\u001b[43m_options\u001b[49m\u001b[43m,\u001b[49m\n",
      "\u001b[1;32m   1532\u001b[0m \u001b[43m        \u001b[49m\u001b[43m)\u001b[49m\n",
      "\u001b[1;32m   1533\u001b[0m \u001b[38;5;28;01melse\u001b[39;00m:\n",
      "\u001b[1;32m   1534\u001b[0m     \u001b[38;5;28;01mif\u001b[39;00m \u001b[38;5;28mself\u001b[39m\u001b[38;5;241m.\u001b[39mverbose \u001b[38;5;241m>\u001b[39m \u001b[38;5;241m0\u001b[39m:\n",
      "\n",
      "File \u001b[0;32m~/github_repo/dagshub_p7/.conda/lib/python3.10/site-packages/keras/utils/traceback_utils.py:65\u001b[0m, in \u001b[0;36mfilter_traceback.<locals>.error_handler\u001b[0;34m(*args, **kwargs)\u001b[0m\n",
      "\u001b[1;32m     63\u001b[0m filtered_tb \u001b[38;5;241m=\u001b[39m \u001b[38;5;28;01mNone\u001b[39;00m\n",
      "\u001b[1;32m     64\u001b[0m \u001b[38;5;28;01mtry\u001b[39;00m:\n",
      "\u001b[0;32m---> 65\u001b[0m     \u001b[38;5;28;01mreturn\u001b[39;00m \u001b[43mfn\u001b[49m\u001b[43m(\u001b[49m\u001b[38;5;241;43m*\u001b[39;49m\u001b[43margs\u001b[49m\u001b[43m,\u001b[49m\u001b[43m \u001b[49m\u001b[38;5;241;43m*\u001b[39;49m\u001b[38;5;241;43m*\u001b[39;49m\u001b[43mkwargs\u001b[49m\u001b[43m)\u001b[49m\n",
      "\u001b[1;32m     66\u001b[0m \u001b[38;5;28;01mexcept\u001b[39;00m \u001b[38;5;167;01mException\u001b[39;00m \u001b[38;5;28;01mas\u001b[39;00m e:\n",
      "\u001b[1;32m     67\u001b[0m     filtered_tb \u001b[38;5;241m=\u001b[39m _process_traceback_frames(e\u001b[38;5;241m.\u001b[39m__traceback__)\n",
      "\n",
      "File \u001b[0;32m~/github_repo/dagshub_p7/.conda/lib/python3.10/site-packages/keras/engine/training.py:2698\u001b[0m, in \u001b[0;36mModel.save\u001b[0;34m(self, filepath, overwrite, include_optimizer, save_format, signatures, options, save_traces)\u001b[0m\n",
      "\u001b[1;32m   2643\u001b[0m \u001b[38;5;129m@traceback_utils\u001b[39m\u001b[38;5;241m.\u001b[39mfilter_traceback\n",
      "\u001b[1;32m   2644\u001b[0m \u001b[38;5;28;01mdef\u001b[39;00m \u001b[38;5;21msave\u001b[39m(\n",
      "\u001b[1;32m   2645\u001b[0m     \u001b[38;5;28mself\u001b[39m,\n",
      "\u001b[0;32m   (...)\u001b[0m\n",
      "\u001b[1;32m   2652\u001b[0m     save_traces\u001b[38;5;241m=\u001b[39m\u001b[38;5;28;01mTrue\u001b[39;00m,\n",
      "\u001b[1;32m   2653\u001b[0m ):\n",
      "\u001b[1;32m   2655\u001b[0m \u001b[38;5;250m    \u001b[39m\u001b[38;5;124;03m\"\"\"Saves the model to Tensorflow SavedModel or a single HDF5 file.\u001b[39;00m\n",
      "\u001b[1;32m   2656\u001b[0m \n",
      "\u001b[1;32m   2657\u001b[0m \u001b[38;5;124;03m    Please see `tf.keras.models.save_model` or the\u001b[39;00m\n",
      "\u001b[0;32m   (...)\u001b[0m\n",
      "\u001b[1;32m   2695\u001b[0m \u001b[38;5;124;03m    ```\u001b[39;00m\n",
      "\u001b[1;32m   2696\u001b[0m \u001b[38;5;124;03m    \"\"\"\u001b[39;00m\n",
      "\u001b[0;32m-> 2698\u001b[0m     \u001b[43msave\u001b[49m\u001b[38;5;241;43m.\u001b[39;49m\u001b[43msave_model\u001b[49m\u001b[43m(\u001b[49m\n",
      "\u001b[1;32m   2699\u001b[0m \u001b[43m        \u001b[49m\u001b[38;5;28;43mself\u001b[39;49m\u001b[43m,\u001b[49m\n",
      "\u001b[1;32m   2700\u001b[0m \u001b[43m        \u001b[49m\u001b[43mfilepath\u001b[49m\u001b[43m,\u001b[49m\n",
      "\u001b[1;32m   2701\u001b[0m \u001b[43m        \u001b[49m\u001b[43moverwrite\u001b[49m\u001b[43m,\u001b[49m\n",
      "\u001b[1;32m   2702\u001b[0m \u001b[43m        \u001b[49m\u001b[43minclude_optimizer\u001b[49m\u001b[43m,\u001b[49m\n",
      "\u001b[1;32m   2703\u001b[0m \u001b[43m        \u001b[49m\u001b[43msave_format\u001b[49m\u001b[43m,\u001b[49m\n",
      "\u001b[1;32m   2704\u001b[0m \u001b[43m        \u001b[49m\u001b[43msignatures\u001b[49m\u001b[43m,\u001b[49m\n",
      "\u001b[1;32m   2705\u001b[0m \u001b[43m        \u001b[49m\u001b[43moptions\u001b[49m\u001b[43m,\u001b[49m\n",
      "\u001b[1;32m   2706\u001b[0m \u001b[43m        \u001b[49m\u001b[43msave_traces\u001b[49m\u001b[43m,\u001b[49m\n",
      "\u001b[1;32m   2707\u001b[0m \u001b[43m    \u001b[49m\u001b[43m)\u001b[49m\n",
      "\n",
      "File \u001b[0;32m~/github_repo/dagshub_p7/.conda/lib/python3.10/site-packages/keras/utils/traceback_utils.py:65\u001b[0m, in \u001b[0;36mfilter_traceback.<locals>.error_handler\u001b[0;34m(*args, **kwargs)\u001b[0m\n",
      "\u001b[1;32m     63\u001b[0m filtered_tb \u001b[38;5;241m=\u001b[39m \u001b[38;5;28;01mNone\u001b[39;00m\n",
      "\u001b[1;32m     64\u001b[0m \u001b[38;5;28;01mtry\u001b[39;00m:\n",
      "\u001b[0;32m---> 65\u001b[0m     \u001b[38;5;28;01mreturn\u001b[39;00m \u001b[43mfn\u001b[49m\u001b[43m(\u001b[49m\u001b[38;5;241;43m*\u001b[39;49m\u001b[43margs\u001b[49m\u001b[43m,\u001b[49m\u001b[43m \u001b[49m\u001b[38;5;241;43m*\u001b[39;49m\u001b[38;5;241;43m*\u001b[39;49m\u001b[43mkwargs\u001b[49m\u001b[43m)\u001b[49m\n",
      "\u001b[1;32m     66\u001b[0m \u001b[38;5;28;01mexcept\u001b[39;00m \u001b[38;5;167;01mException\u001b[39;00m \u001b[38;5;28;01mas\u001b[39;00m e:\n",
      "\u001b[1;32m     67\u001b[0m     filtered_tb \u001b[38;5;241m=\u001b[39m _process_traceback_frames(e\u001b[38;5;241m.\u001b[39m__traceback__)\n",
      "\n",
      "File \u001b[0;32m~/github_repo/dagshub_p7/.conda/lib/python3.10/site-packages/keras/saving/save.py:161\u001b[0m, in \u001b[0;36msave_model\u001b[0;34m(model, filepath, overwrite, include_optimizer, save_format, signatures, options, save_traces)\u001b[0m\n",
      "\u001b[1;32m    150\u001b[0m     \u001b[38;5;28;01mif\u001b[39;00m \u001b[38;5;129;01mnot\u001b[39;00m model\u001b[38;5;241m.\u001b[39m_is_graph_network \u001b[38;5;129;01mand\u001b[39;00m \u001b[38;5;129;01mnot\u001b[39;00m \u001b[38;5;28misinstance\u001b[39m(\n",
      "\u001b[1;32m    151\u001b[0m         model, sequential\u001b[38;5;241m.\u001b[39mSequential\n",
      "\u001b[1;32m    152\u001b[0m     ):\n",
      "\u001b[1;32m    153\u001b[0m         \u001b[38;5;28;01mraise\u001b[39;00m \u001b[38;5;167;01mNotImplementedError\u001b[39;00m(\n",
      "\u001b[1;32m    154\u001b[0m             \u001b[38;5;124m\"\u001b[39m\u001b[38;5;124mSaving the model to HDF5 format requires the model to be a \u001b[39m\u001b[38;5;124m\"\u001b[39m\n",
      "\u001b[1;32m    155\u001b[0m             \u001b[38;5;124m\"\u001b[39m\u001b[38;5;124mFunctional model or a Sequential model. It does not work for \u001b[39m\u001b[38;5;124m\"\u001b[39m\n",
      "\u001b[0;32m   (...)\u001b[0m\n",
      "\u001b[1;32m    159\u001b[0m             \u001b[38;5;124m'\u001b[39m\u001b[38;5;124msetting save_format=\u001b[39m\u001b[38;5;124m\"\u001b[39m\u001b[38;5;124mtf\u001b[39m\u001b[38;5;124m\"\u001b[39m\u001b[38;5;124m) or using `save_weights`.\u001b[39m\u001b[38;5;124m'\u001b[39m\n",
      "\u001b[1;32m    160\u001b[0m         )\n",
      "\u001b[0;32m--> 161\u001b[0m     \u001b[43mhdf5_format\u001b[49m\u001b[38;5;241;43m.\u001b[39;49m\u001b[43msave_model_to_hdf5\u001b[49m\u001b[43m(\u001b[49m\n",
      "\u001b[1;32m    162\u001b[0m \u001b[43m        \u001b[49m\u001b[43mmodel\u001b[49m\u001b[43m,\u001b[49m\u001b[43m \u001b[49m\u001b[43mfilepath\u001b[49m\u001b[43m,\u001b[49m\u001b[43m \u001b[49m\u001b[43moverwrite\u001b[49m\u001b[43m,\u001b[49m\u001b[43m \u001b[49m\u001b[43minclude_optimizer\u001b[49m\n",
      "\u001b[1;32m    163\u001b[0m \u001b[43m    \u001b[49m\u001b[43m)\u001b[49m\n",
      "\u001b[1;32m    164\u001b[0m \u001b[38;5;28;01melse\u001b[39;00m:\n",
      "\u001b[1;32m    165\u001b[0m     \u001b[38;5;28;01mwith\u001b[39;00m generic_utils\u001b[38;5;241m.\u001b[39mSharedObjectSavingScope():\n",
      "\n",
      "File \u001b[0;32m~/github_repo/dagshub_p7/.conda/lib/python3.10/site-packages/keras/saving/hdf5_format.py:126\u001b[0m, in \u001b[0;36msave_model_to_hdf5\u001b[0;34m(model, filepath, overwrite, include_optimizer)\u001b[0m\n",
      "\u001b[1;32m    123\u001b[0m         f\u001b[38;5;241m.\u001b[39mattrs[k] \u001b[38;5;241m=\u001b[39m v\n",
      "\u001b[1;32m    125\u001b[0m model_weights_group \u001b[38;5;241m=\u001b[39m f\u001b[38;5;241m.\u001b[39mcreate_group(\u001b[38;5;124m\"\u001b[39m\u001b[38;5;124mmodel_weights\u001b[39m\u001b[38;5;124m\"\u001b[39m)\n",
      "\u001b[0;32m--> 126\u001b[0m \u001b[43msave_weights_to_hdf5_group\u001b[49m\u001b[43m(\u001b[49m\u001b[43mmodel_weights_group\u001b[49m\u001b[43m,\u001b[49m\u001b[43m \u001b[49m\u001b[43mmodel\u001b[49m\u001b[43m)\u001b[49m\n",
      "\u001b[1;32m    128\u001b[0m \u001b[38;5;66;03m# TODO(b/128683857): Add integration tests between tf.keras and external\u001b[39;00m\n",
      "\u001b[1;32m    129\u001b[0m \u001b[38;5;66;03m# Keras, to avoid breaking TF.js users.\u001b[39;00m\n",
      "\u001b[1;32m    130\u001b[0m \u001b[38;5;28;01mif\u001b[39;00m \u001b[38;5;28misinstance\u001b[39m(model\u001b[38;5;241m.\u001b[39moptimizer, optimizer_experimental\u001b[38;5;241m.\u001b[39mOptimizer):\n",
      "\n",
      "File \u001b[0;32m~/github_repo/dagshub_p7/.conda/lib/python3.10/site-packages/keras/saving/hdf5_format.py:755\u001b[0m, in \u001b[0;36msave_weights_to_hdf5_group\u001b[0;34m(f, model)\u001b[0m\n",
      "\u001b[1;32m    753\u001b[0m     g \u001b[38;5;241m=\u001b[39m f\u001b[38;5;241m.\u001b[39mcreate_group(layer\u001b[38;5;241m.\u001b[39mname)\n",
      "\u001b[1;32m    754\u001b[0m     weights \u001b[38;5;241m=\u001b[39m _legacy_weights(layer)\n",
      "\u001b[0;32m--> 755\u001b[0m     \u001b[43msave_subset_weights_to_hdf5_group\u001b[49m\u001b[43m(\u001b[49m\u001b[43mg\u001b[49m\u001b[43m,\u001b[49m\u001b[43m \u001b[49m\u001b[43mweights\u001b[49m\u001b[43m)\u001b[49m\n",
      "\u001b[1;32m    756\u001b[0m weights \u001b[38;5;241m=\u001b[39m model\u001b[38;5;241m.\u001b[39m_trainable_weights \u001b[38;5;241m+\u001b[39m model\u001b[38;5;241m.\u001b[39m_non_trainable_weights\n",
      "\u001b[1;32m    757\u001b[0m g \u001b[38;5;241m=\u001b[39m f\u001b[38;5;241m.\u001b[39mcreate_group(\u001b[38;5;124m\"\u001b[39m\u001b[38;5;124mtop_level_model_weights\u001b[39m\u001b[38;5;124m\"\u001b[39m)\n",
      "\n",
      "File \u001b[0;32m~/github_repo/dagshub_p7/.conda/lib/python3.10/site-packages/keras/saving/hdf5_format.py:723\u001b[0m, in \u001b[0;36msave_subset_weights_to_hdf5_group\u001b[0;34m(f, weights)\u001b[0m\n",
      "\u001b[1;32m    716\u001b[0m \u001b[38;5;28;01mdef\u001b[39;00m \u001b[38;5;21msave_subset_weights_to_hdf5_group\u001b[39m(f, weights):\n",
      "\u001b[1;32m    717\u001b[0m \u001b[38;5;250m    \u001b[39m\u001b[38;5;124;03m\"\"\"Save top-level weights of a model to a HDF5 group.\u001b[39;00m\n",
      "\u001b[1;32m    718\u001b[0m \n",
      "\u001b[1;32m    719\u001b[0m \u001b[38;5;124;03m    Args:\u001b[39;00m\n",
      "\u001b[1;32m    720\u001b[0m \u001b[38;5;124;03m        f: HDF5 group.\u001b[39;00m\n",
      "\u001b[1;32m    721\u001b[0m \u001b[38;5;124;03m        weights: List of weight variables.\u001b[39;00m\n",
      "\u001b[1;32m    722\u001b[0m \u001b[38;5;124;03m    \"\"\"\u001b[39;00m\n",
      "\u001b[0;32m--> 723\u001b[0m     weight_values \u001b[38;5;241m=\u001b[39m \u001b[43mbackend\u001b[49m\u001b[38;5;241;43m.\u001b[39;49m\u001b[43mbatch_get_value\u001b[49m\u001b[43m(\u001b[49m\u001b[43mweights\u001b[49m\u001b[43m)\u001b[49m\n",
      "\u001b[1;32m    724\u001b[0m     weight_names \u001b[38;5;241m=\u001b[39m [w\u001b[38;5;241m.\u001b[39mname\u001b[38;5;241m.\u001b[39mencode(\u001b[38;5;124m\"\u001b[39m\u001b[38;5;124mutf8\u001b[39m\u001b[38;5;124m\"\u001b[39m) \u001b[38;5;28;01mfor\u001b[39;00m w \u001b[38;5;129;01min\u001b[39;00m weights]\n",
      "\u001b[1;32m    725\u001b[0m     save_attributes_to_hdf5_group(f, \u001b[38;5;124m\"\u001b[39m\u001b[38;5;124mweight_names\u001b[39m\u001b[38;5;124m\"\u001b[39m, weight_names)\n",
      "\n",
      "File \u001b[0;32m~/github_repo/dagshub_p7/.conda/lib/python3.10/site-packages/tensorflow/python/util/traceback_utils.py:150\u001b[0m, in \u001b[0;36mfilter_traceback.<locals>.error_handler\u001b[0;34m(*args, **kwargs)\u001b[0m\n",
      "\u001b[1;32m    148\u001b[0m filtered_tb \u001b[38;5;241m=\u001b[39m \u001b[38;5;28;01mNone\u001b[39;00m\n",
      "\u001b[1;32m    149\u001b[0m \u001b[38;5;28;01mtry\u001b[39;00m:\n",
      "\u001b[0;32m--> 150\u001b[0m   \u001b[38;5;28;01mreturn\u001b[39;00m \u001b[43mfn\u001b[49m\u001b[43m(\u001b[49m\u001b[38;5;241;43m*\u001b[39;49m\u001b[43margs\u001b[49m\u001b[43m,\u001b[49m\u001b[43m \u001b[49m\u001b[38;5;241;43m*\u001b[39;49m\u001b[38;5;241;43m*\u001b[39;49m\u001b[43mkwargs\u001b[49m\u001b[43m)\u001b[49m\n",
      "\u001b[1;32m    151\u001b[0m \u001b[38;5;28;01mexcept\u001b[39;00m \u001b[38;5;167;01mException\u001b[39;00m \u001b[38;5;28;01mas\u001b[39;00m e:\n",
      "\u001b[1;32m    152\u001b[0m   filtered_tb \u001b[38;5;241m=\u001b[39m _process_traceback_frames(e\u001b[38;5;241m.\u001b[39m__traceback__)\n",
      "\n",
      "File \u001b[0;32m~/github_repo/dagshub_p7/.conda/lib/python3.10/site-packages/tensorflow/python/util/dispatch.py:1176\u001b[0m, in \u001b[0;36madd_dispatch_support.<locals>.decorator.<locals>.op_dispatch_handler\u001b[0;34m(*args, **kwargs)\u001b[0m\n",
      "\u001b[1;32m   1174\u001b[0m \u001b[38;5;66;03m# Fallback dispatch system (dispatch v1):\u001b[39;00m\n",
      "\u001b[1;32m   1175\u001b[0m \u001b[38;5;28;01mtry\u001b[39;00m:\n",
      "\u001b[0;32m-> 1176\u001b[0m   \u001b[38;5;28;01mreturn\u001b[39;00m \u001b[43mdispatch_target\u001b[49m\u001b[43m(\u001b[49m\u001b[38;5;241;43m*\u001b[39;49m\u001b[43margs\u001b[49m\u001b[43m,\u001b[49m\u001b[43m \u001b[49m\u001b[38;5;241;43m*\u001b[39;49m\u001b[38;5;241;43m*\u001b[39;49m\u001b[43mkwargs\u001b[49m\u001b[43m)\u001b[49m\n",
      "\u001b[1;32m   1177\u001b[0m \u001b[38;5;28;01mexcept\u001b[39;00m (\u001b[38;5;167;01mTypeError\u001b[39;00m, \u001b[38;5;167;01mValueError\u001b[39;00m):\n",
      "\u001b[1;32m   1178\u001b[0m   \u001b[38;5;66;03m# Note: convert_to_eager_tensor currently raises a ValueError, not a\u001b[39;00m\n",
      "\u001b[1;32m   1179\u001b[0m   \u001b[38;5;66;03m# TypeError, when given unexpected types.  So we need to catch both.\u001b[39;00m\n",
      "\u001b[1;32m   1180\u001b[0m   result \u001b[38;5;241m=\u001b[39m dispatch(op_dispatch_handler, args, kwargs)\n",
      "\n",
      "File \u001b[0;32m~/github_repo/dagshub_p7/.conda/lib/python3.10/site-packages/keras/backend.py:4240\u001b[0m, in \u001b[0;36mbatch_get_value\u001b[0;34m(tensors)\u001b[0m\n",
      "\u001b[1;32m   4228\u001b[0m \u001b[38;5;250m\u001b[39m\u001b[38;5;124;03m\"\"\"Returns the value of more than one tensor variable.\u001b[39;00m\n",
      "\u001b[1;32m   4229\u001b[0m \n",
      "\u001b[1;32m   4230\u001b[0m \u001b[38;5;124;03mArgs:\u001b[39;00m\n",
      "\u001b[0;32m   (...)\u001b[0m\n",
      "\u001b[1;32m   4237\u001b[0m \u001b[38;5;124;03m    RuntimeError: If this method is called inside defun.\u001b[39;00m\n",
      "\u001b[1;32m   4238\u001b[0m \u001b[38;5;124;03m\"\"\"\u001b[39;00m\n",
      "\u001b[1;32m   4239\u001b[0m \u001b[38;5;28;01mif\u001b[39;00m tf\u001b[38;5;241m.\u001b[39mexecuting_eagerly():\n",
      "\u001b[0;32m-> 4240\u001b[0m     \u001b[38;5;28;01mreturn\u001b[39;00m [x\u001b[38;5;241m.\u001b[39mnumpy() \u001b[38;5;28;01mfor\u001b[39;00m x \u001b[38;5;129;01min\u001b[39;00m tensors]\n",
      "\u001b[1;32m   4241\u001b[0m \u001b[38;5;28;01melif\u001b[39;00m tf\u001b[38;5;241m.\u001b[39minside_function():\n",
      "\u001b[1;32m   4242\u001b[0m     \u001b[38;5;28;01mraise\u001b[39;00m \u001b[38;5;167;01mRuntimeError\u001b[39;00m(\u001b[38;5;124m\"\u001b[39m\u001b[38;5;124mCannot get value inside Tensorflow graph function.\u001b[39m\u001b[38;5;124m\"\u001b[39m)\n",
      "\n",
      "File \u001b[0;32m~/github_repo/dagshub_p7/.conda/lib/python3.10/site-packages/keras/backend.py:4240\u001b[0m, in \u001b[0;36m<listcomp>\u001b[0;34m(.0)\u001b[0m\n",
      "\u001b[1;32m   4228\u001b[0m \u001b[38;5;250m\u001b[39m\u001b[38;5;124;03m\"\"\"Returns the value of more than one tensor variable.\u001b[39;00m\n",
      "\u001b[1;32m   4229\u001b[0m \n",
      "\u001b[1;32m   4230\u001b[0m \u001b[38;5;124;03mArgs:\u001b[39;00m\n",
      "\u001b[0;32m   (...)\u001b[0m\n",
      "\u001b[1;32m   4237\u001b[0m \u001b[38;5;124;03m    RuntimeError: If this method is called inside defun.\u001b[39;00m\n",
      "\u001b[1;32m   4238\u001b[0m \u001b[38;5;124;03m\"\"\"\u001b[39;00m\n",
      "\u001b[1;32m   4239\u001b[0m \u001b[38;5;28;01mif\u001b[39;00m tf\u001b[38;5;241m.\u001b[39mexecuting_eagerly():\n",
      "\u001b[0;32m-> 4240\u001b[0m     \u001b[38;5;28;01mreturn\u001b[39;00m [\u001b[43mx\u001b[49m\u001b[38;5;241;43m.\u001b[39;49m\u001b[43mnumpy\u001b[49m\u001b[43m(\u001b[49m\u001b[43m)\u001b[49m \u001b[38;5;28;01mfor\u001b[39;00m x \u001b[38;5;129;01min\u001b[39;00m tensors]\n",
      "\u001b[1;32m   4241\u001b[0m \u001b[38;5;28;01melif\u001b[39;00m tf\u001b[38;5;241m.\u001b[39minside_function():\n",
      "\u001b[1;32m   4242\u001b[0m     \u001b[38;5;28;01mraise\u001b[39;00m \u001b[38;5;167;01mRuntimeError\u001b[39;00m(\u001b[38;5;124m\"\u001b[39m\u001b[38;5;124mCannot get value inside Tensorflow graph function.\u001b[39m\u001b[38;5;124m\"\u001b[39m)\n",
      "\n",
      "File \u001b[0;32m~/github_repo/dagshub_p7/.conda/lib/python3.10/site-packages/tensorflow/python/ops/resource_variable_ops.py:637\u001b[0m, in \u001b[0;36mBaseResourceVariable.numpy\u001b[0;34m(self)\u001b[0m\n",
      "\u001b[1;32m    635\u001b[0m \u001b[38;5;28;01mdef\u001b[39;00m \u001b[38;5;21mnumpy\u001b[39m(\u001b[38;5;28mself\u001b[39m):\n",
      "\u001b[1;32m    636\u001b[0m   \u001b[38;5;28;01mif\u001b[39;00m context\u001b[38;5;241m.\u001b[39mexecuting_eagerly():\n",
      "\u001b[0;32m--> 637\u001b[0m     \u001b[38;5;28;01mreturn\u001b[39;00m \u001b[38;5;28;43mself\u001b[39;49m\u001b[38;5;241;43m.\u001b[39;49m\u001b[43mread_value\u001b[49m\u001b[43m(\u001b[49m\u001b[43m)\u001b[49m\u001b[38;5;241;43m.\u001b[39;49m\u001b[43mnumpy\u001b[49m\u001b[43m(\u001b[49m\u001b[43m)\u001b[49m\n",
      "\u001b[1;32m    638\u001b[0m   \u001b[38;5;28;01mraise\u001b[39;00m \u001b[38;5;167;01mNotImplementedError\u001b[39;00m(\n",
      "\u001b[1;32m    639\u001b[0m       \u001b[38;5;124m\"\u001b[39m\u001b[38;5;124mnumpy() is only available when eager execution is enabled.\u001b[39m\u001b[38;5;124m\"\u001b[39m)\n",
      "\n",
      "File \u001b[0;32m~/github_repo/dagshub_p7/.conda/lib/python3.10/site-packages/tensorflow/python/framework/ops.py:1157\u001b[0m, in \u001b[0;36m_EagerTensorBase.numpy\u001b[0;34m(self)\u001b[0m\n",
      "\u001b[1;32m   1134\u001b[0m \u001b[38;5;250m\u001b[39m\u001b[38;5;124;03m\"\"\"Copy of the contents of this Tensor into a NumPy array or scalar.\u001b[39;00m\n",
      "\u001b[1;32m   1135\u001b[0m \n",
      "\u001b[1;32m   1136\u001b[0m \u001b[38;5;124;03mUnlike NumPy arrays, Tensors are immutable, so this method has to copy\u001b[39;00m\n",
      "\u001b[0;32m   (...)\u001b[0m\n",
      "\u001b[1;32m   1154\u001b[0m \u001b[38;5;124;03m    NumPy dtype.\u001b[39;00m\n",
      "\u001b[1;32m   1155\u001b[0m \u001b[38;5;124;03m\"\"\"\u001b[39;00m\n",
      "\u001b[1;32m   1156\u001b[0m \u001b[38;5;66;03m# TODO(slebedev): Consider avoiding a copy for non-CPU or remote tensors.\u001b[39;00m\n",
      "\u001b[0;32m-> 1157\u001b[0m maybe_arr \u001b[38;5;241m=\u001b[39m \u001b[38;5;28;43mself\u001b[39;49m\u001b[38;5;241;43m.\u001b[39;49m\u001b[43m_numpy\u001b[49m\u001b[43m(\u001b[49m\u001b[43m)\u001b[49m  \u001b[38;5;66;03m# pylint: disable=protected-access\u001b[39;00m\n",
      "\u001b[1;32m   1158\u001b[0m \u001b[38;5;28;01mreturn\u001b[39;00m maybe_arr\u001b[38;5;241m.\u001b[39mcopy() \u001b[38;5;28;01mif\u001b[39;00m \u001b[38;5;28misinstance\u001b[39m(maybe_arr, np\u001b[38;5;241m.\u001b[39mndarray) \u001b[38;5;28;01melse\u001b[39;00m maybe_arr\n",
      "\n",
      "File \u001b[0;32m~/github_repo/dagshub_p7/.conda/lib/python3.10/site-packages/tensorflow/python/framework/ops.py:1123\u001b[0m, in \u001b[0;36m_EagerTensorBase._numpy\u001b[0;34m(self)\u001b[0m\n",
      "\u001b[1;32m   1121\u001b[0m \u001b[38;5;28;01mdef\u001b[39;00m \u001b[38;5;21m_numpy\u001b[39m(\u001b[38;5;28mself\u001b[39m):\n",
      "\u001b[1;32m   1122\u001b[0m   \u001b[38;5;28;01mtry\u001b[39;00m:\n",
      "\u001b[0;32m-> 1123\u001b[0m     \u001b[38;5;28;01mreturn\u001b[39;00m \u001b[38;5;28;43mself\u001b[39;49m\u001b[38;5;241;43m.\u001b[39;49m\u001b[43m_numpy_internal\u001b[49m\u001b[43m(\u001b[49m\u001b[43m)\u001b[49m\n",
      "\u001b[1;32m   1124\u001b[0m   \u001b[38;5;28;01mexcept\u001b[39;00m core\u001b[38;5;241m.\u001b[39m_NotOkStatusException \u001b[38;5;28;01mas\u001b[39;00m e:  \u001b[38;5;66;03m# pylint: disable=protected-access\u001b[39;00m\n",
      "\u001b[1;32m   1125\u001b[0m     \u001b[38;5;28;01mraise\u001b[39;00m core\u001b[38;5;241m.\u001b[39m_status_to_exception(e) \u001b[38;5;28;01mfrom\u001b[39;00m \u001b[38;5;28;01mNone\u001b[39;00m\n",
      "\n",
      "\u001b[0;31mKeyboardInterrupt\u001b[0m: "
     ]
    }
   ],
   "source": [
    "epochs = 10\n",
    "history = model.fit(\n",
    "    train_ds,\n",
    "    validation_data=val_ds,\n",
    "    epochs=epochs,\n",
    "    callbacks=callbacks,\n",
    ")"
   ]
  }
 ],
 "metadata": {
  "kernelspec": {
   "display_name": "Python 3",
   "language": "python",
   "name": "python3"
  },
  "language_info": {
   "codemirror_mode": {
    "name": "ipython",
    "version": 3
   },
   "file_extension": ".py",
   "mimetype": "text/x-python",
   "name": "python",
   "nbconvert_exporter": "python",
   "pygments_lexer": "ipython3",
   "version": "3.10.15"
  }
 },
 "nbformat": 4,
 "nbformat_minor": 2
}
